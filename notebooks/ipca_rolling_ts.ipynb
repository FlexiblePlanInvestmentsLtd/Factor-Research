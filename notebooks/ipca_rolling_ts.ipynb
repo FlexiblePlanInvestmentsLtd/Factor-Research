{
 "cells": [
  {
   "cell_type": "code",
   "execution_count": 1,
   "metadata": {},
   "outputs": [
    {
     "name": "stderr",
     "output_type": "stream",
     "text": [
      "/var/folders/vf/gw1t6f4j3mv84kp8kpw4j_bw0000gn/T/ipykernel_10080/3206257688.py:61: DeprecationWarning: DataFrameGroupBy.apply operated on the grouping columns. This behavior is deprecated, and in a future version of pandas the grouping columns will be excluded from the operation. Either pass `include_groups=False` to exclude the groupings or explicitly select the grouping columns after groupby to silence this warning.\n",
      "  result = crsp_features.groupby('date').apply(rankNormalize).reset_index(level=0, drop=True)\n",
      "/var/folders/vf/gw1t6f4j3mv84kp8kpw4j_bw0000gn/T/ipykernel_10080/3206257688.py:68: DeprecationWarning: DataFrameGroupBy.apply operated on the grouping columns. This behavior is deprecated, and in a future version of pandas the grouping columns will be excluded from the operation. Either pass `include_groups=False` to exclude the groupings or explicitly select the grouping columns after groupby to silence this warning.\n",
      "  result['lagged_ret'] = result.groupby('permno').apply(lag_returns).reset_index(level=0, drop=True)\n"
     ]
    }
   ],
   "source": [
    "import os\n",
    "import pandas as pd\n",
    "import numpy as np\n",
    "from tqdm import tqdm\n",
    "import sys\n",
    "sys.path.insert(0, \"../src/\")\n",
    "import importlib\n",
    "from util import ipca\n",
    "from sklearn.metrics import r2_score\n",
    "importlib.reload(ipca)\n",
    "import matplotlib.pyplot as plt\n",
    "import statsmodels.api as sm\n",
    "from sklearn.metrics import ndcg_score\n",
    "import seaborn as sns\n",
    "\n",
    "crsp_features = pd.read_csv(\"../data/ipca_features_final_L3Month.csv\")\n",
    "\n",
    "filepath = '/Users/jandh/Desktop/Old Desktop/od/2 Quarter/Flexible/snp1500.txt'\n",
    "\n",
    "with open(filepath, 'r') as f:\n",
    "    tickers = [line.strip() for line in f]\n",
    "\n",
    "snp_ticker_df = pd.DataFrame(crsp_features.groupby('permno')['ticker'].apply(lambda x: x.iloc[-1]),columns=['ticker'])\n",
    "snp_ticker_df = snp_ticker_df[snp_ticker_df['ticker'].isin(tickers)]\n",
    "\n",
    "crsp_features['date'] = pd.to_datetime(crsp_features['date'])\n",
    "\n",
    "market_df = pd.DataFrame(crsp_features.groupby('date')['vwretd'].last())\n",
    "\n",
    "# UnComment below for only snp1500 factor fit\n",
    "\n",
    "# crsp_features = crsp_features.loc[crsp_features.permno.isin(snp_ticker_df.index),:]\n",
    "## Test Train Split (TS Test) \n",
    "\n",
    "crsp_features['mkt_to_book'] = crsp_features['mktcap']/crsp_features['atq']\n",
    "y_column = ['ret']\n",
    "x_columns = ['vol','beta','mktcap','momentum','short_term_reversal','52wk_high','price_rel_52wk_high','idvol','unexp_vol','turnover','mkt_to_book','revtq', 'niq', 'atq', 'epsfxq', 'cheq',\n",
    "       'dlttq' ,'cogsq', 'oibdpq', 'cshoq']\n",
    "crsp_features = crsp_features[x_columns+y_column+['date','permno']]\n",
    "fund_features = ['revtq', 'niq', 'atq', 'epsfxq', 'cheq',\n",
    "       'dlttq', 'cogsq', 'oibdpq', 'cshoq']\n",
    "\n",
    "def rankNormalize(group):\n",
    "\n",
    "    all_columns = list(group.columns)\n",
    "    exclude_columns = ['permno', 'date','ret']\n",
    "    \n",
    "    # columns to normalize\n",
    "    columns_to_normalize = [col for col in all_columns if col not in exclude_columns]\n",
    "    \n",
    "    result = group.copy()\n",
    "    \n",
    "    # Apply rank normalization only to the columns that need it\n",
    "    result[columns_to_normalize] = (\n",
    "        group[columns_to_normalize].rank(axis=0, method='average') / \n",
    "        (group[columns_to_normalize].count())\n",
    "    ) - 0.5\n",
    "    \n",
    "    # Return the dataframe with all columns\n",
    "    return result\n",
    "result = crsp_features.groupby('date').apply(rankNormalize).reset_index(level=0, drop=True)\n",
    "\n",
    "\n",
    "def lag_returns(group):\n",
    "    return group['ret'].shift(-1)\n",
    "\n",
    "\n",
    "result['lagged_ret'] = result.groupby('permno').apply(lag_returns).reset_index(level=0, drop=True)\n",
    "\n",
    "result.drop(columns=['ret'],inplace=True)\n",
    "\n",
    "y_column = ['lagged_ret']\n",
    "result = result[~np.any(np.isnan(result), axis=1)]\n",
    "\n",
    "crsp_features = result.set_index([\"permno\", \"date\"])\n",
    "\n",
    "crsp_features = crsp_features[crsp_features.index.get_level_values(1)>pd.to_datetime('1994-01-01')]\n",
    "\n",
    "    "
   ]
  },
  {
   "cell_type": "code",
   "execution_count": 2,
   "metadata": {},
   "outputs": [],
   "source": [
    "test_date_start = pd.to_datetime(\"2018-01-01\")"
   ]
  },
  {
   "cell_type": "code",
   "execution_count": 3,
   "metadata": {},
   "outputs": [],
   "source": [
    "crsp_features_train = crsp_features.loc[crsp_features.index.get_level_values(1)<test_date_start]\n",
    "crsp_features_test = crsp_features.loc[crsp_features.index.get_level_values(1)>=test_date_start]"
   ]
  },
  {
   "cell_type": "markdown",
   "metadata": {},
   "source": [
    "# Test only on S&P Stocks"
   ]
  },
  {
   "cell_type": "code",
   "execution_count": 4,
   "metadata": {},
   "outputs": [],
   "source": [
    "y_test = crsp_features_test.loc[:,y_column]\n",
    "y_test = y_test.loc[y_test.index.get_level_values(0).isin(snp_ticker_df.index),y_column]"
   ]
  },
  {
   "cell_type": "code",
   "execution_count": 5,
   "metadata": {},
   "outputs": [
    {
     "data": {
      "text/plain": [
       "DatetimeIndex(['2018-01-31', '2018-02-28', '2018-03-29', '2018-04-30',\n",
       "               '2018-05-31', '2018-06-29', '2018-07-31', '2018-08-31',\n",
       "               '2018-09-28', '2018-10-31', '2018-11-30', '2018-12-31',\n",
       "               '2019-01-31', '2019-02-28', '2019-03-29', '2019-04-30',\n",
       "               '2019-05-31', '2019-06-28', '2019-07-31', '2019-08-30',\n",
       "               '2019-09-30', '2019-10-31', '2019-11-29', '2019-12-31',\n",
       "               '2020-01-31', '2020-02-28', '2020-03-31', '2020-04-30',\n",
       "               '2020-05-29', '2020-06-30', '2020-07-31', '2020-08-31',\n",
       "               '2020-09-30', '2020-10-30', '2020-11-30', '2020-12-31',\n",
       "               '2021-01-29', '2021-02-26', '2021-03-31', '2021-04-30',\n",
       "               '2021-05-28', '2021-06-30', '2021-07-30', '2021-08-31',\n",
       "               '2021-09-30', '2021-10-29', '2021-11-30', '2021-12-31',\n",
       "               '2022-01-31', '2022-02-28', '2022-03-31', '2022-04-29',\n",
       "               '2022-05-31', '2022-06-30', '2022-07-29', '2022-08-31',\n",
       "               '2022-09-30', '2022-10-31', '2022-11-30', '2022-12-30',\n",
       "               '2023-01-31', '2023-02-28', '2023-03-31', '2023-04-28',\n",
       "               '2023-05-31', '2023-06-30', '2023-07-31', '2023-08-31',\n",
       "               '2023-09-29', '2023-10-31', '2023-11-30', '2023-12-29',\n",
       "               '2024-01-31', '2024-02-29', '2024-03-28', '2024-04-30',\n",
       "               '2024-05-31', '2024-06-28', '2024-07-31', '2024-08-30',\n",
       "               '2024-09-30', '2024-10-31', '2024-11-29'],\n",
       "              dtype='datetime64[ns]', name='date', freq=None)"
      ]
     },
     "execution_count": 5,
     "metadata": {},
     "output_type": "execute_result"
    }
   ],
   "source": [
    "y_test.index.get_level_values(1).unique()"
   ]
  },
  {
   "cell_type": "code",
   "execution_count": 6,
   "metadata": {},
   "outputs": [],
   "source": [
    "n_factors = 5"
   ]
  },
  {
   "cell_type": "code",
   "execution_count": 7,
   "metadata": {},
   "outputs": [
    {
     "name": "stderr",
     "output_type": "stream",
     "text": [
      "[===                                                                     ]   5%                                ]   0%\r"
     ]
    },
    {
     "name": "stdout",
     "output_type": "stream",
     "text": [
      "The panel dimensions are:\n",
      "n_samples: 11176 , L: 20 , T: 288\n"
     ]
    },
    {
     "name": "stderr",
     "output_type": "stream",
     "text": [
      "[========================================================================] 100%\n"
     ]
    },
    {
     "name": "stdout",
     "output_type": "stream",
     "text": [
      "Step 1 - Aggregate Update: 1.0809252821896371\n",
      "Step 2 - Aggregate Update: 1.2429643848890755\n",
      "Step 3 - Aggregate Update: 0.1351289417154303\n",
      "Step 4 - Aggregate Update: 0.34709838154072337\n",
      "Step 5 - Aggregate Update: 1.5870699837245494\n",
      "Step 6 - Aggregate Update: 0.2598379022260339\n",
      "Step 7 - Aggregate Update: 0.21645512973477388\n",
      "Step 8 - Aggregate Update: 0.16371210048463375\n",
      "Step 9 - Aggregate Update: 0.11212216969461919\n",
      "Step 10 - Aggregate Update: 0.06931182706306581\n",
      "Step 11 - Aggregate Update: 0.038755027693844805\n",
      "Step 12 - Aggregate Update: 0.021047287153562792\n",
      "Step 13 - Aggregate Update: 0.011433944953690177\n",
      "Step 14 - Aggregate Update: 0.006824954874877692\n",
      "Step 15 - Aggregate Update: 0.004230286293856134\n",
      "Step 16 - Aggregate Update: 0.002634958837511442\n",
      "Step 17 - Aggregate Update: 0.001650825135036088\n",
      "Step 18 - Aggregate Update: 0.0010412322708131527\n",
      "Step 19 - Aggregate Update: 0.0006618969617562809\n",
      "Step 20 - Aggregate Update: 0.00042461073750904577\n",
      "Step 21 - Aggregate Update: 0.00027527929058321354\n",
      "Step 22 - Aggregate Update: 0.00018062913237312794\n",
      "Step 23 - Aggregate Update: 0.00012013240524089142\n",
      "Step 24 - Aggregate Update: 8.10843532347838e-05\n",
      "Step 25 - Aggregate Update: 6.182029185135968e-05\n",
      "Step 26 - Aggregate Update: 5.002477158053478e-05\n",
      "Step 27 - Aggregate Update: 4.015360826613648e-05\n",
      "Step 28 - Aggregate Update: 3.20634629894373e-05\n",
      "Step 29 - Aggregate Update: 2.551905539387514e-05\n",
      "Step 30 - Aggregate Update: 2.026883419286446e-05\n",
      "Step 31 - Aggregate Update: 1.607905840802365e-05\n",
      "Step 32 - Aggregate Update: 1.2746615478561457e-05\n",
      "Step 33 - Aggregate Update: 1.0101446274765613e-05\n",
      "Step 34 - Aggregate Update: 8.004288622229239e-06\n",
      "-- Convergence Reached --\n"
     ]
    },
    {
     "name": "stderr",
     "output_type": "stream",
     "text": [
      "  1%|          | 1/83 [00:11<15:57, 11.67s/it]"
     ]
    },
    {
     "name": "stdout",
     "output_type": "stream",
     "text": [
      "2018-01-31 00:00:00 0.09070973964130591\n"
     ]
    },
    {
     "name": "stderr",
     "output_type": "stream",
     "text": [
      "[===                                                                     ]   5%\r"
     ]
    },
    {
     "name": "stdout",
     "output_type": "stream",
     "text": [
      "The panel dimensions are:\n",
      "n_samples: 11191 , L: 20 , T: 289\n"
     ]
    },
    {
     "name": "stderr",
     "output_type": "stream",
     "text": [
      "[========================================================================] 100%\n"
     ]
    },
    {
     "name": "stdout",
     "output_type": "stream",
     "text": [
      "Step 1 - Aggregate Update: 1.078981270902821\n",
      "Step 2 - Aggregate Update: 1.239647684365515\n",
      "Step 3 - Aggregate Update: 0.13318973950460328\n",
      "Step 4 - Aggregate Update: 0.33225260690091785\n",
      "Step 5 - Aggregate Update: 1.6032260467929742\n",
      "Step 6 - Aggregate Update: 0.2673297500356565\n",
      "Step 7 - Aggregate Update: 0.20990636354336806\n",
      "Step 8 - Aggregate Update: 0.15466612732099802\n",
      "Step 9 - Aggregate Update: 0.10798591843183086\n",
      "Step 10 - Aggregate Update: 0.07295623666827493\n",
      "Step 11 - Aggregate Update: 0.0433390884126303\n",
      "Step 12 - Aggregate Update: 0.02393617750443282\n",
      "Step 13 - Aggregate Update: 0.012936376005974082\n",
      "Step 14 - Aggregate Update: 0.007084326055842777\n",
      "Step 15 - Aggregate Update: 0.004414523411783167\n",
      "Step 16 - Aggregate Update: 0.002769147046462278\n",
      "Step 17 - Aggregate Update: 0.0017507513416089304\n",
      "Step 18 - Aggregate Update: 0.0011170003275493001\n",
      "Step 19 - Aggregate Update: 0.0007201532293985569\n",
      "Step 20 - Aggregate Update: 0.00046986769852905286\n",
      "Step 21 - Aggregate Update: 0.0003106998743193645\n",
      "Step 22 - Aggregate Update: 0.00020849629883062937\n",
      "Step 23 - Aggregate Update: 0.0001689428007747469\n",
      "Step 24 - Aggregate Update: 0.00014021784280859352\n",
      "Step 25 - Aggregate Update: 0.00011459584526276115\n",
      "Step 26 - Aggregate Update: 9.271989617852614e-05\n",
      "Step 27 - Aggregate Update: 7.452318409147205e-05\n",
      "Step 28 - Aggregate Update: 5.963304775217365e-05\n",
      "Step 29 - Aggregate Update: 4.757737396713681e-05\n",
      "Step 30 - Aggregate Update: 3.788464219711945e-05\n",
      "Step 31 - Aggregate Update: 3.012778558403751e-05\n",
      "Step 32 - Aggregate Update: 2.3939239877469182e-05\n",
      "Step 33 - Aggregate Update: 1.9011926374096558e-05\n",
      "Step 34 - Aggregate Update: 1.5093986677477446e-05\n",
      "Step 35 - Aggregate Update: 1.1981276298709057e-05\n",
      "Step 36 - Aggregate Update: 9.509595922917342e-06\n",
      "-- Convergence Reached --\n"
     ]
    },
    {
     "name": "stderr",
     "output_type": "stream",
     "text": [
      "  2%|▏         | 2/83 [00:23<15:35, 11.55s/it]"
     ]
    },
    {
     "name": "stdout",
     "output_type": "stream",
     "text": [
      "2018-02-28 00:00:00 0.0908967421217638\n"
     ]
    },
    {
     "name": "stderr",
     "output_type": "stream",
     "text": [
      "[==                                                                      ]   4%\r"
     ]
    },
    {
     "name": "stdout",
     "output_type": "stream",
     "text": [
      "The panel dimensions are:\n",
      "n_samples: 11197 , L: 20 , T: 290\n"
     ]
    },
    {
     "name": "stderr",
     "output_type": "stream",
     "text": [
      "[========================================================================] 100%\n"
     ]
    },
    {
     "name": "stdout",
     "output_type": "stream",
     "text": [
      "Step 1 - Aggregate Update: 1.0779439185603688\n",
      "Step 2 - Aggregate Update: 1.2744826767137811\n",
      "Step 3 - Aggregate Update: 0.13119650649246983\n",
      "Step 4 - Aggregate Update: 0.370455996230254\n",
      "Step 5 - Aggregate Update: 0.2407637281164382\n",
      "Step 6 - Aggregate Update: 1.570124841925745\n",
      "Step 7 - Aggregate Update: 0.21224374759835823\n",
      "Step 8 - Aggregate Update: 0.1932453541752716\n",
      "Step 9 - Aggregate Update: 0.1340542336106839\n",
      "Step 10 - Aggregate Update: 0.09457924488940478\n",
      "Step 11 - Aggregate Update: 0.06095418918687165\n",
      "Step 12 - Aggregate Update: 0.034706441894402446\n",
      "Step 13 - Aggregate Update: 0.01885151362474788\n",
      "Step 14 - Aggregate Update: 0.01012429229268023\n",
      "Step 15 - Aggregate Update: 0.0060009415204983485\n",
      "Step 16 - Aggregate Update: 0.0037249325124053545\n",
      "Step 17 - Aggregate Update: 0.0023268238642705774\n",
      "Step 18 - Aggregate Update: 0.001464339208382237\n",
      "Step 19 - Aggregate Update: 0.0009295535473664851\n",
      "Step 20 - Aggregate Update: 0.0005960060221200658\n",
      "Step 21 - Aggregate Update: 0.00038655128488163104\n",
      "Step 22 - Aggregate Update: 0.0002539720383034627\n",
      "Step 23 - Aggregate Update: 0.00016926983411982843\n",
      "Step 24 - Aggregate Update: 0.00013648354126152493\n",
      "Step 25 - Aggregate Update: 0.00011218617734636525\n",
      "Step 26 - Aggregate Update: 9.094311579281415e-05\n",
      "Step 27 - Aggregate Update: 7.305796351203715e-05\n",
      "Step 28 - Aggregate Update: 5.834024420637955e-05\n",
      "Step 29 - Aggregate Update: 4.640315624696717e-05\n",
      "Step 30 - Aggregate Update: 3.681199230626091e-05\n",
      "Step 31 - Aggregate Update: 2.9153221468614793e-05\n",
      "Step 32 - Aggregate Update: 2.3062391336542074e-05\n",
      "Step 33 - Aggregate Update: 1.8231450048459066e-05\n",
      "Step 34 - Aggregate Update: 1.4406437403774452e-05\n",
      "Step 35 - Aggregate Update: 1.1381236971207825e-05\n",
      "Step 36 - Aggregate Update: 8.990237335811113e-06\n",
      "-- Convergence Reached --\n"
     ]
    },
    {
     "name": "stderr",
     "output_type": "stream",
     "text": [
      "  4%|▎         | 3/83 [00:34<15:26, 11.58s/it]"
     ]
    },
    {
     "name": "stdout",
     "output_type": "stream",
     "text": [
      "2018-03-29 00:00:00 0.09072902045655107\n"
     ]
    },
    {
     "name": "stderr",
     "output_type": "stream",
     "text": [
      "[==                                                                      ]   4%\r"
     ]
    },
    {
     "name": "stdout",
     "output_type": "stream",
     "text": [
      "The panel dimensions are:\n",
      "n_samples: 11210 , L: 20 , T: 291\n"
     ]
    },
    {
     "name": "stderr",
     "output_type": "stream",
     "text": [
      "[========================================================================] 100%\n"
     ]
    },
    {
     "name": "stdout",
     "output_type": "stream",
     "text": [
      "Step 1 - Aggregate Update: 1.076277420855292\n",
      "Step 2 - Aggregate Update: 1.2609806393997958\n",
      "Step 3 - Aggregate Update: 0.13233742224615788\n",
      "Step 4 - Aggregate Update: 0.13877628782187257\n",
      "Step 5 - Aggregate Update: 0.20282832519153055\n",
      "Step 6 - Aggregate Update: 1.5698805880692033\n",
      "Step 7 - Aggregate Update: 0.3422481515914798\n",
      "Step 8 - Aggregate Update: 0.2224683479051876\n",
      "Step 9 - Aggregate Update: 0.16036225269852128\n",
      "Step 10 - Aggregate Update: 0.10659717653607359\n",
      "Step 11 - Aggregate Update: 0.06934375443877101\n",
      "Step 12 - Aggregate Update: 0.041176849158680584\n",
      "Step 13 - Aggregate Update: 0.02309371571635279\n",
      "Step 14 - Aggregate Update: 0.012663377450210695\n",
      "Step 15 - Aggregate Update: 0.007258993778685524\n",
      "Step 16 - Aggregate Update: 0.004511678700381078\n",
      "Step 17 - Aggregate Update: 0.0028279123452297494\n",
      "Step 18 - Aggregate Update: 0.0017897008400250547\n",
      "Step 19 - Aggregate Update: 0.0011450109748405435\n",
      "Step 20 - Aggregate Update: 0.0007415454001623578\n",
      "Step 21 - Aggregate Update: 0.0004868221494918057\n",
      "Step 22 - Aggregate Update: 0.000324393529997441\n",
      "Step 23 - Aggregate Update: 0.0002364521035857223\n",
      "Step 24 - Aggregate Update: 0.0001996791692930617\n",
      "Step 25 - Aggregate Update: 0.00016497728327740432\n",
      "Step 26 - Aggregate Update: 0.00013437414598443508\n",
      "Step 27 - Aggregate Update: 0.00010840401522357879\n",
      "Step 28 - Aggregate Update: 8.688244684953474e-05\n",
      "Step 29 - Aggregate Update: 6.931966699018355e-05\n",
      "Step 30 - Aggregate Update: 5.5133960959549526e-05\n",
      "Step 31 - Aggregate Update: 4.375577575520262e-05\n",
      "Step 32 - Aggregate Update: 3.4673245355586364e-05\n",
      "Step 33 - Aggregate Update: 2.7447275184937225e-05\n",
      "Step 34 - Aggregate Update: 2.1711600786148907e-05\n",
      "Step 35 - Aggregate Update: 1.71661143437132e-05\n",
      "Step 36 - Aggregate Update: 1.356779838330123e-05\n",
      "Step 37 - Aggregate Update: 1.0721423366458205e-05\n",
      "Step 38 - Aggregate Update: 8.470999761035249e-06\n",
      "-- Convergence Reached --\n"
     ]
    },
    {
     "name": "stderr",
     "output_type": "stream",
     "text": [
      "  5%|▍         | 4/83 [00:46<15:19, 11.64s/it]"
     ]
    },
    {
     "name": "stdout",
     "output_type": "stream",
     "text": [
      "2018-04-30 00:00:00 0.089972046942695\n"
     ]
    },
    {
     "name": "stderr",
     "output_type": "stream",
     "text": [
      "[==                                                                      ]   4%\r"
     ]
    },
    {
     "name": "stdout",
     "output_type": "stream",
     "text": [
      "The panel dimensions are:\n",
      "n_samples: 11227 , L: 20 , T: 292\n"
     ]
    },
    {
     "name": "stderr",
     "output_type": "stream",
     "text": [
      "[========================================================================] 100%\n"
     ]
    },
    {
     "name": "stdout",
     "output_type": "stream",
     "text": [
      "Step 1 - Aggregate Update: 1.0730985340968302\n",
      "Step 2 - Aggregate Update: 1.2836313514059698\n",
      "Step 3 - Aggregate Update: 0.1303044921502005\n",
      "Step 4 - Aggregate Update: 0.25891485315592555\n",
      "Step 5 - Aggregate Update: 1.5748738593980436\n",
      "Step 6 - Aggregate Update: 0.2964960881242231\n",
      "Step 7 - Aggregate Update: 0.21508190785032727\n",
      "Step 8 - Aggregate Update: 0.15227524632256656\n",
      "Step 9 - Aggregate Update: 0.10555067349022641\n",
      "Step 10 - Aggregate Update: 0.06910008622225047\n",
      "Step 11 - Aggregate Update: 0.03981310577591452\n",
      "Step 12 - Aggregate Update: 0.021707174835298517\n",
      "Step 13 - Aggregate Update: 0.011690239676800803\n",
      "Step 14 - Aggregate Update: 0.006250324800220801\n",
      "Step 15 - Aggregate Update: 0.0037636087284958764\n",
      "Step 16 - Aggregate Update: 0.002298182871349752\n",
      "Step 17 - Aggregate Update: 0.0014156949882377923\n",
      "Step 18 - Aggregate Update: 0.0008806423029303345\n",
      "Step 19 - Aggregate Update: 0.0005538736290919555\n",
      "Step 20 - Aggregate Update: 0.0003526981572259391\n",
      "Step 21 - Aggregate Update: 0.00022771157817166876\n",
      "Step 22 - Aggregate Update: 0.00014924785224837422\n",
      "Step 23 - Aggregate Update: 0.00011477918927784922\n",
      "Step 24 - Aggregate Update: 9.431484332065448e-05\n",
      "Step 25 - Aggregate Update: 7.602427290372485e-05\n",
      "Step 26 - Aggregate Update: 6.051428381037907e-05\n",
      "Step 27 - Aggregate Update: 4.776408375840521e-05\n",
      "Step 28 - Aggregate Update: 3.748529197525677e-05\n",
      "Step 29 - Aggregate Update: 2.9303926534923058e-05\n",
      "Step 30 - Aggregate Update: 2.284727711334561e-05\n",
      "Step 31 - Aggregate Update: 1.7781049684268552e-05\n",
      "Step 32 - Aggregate Update: 1.382136912289958e-05\n",
      "Step 33 - Aggregate Update: 1.0734775788456136e-05\n",
      "Step 34 - Aggregate Update: 8.333083405667047e-06\n",
      "-- Convergence Reached --\n"
     ]
    },
    {
     "name": "stderr",
     "output_type": "stream",
     "text": [
      "  6%|▌         | 5/83 [00:58<15:12, 11.70s/it]"
     ]
    },
    {
     "name": "stdout",
     "output_type": "stream",
     "text": [
      "2018-05-31 00:00:00 0.09000038654361175\n"
     ]
    },
    {
     "name": "stderr",
     "output_type": "stream",
     "text": [
      "[==                                                                      ]   4%\r"
     ]
    },
    {
     "name": "stdout",
     "output_type": "stream",
     "text": [
      "The panel dimensions are:\n",
      "n_samples: 11235 , L: 20 , T: 293\n"
     ]
    },
    {
     "name": "stderr",
     "output_type": "stream",
     "text": [
      "[========================================================================] 100%\n"
     ]
    },
    {
     "name": "stdout",
     "output_type": "stream",
     "text": [
      "Step 1 - Aggregate Update: 1.072108595865864\n",
      "Step 2 - Aggregate Update: 1.2923156534322686\n",
      "Step 3 - Aggregate Update: 0.1245216467461186\n",
      "Step 4 - Aggregate Update: 0.2849525086808723\n",
      "Step 5 - Aggregate Update: 1.5746475920508147\n",
      "Step 6 - Aggregate Update: 0.2643280975474858\n",
      "Step 7 - Aggregate Update: 0.21555416093892354\n",
      "Step 8 - Aggregate Update: 0.1569697758406028\n",
      "Step 9 - Aggregate Update: 0.11085624668924096\n",
      "Step 10 - Aggregate Update: 0.0680289552377842\n",
      "Step 11 - Aggregate Update: 0.03648616490853125\n",
      "Step 12 - Aggregate Update: 0.019058298885350045\n",
      "Step 13 - Aggregate Update: 0.010390455020857392\n",
      "Step 14 - Aggregate Update: 0.006166249163118531\n",
      "Step 15 - Aggregate Update: 0.003746704166338738\n",
      "Step 16 - Aggregate Update: 0.002297923855345607\n",
      "Step 17 - Aggregate Update: 0.0014239913214668387\n",
      "Step 18 - Aggregate Update: 0.0008925962565795031\n",
      "Step 19 - Aggregate Update: 0.0005666880269345753\n",
      "Step 20 - Aggregate Update: 0.0003648913428138667\n",
      "Step 21 - Aggregate Update: 0.00023859309574844612\n",
      "Step 22 - Aggregate Update: 0.00017697369949083025\n",
      "Step 23 - Aggregate Update: 0.00014471394646320412\n",
      "Step 24 - Aggregate Update: 0.00011619601063190405\n",
      "Step 25 - Aggregate Update: 9.21944801260885e-05\n",
      "Step 26 - Aggregate Update: 7.257462901431866e-05\n",
      "Step 27 - Aggregate Update: 5.68281199960427e-05\n",
      "Step 28 - Aggregate Update: 4.434019728421362e-05\n",
      "Step 29 - Aggregate Update: 3.451448233892512e-05\n",
      "Step 30 - Aggregate Update: 2.6824098610198077e-05\n",
      "Step 31 - Aggregate Update: 2.0826132618924353e-05\n",
      "Step 32 - Aggregate Update: 1.6159025441414565e-05\n",
      "Step 33 - Aggregate Update: 1.2533003856750324e-05\n",
      "Step 34 - Aggregate Update: 9.718570557169792e-06\n",
      "-- Convergence Reached --\n"
     ]
    },
    {
     "name": "stderr",
     "output_type": "stream",
     "text": [
      "  7%|▋         | 6/83 [01:10<15:04, 11.74s/it]"
     ]
    },
    {
     "name": "stdout",
     "output_type": "stream",
     "text": [
      "2018-06-29 00:00:00 0.08952942372271422\n"
     ]
    },
    {
     "name": "stderr",
     "output_type": "stream",
     "text": [
      "[==                                                                      ]   4%\r"
     ]
    },
    {
     "name": "stdout",
     "output_type": "stream",
     "text": [
      "The panel dimensions are:\n",
      "n_samples: 11252 , L: 20 , T: 294\n"
     ]
    },
    {
     "name": "stderr",
     "output_type": "stream",
     "text": [
      "[========================================================================] 100%\n"
     ]
    },
    {
     "name": "stdout",
     "output_type": "stream",
     "text": [
      "Step 1 - Aggregate Update: 1.072244257671978\n",
      "Step 2 - Aggregate Update: 1.2922686856006524\n",
      "Step 3 - Aggregate Update: 0.1267362038155828\n",
      "Step 4 - Aggregate Update: 0.31620766149010726\n",
      "Step 5 - Aggregate Update: 1.564162111754892\n",
      "Step 6 - Aggregate Update: 0.23566356964392324\n",
      "Step 7 - Aggregate Update: 0.20800676330733914\n",
      "Step 8 - Aggregate Update: 0.14980694939062295\n",
      "Step 9 - Aggregate Update: 0.10530427382932034\n",
      "Step 10 - Aggregate Update: 0.06372196764678403\n",
      "Step 11 - Aggregate Update: 0.034175169620571766\n",
      "Step 12 - Aggregate Update: 0.017955442589692883\n",
      "Step 13 - Aggregate Update: 0.00962153170148114\n",
      "Step 14 - Aggregate Update: 0.005666494772138014\n",
      "Step 15 - Aggregate Update: 0.0034331256280647204\n",
      "Step 16 - Aggregate Update: 0.002098517727640331\n",
      "Step 17 - Aggregate Update: 0.0012952913955835144\n",
      "Step 18 - Aggregate Update: 0.0008082076137433947\n",
      "Step 19 - Aggregate Update: 0.0005104306478097564\n",
      "Step 20 - Aggregate Update: 0.00032674385744094203\n",
      "Step 21 - Aggregate Update: 0.00021228003541637341\n",
      "Step 22 - Aggregate Update: 0.00014709655755707624\n",
      "Step 23 - Aggregate Update: 0.00012081601801525871\n",
      "Step 24 - Aggregate Update: 9.722407144870104e-05\n",
      "Step 25 - Aggregate Update: 7.721137697977443e-05\n",
      "Step 26 - Aggregate Update: 6.078448215298543e-05\n",
      "Step 27 - Aggregate Update: 4.7573868125101726e-05\n",
      "Step 28 - Aggregate Update: 3.708913914101525e-05\n",
      "Step 29 - Aggregate Update: 2.8839910700066695e-05\n",
      "Step 30 - Aggregate Update: 2.2386989046593864e-05\n",
      "Step 31 - Aggregate Update: 1.73586277594992e-05\n",
      "Step 32 - Aggregate Update: 1.3450308957690948e-05\n",
      "Step 33 - Aggregate Update: 1.0417594042431977e-05\n",
      "Step 34 - Aggregate Update: 8.066808400264414e-06\n",
      "-- Convergence Reached --\n"
     ]
    },
    {
     "name": "stderr",
     "output_type": "stream",
     "text": [
      "  8%|▊         | 7/83 [01:22<14:56, 11.79s/it]"
     ]
    },
    {
     "name": "stdout",
     "output_type": "stream",
     "text": [
      "2018-07-31 00:00:00 0.08940548509107282\n"
     ]
    },
    {
     "name": "stderr",
     "output_type": "stream",
     "text": [
      "[===                                                                     ]   5%\r"
     ]
    },
    {
     "name": "stdout",
     "output_type": "stream",
     "text": [
      "The panel dimensions are:\n",
      "n_samples: 11266 , L: 20 , T: 295\n"
     ]
    },
    {
     "name": "stderr",
     "output_type": "stream",
     "text": [
      "[========================================================================] 100%\n"
     ]
    },
    {
     "name": "stdout",
     "output_type": "stream",
     "text": [
      "Step 1 - Aggregate Update: 1.0701842485803055\n",
      "Step 2 - Aggregate Update: 1.3168825495737986\n",
      "Step 3 - Aggregate Update: 0.24567040462090917\n",
      "Step 4 - Aggregate Update: 1.5765441443305446\n",
      "Step 5 - Aggregate Update: 0.21887983104750863\n",
      "Step 6 - Aggregate Update: 0.2044065858864128\n",
      "Step 7 - Aggregate Update: 0.1531179219817935\n",
      "Step 8 - Aggregate Update: 0.15142983071611943\n",
      "Step 9 - Aggregate Update: 0.13470593299156786\n",
      "Step 10 - Aggregate Update: 0.052067515465262476\n",
      "Step 11 - Aggregate Update: 0.021227067195300584\n",
      "Step 12 - Aggregate Update: 0.012225982819863895\n",
      "Step 13 - Aggregate Update: 0.007161216642838836\n",
      "Step 14 - Aggregate Update: 0.004313241032627979\n",
      "Step 15 - Aggregate Update: 0.002623830106785352\n",
      "Step 16 - Aggregate Update: 0.0016134895512925906\n",
      "Step 17 - Aggregate Update: 0.001003944726116257\n",
      "Step 18 - Aggregate Update: 0.0006327823539143407\n",
      "Step 19 - Aggregate Update: 0.00040449743835344054\n",
      "Step 20 - Aggregate Update: 0.0003257339235911427\n",
      "Step 21 - Aggregate Update: 0.00025919904599033816\n",
      "Step 22 - Aggregate Update: 0.00020280990265739152\n",
      "Step 23 - Aggregate Update: 0.0001570188260456573\n",
      "Step 24 - Aggregate Update: 0.00012076879640987581\n",
      "Step 25 - Aggregate Update: 9.251912770094628e-05\n",
      "Step 26 - Aggregate Update: 7.07179405340097e-05\n",
      "Step 27 - Aggregate Update: 5.399327742933169e-05\n",
      "Step 28 - Aggregate Update: 4.120769763757415e-05\n",
      "Step 29 - Aggregate Update: 3.14516400519993e-05\n",
      "Step 30 - Aggregate Update: 2.401327316850499e-05\n",
      "Step 31 - Aggregate Update: 1.834277568571463e-05\n",
      "Step 32 - Aggregate Update: 1.4018807672988576e-05\n",
      "Step 33 - Aggregate Update: 1.0719964370825563e-05\n",
      "Step 34 - Aggregate Update: 8.20166228376884e-06\n",
      "-- Convergence Reached --\n"
     ]
    },
    {
     "name": "stderr",
     "output_type": "stream",
     "text": [
      " 10%|▉         | 8/83 [01:33<14:46, 11.82s/it]"
     ]
    },
    {
     "name": "stdout",
     "output_type": "stream",
     "text": [
      "2018-08-31 00:00:00 0.08936118467796417\n"
     ]
    },
    {
     "name": "stderr",
     "output_type": "stream",
     "text": [
      "[===                                                                     ]   5%\r"
     ]
    },
    {
     "name": "stdout",
     "output_type": "stream",
     "text": [
      "The panel dimensions are:\n",
      "n_samples: 11282 , L: 20 , T: 296\n"
     ]
    },
    {
     "name": "stderr",
     "output_type": "stream",
     "text": [
      "[========================================================================] 100%\n"
     ]
    },
    {
     "name": "stdout",
     "output_type": "stream",
     "text": [
      "Step 1 - Aggregate Update: 1.070221033703167\n",
      "Step 2 - Aggregate Update: 1.322444889182775\n",
      "Step 3 - Aggregate Update: 0.2513962107073138\n",
      "Step 4 - Aggregate Update: 1.5932578422792854\n",
      "Step 5 - Aggregate Update: 0.23321985161674433\n",
      "Step 6 - Aggregate Update: 0.20468403537677649\n",
      "Step 7 - Aggregate Update: 0.1513792287434071\n",
      "Step 8 - Aggregate Update: 0.14937438795185343\n",
      "Step 9 - Aggregate Update: 0.15440354971790263\n",
      "Step 10 - Aggregate Update: 0.05860314387592433\n",
      "Step 11 - Aggregate Update: 0.022639022781469995\n",
      "Step 12 - Aggregate Update: 0.012415907879180288\n",
      "Step 13 - Aggregate Update: 0.00719031560231137\n",
      "Step 14 - Aggregate Update: 0.004284312004432189\n",
      "Step 15 - Aggregate Update: 0.0025873835143349067\n",
      "Step 16 - Aggregate Update: 0.0015777153410968803\n",
      "Step 17 - Aggregate Update: 0.0009722613494564103\n",
      "Step 18 - Aggregate Update: 0.0006062204421710959\n",
      "Step 19 - Aggregate Update: 0.000382959311140435\n",
      "Step 20 - Aggregate Update: 0.00025200909452030573\n",
      "Step 21 - Aggregate Update: 0.00020150527366016857\n",
      "Step 22 - Aggregate Update: 0.00015796604486226218\n",
      "Step 23 - Aggregate Update: 0.00012235614679628748\n",
      "Step 24 - Aggregate Update: 9.409878655872173e-05\n",
      "Step 25 - Aggregate Update: 7.207728227939803e-05\n",
      "Step 26 - Aggregate Update: 5.510004163444826e-05\n",
      "Step 27 - Aggregate Update: 4.209321239215247e-05\n",
      "Step 28 - Aggregate Update: 3.216126110247575e-05\n",
      "Step 29 - Aggregate Update: 2.45880605952431e-05\n",
      "Step 30 - Aggregate Update: 1.881469935077762e-05\n",
      "Step 31 - Aggregate Update: 1.4411163109767644e-05\n",
      "Step 32 - Aggregate Update: 1.1049306659211e-05\n",
      "Step 33 - Aggregate Update: 8.479799134292199e-06\n",
      "-- Convergence Reached --\n"
     ]
    },
    {
     "name": "stderr",
     "output_type": "stream",
     "text": [
      " 11%|█         | 9/83 [01:45<14:37, 11.86s/it]"
     ]
    },
    {
     "name": "stdout",
     "output_type": "stream",
     "text": [
      "2018-09-28 00:00:00 0.08928314721592856\n"
     ]
    },
    {
     "name": "stderr",
     "output_type": "stream",
     "text": [
      "[==                                                                      ]   4%\r"
     ]
    },
    {
     "name": "stdout",
     "output_type": "stream",
     "text": [
      "The panel dimensions are:\n",
      "n_samples: 11310 , L: 20 , T: 297\n"
     ]
    },
    {
     "name": "stderr",
     "output_type": "stream",
     "text": [
      "[========================================================================] 100%\n"
     ]
    },
    {
     "name": "stdout",
     "output_type": "stream",
     "text": [
      "Step 1 - Aggregate Update: 1.0638310962163169\n",
      "Step 2 - Aggregate Update: 1.2846324099576556\n",
      "Step 3 - Aggregate Update: 0.4569341643584074\n",
      "Step 4 - Aggregate Update: 1.616392462940527\n",
      "Step 5 - Aggregate Update: 0.18926942226763055\n",
      "Step 6 - Aggregate Update: 0.1991945334109982\n",
      "Step 7 - Aggregate Update: 0.15750380304144554\n",
      "Step 8 - Aggregate Update: 0.1310247496390147\n",
      "Step 9 - Aggregate Update: 0.09271310027628524\n",
      "Step 10 - Aggregate Update: 0.049119407873304016\n",
      "Step 11 - Aggregate Update: 0.024891303170106814\n",
      "Step 12 - Aggregate Update: 0.013072527605669917\n",
      "Step 13 - Aggregate Update: 0.0070388757439176775\n",
      "Step 14 - Aggregate Update: 0.003894929958180887\n",
      "Step 15 - Aggregate Update: 0.002289486274570929\n",
      "Step 16 - Aggregate Update: 0.0013503249190252031\n",
      "Step 17 - Aggregate Update: 0.0008209157166070014\n",
      "Step 18 - Aggregate Update: 0.0005065893919767583\n",
      "Step 19 - Aggregate Update: 0.0003164065491068069\n",
      "Step 20 - Aggregate Update: 0.00020032222928700882\n",
      "Step 21 - Aggregate Update: 0.0001287535189972433\n",
      "Step 22 - Aggregate Update: 8.412046678002438e-05\n",
      "Step 23 - Aggregate Update: 5.80917225915939e-05\n",
      "Step 24 - Aggregate Update: 4.834688020441402e-05\n",
      "Step 25 - Aggregate Update: 3.923393472915482e-05\n",
      "Step 26 - Aggregate Update: 3.1397139554856235e-05\n",
      "Step 27 - Aggregate Update: 2.489564702093383e-05\n",
      "Step 28 - Aggregate Update: 1.9573064293981757e-05\n",
      "Step 29 - Aggregate Update: 1.5300326819289722e-05\n",
      "Step 30 - Aggregate Update: 1.1913969942739522e-05\n",
      "Step 31 - Aggregate Update: 9.252856563113365e-06\n",
      "-- Convergence Reached --\n"
     ]
    },
    {
     "name": "stderr",
     "output_type": "stream",
     "text": [
      " 12%|█▏        | 10/83 [01:57<14:28, 11.90s/it]"
     ]
    },
    {
     "name": "stdout",
     "output_type": "stream",
     "text": [
      "2018-10-31 00:00:00 0.08880207947432728\n"
     ]
    },
    {
     "name": "stderr",
     "output_type": "stream",
     "text": [
      "[==                                                                      ]   4%\r"
     ]
    },
    {
     "name": "stdout",
     "output_type": "stream",
     "text": [
      "The panel dimensions are:\n",
      "n_samples: 11327 , L: 20 , T: 298\n"
     ]
    },
    {
     "name": "stderr",
     "output_type": "stream",
     "text": [
      "[========================================================================] 100%\n"
     ]
    },
    {
     "name": "stdout",
     "output_type": "stream",
     "text": [
      "Step 1 - Aggregate Update: 1.064261272178119\n",
      "Step 2 - Aggregate Update: 1.2924795238655742\n",
      "Step 3 - Aggregate Update: 0.5277803093341552\n",
      "Step 4 - Aggregate Update: 1.599427281104614\n",
      "Step 5 - Aggregate Update: 0.19146266706089654\n",
      "Step 6 - Aggregate Update: 0.19267964814525362\n",
      "Step 7 - Aggregate Update: 0.1519765616085981\n",
      "Step 8 - Aggregate Update: 0.13112914150638438\n",
      "Step 9 - Aggregate Update: 0.08895171774873575\n",
      "Step 10 - Aggregate Update: 0.04509255258769278\n",
      "Step 11 - Aggregate Update: 0.02247422346550531\n",
      "Step 12 - Aggregate Update: 0.011692746862383058\n",
      "Step 13 - Aggregate Update: 0.006231656562623242\n",
      "Step 14 - Aggregate Update: 0.0036512256625238215\n",
      "Step 15 - Aggregate Update: 0.0022170810433759514\n",
      "Step 16 - Aggregate Update: 0.0013577790836905301\n",
      "Step 17 - Aggregate Update: 0.000839365632007788\n",
      "Step 18 - Aggregate Update: 0.0005243463009520499\n",
      "Step 19 - Aggregate Update: 0.00033141720310439493\n",
      "Step 20 - Aggregate Update: 0.00021222284542649072\n",
      "Step 21 - Aggregate Update: 0.0001378502939860804\n",
      "Step 22 - Aggregate Update: 9.092173567160078e-05\n",
      "Step 23 - Aggregate Update: 7.147590781174384e-05\n",
      "Step 24 - Aggregate Update: 5.811954927156804e-05\n",
      "Step 25 - Aggregate Update: 4.640326265545336e-05\n",
      "Step 26 - Aggregate Update: 3.658994479674438e-05\n",
      "Step 27 - Aggregate Update: 2.861583838392745e-05\n",
      "Step 28 - Aggregate Update: 2.2258140841835417e-05\n",
      "Step 29 - Aggregate Update: 1.7251062724182864e-05\n",
      "Step 30 - Aggregate Update: 1.3339318427674218e-05\n",
      "Step 31 - Aggregate Update: 1.0299438605670952e-05\n",
      "Step 32 - Aggregate Update: 7.945245643847798e-06\n",
      "-- Convergence Reached --\n"
     ]
    },
    {
     "name": "stderr",
     "output_type": "stream",
     "text": [
      " 13%|█▎        | 11/83 [02:09<14:19, 11.94s/it]"
     ]
    },
    {
     "name": "stdout",
     "output_type": "stream",
     "text": [
      "2018-11-30 00:00:00 0.08862868867013118\n"
     ]
    },
    {
     "name": "stderr",
     "output_type": "stream",
     "text": [
      "[==                                                                      ]   4%\r"
     ]
    },
    {
     "name": "stdout",
     "output_type": "stream",
     "text": [
      "The panel dimensions are:\n",
      "n_samples: 11335 , L: 20 , T: 299\n"
     ]
    },
    {
     "name": "stderr",
     "output_type": "stream",
     "text": [
      "[========================================================================] 100%\n"
     ]
    },
    {
     "name": "stdout",
     "output_type": "stream",
     "text": [
      "Step 1 - Aggregate Update: 1.0611934458095915\n",
      "Step 2 - Aggregate Update: 1.3003393129004333\n",
      "Step 3 - Aggregate Update: 0.4826268168025841\n",
      "Step 4 - Aggregate Update: 1.6414417296858428\n",
      "Step 5 - Aggregate Update: 0.18873397542002218\n",
      "Step 6 - Aggregate Update: 0.1966053007995775\n",
      "Step 7 - Aggregate Update: 0.15997292793627022\n",
      "Step 8 - Aggregate Update: 0.16491689050155342\n",
      "Step 9 - Aggregate Update: 0.12729099667070604\n",
      "Step 10 - Aggregate Update: 0.05093007884076687\n",
      "Step 11 - Aggregate Update: 0.022536193984413103\n",
      "Step 12 - Aggregate Update: 0.011242394528176436\n",
      "Step 13 - Aggregate Update: 0.006285993588257405\n",
      "Step 14 - Aggregate Update: 0.003655467167657467\n",
      "Step 15 - Aggregate Update: 0.0021378567410221816\n",
      "Step 16 - Aggregate Update: 0.0012814670593482291\n",
      "Step 17 - Aggregate Update: 0.0007737716502947689\n",
      "Step 18 - Aggregate Update: 0.0004710465286147103\n",
      "Step 19 - Aggregate Update: 0.00028942903284454036\n",
      "Step 20 - Aggregate Update: 0.00017972722667639052\n",
      "Step 21 - Aggregate Update: 0.00011295146991710525\n",
      "Step 22 - Aggregate Update: 7.194299859389353e-05\n",
      "Step 23 - Aggregate Update: 4.650089571298088e-05\n",
      "Step 24 - Aggregate Update: 3.053200540165113e-05\n",
      "Step 25 - Aggregate Update: 2.2586123401113767e-05\n",
      "Step 26 - Aggregate Update: 1.7587853415768073e-05\n",
      "Step 27 - Aggregate Update: 1.3572451234566962e-05\n",
      "Step 28 - Aggregate Update: 1.0415211770670174e-05\n",
      "Step 29 - Aggregate Update: 7.965736423032332e-06\n",
      "-- Convergence Reached --\n"
     ]
    },
    {
     "name": "stderr",
     "output_type": "stream",
     "text": [
      " 14%|█▍        | 12/83 [02:22<14:16, 12.06s/it]"
     ]
    },
    {
     "name": "stdout",
     "output_type": "stream",
     "text": [
      "2018-12-31 00:00:00 0.0896838161768041\n"
     ]
    },
    {
     "name": "stderr",
     "output_type": "stream",
     "text": [
      "[==                                                                      ]   4%\r"
     ]
    },
    {
     "name": "stdout",
     "output_type": "stream",
     "text": [
      "The panel dimensions are:\n",
      "n_samples: 11345 , L: 20 , T: 300\n"
     ]
    },
    {
     "name": "stderr",
     "output_type": "stream",
     "text": [
      "[========================================================================] 100%\n"
     ]
    },
    {
     "name": "stdout",
     "output_type": "stream",
     "text": [
      "Step 1 - Aggregate Update: 1.0496158958613706\n",
      "Step 2 - Aggregate Update: 1.3092531963451006\n",
      "Step 3 - Aggregate Update: 1.4954639065389916\n",
      "Step 4 - Aggregate Update: 0.2218800790228393\n",
      "Step 5 - Aggregate Update: 0.1999552615443776\n",
      "Step 6 - Aggregate Update: 0.17638556010179668\n",
      "Step 7 - Aggregate Update: 0.16406029279784595\n",
      "Step 8 - Aggregate Update: 0.13916171876051608\n",
      "Step 9 - Aggregate Update: 0.06456895949483332\n",
      "Step 10 - Aggregate Update: 0.028591775815603238\n",
      "Step 11 - Aggregate Update: 0.014199837125115772\n",
      "Step 12 - Aggregate Update: 0.007529892696381199\n",
      "Step 13 - Aggregate Update: 0.004111644084953431\n",
      "Step 14 - Aggregate Update: 0.0023253511768804302\n",
      "Step 15 - Aggregate Update: 0.0013215612590619374\n",
      "Step 16 - Aggregate Update: 0.0007509968843668058\n",
      "Step 17 - Aggregate Update: 0.00042664252029089855\n",
      "Step 18 - Aggregate Update: 0.00024229861278529663\n",
      "Step 19 - Aggregate Update: 0.00013756561818031865\n",
      "Step 20 - Aggregate Update: 7.808272427131668e-05\n",
      "Step 21 - Aggregate Update: 4.430863580867639e-05\n",
      "Step 22 - Aggregate Update: 2.513573096457611e-05\n",
      "Step 23 - Aggregate Update: 1.4253353170318173e-05\n",
      "Step 24 - Aggregate Update: 8.11309300280394e-06\n",
      "-- Convergence Reached --\n"
     ]
    },
    {
     "name": "stderr",
     "output_type": "stream",
     "text": [
      " 16%|█▌        | 13/83 [02:34<14:03, 12.04s/it]"
     ]
    },
    {
     "name": "stdout",
     "output_type": "stream",
     "text": [
      "2019-01-31 00:00:00 0.0905177214133035\n"
     ]
    },
    {
     "name": "stderr",
     "output_type": "stream",
     "text": [
      "[==                                                                      ]   3%\r"
     ]
    },
    {
     "name": "stdout",
     "output_type": "stream",
     "text": [
      "The panel dimensions are:\n",
      "n_samples: 11355 , L: 20 , T: 301\n"
     ]
    },
    {
     "name": "stderr",
     "output_type": "stream",
     "text": [
      "[========================================================================] 100%\n"
     ]
    },
    {
     "name": "stdout",
     "output_type": "stream",
     "text": [
      "Step 1 - Aggregate Update: 1.0471217646715398\n",
      "Step 2 - Aggregate Update: 1.308649999394508\n",
      "Step 3 - Aggregate Update: 1.4914017456399729\n",
      "Step 4 - Aggregate Update: 0.21290759229505615\n",
      "Step 5 - Aggregate Update: 0.19566292809421337\n",
      "Step 6 - Aggregate Update: 0.1545276843412754\n",
      "Step 7 - Aggregate Update: 0.17600610597788635\n",
      "Step 8 - Aggregate Update: 0.20466868936882102\n",
      "Step 9 - Aggregate Update: 0.05510489931825448\n",
      "Step 10 - Aggregate Update: 0.020972019987341897\n",
      "Step 11 - Aggregate Update: 0.011572363342548547\n",
      "Step 12 - Aggregate Update: 0.006494143078563802\n",
      "Step 13 - Aggregate Update: 0.0036487372099211768\n",
      "Step 14 - Aggregate Update: 0.002051446421677705\n",
      "Step 15 - Aggregate Update: 0.001153412500962292\n",
      "Step 16 - Aggregate Update: 0.0006482510443693579\n",
      "Step 17 - Aggregate Update: 0.00036412926203097107\n",
      "Step 18 - Aggregate Update: 0.00020440218641751273\n",
      "Step 19 - Aggregate Update: 0.00011465798975640595\n",
      "Step 20 - Aggregate Update: 6.42637469473184e-05\n",
      "Step 21 - Aggregate Update: 3.5982387603994415e-05\n",
      "Step 22 - Aggregate Update: 2.012077801549772e-05\n",
      "Step 23 - Aggregate Update: 1.1231312837839402e-05\n",
      "Step 24 - Aggregate Update: 6.253958552304706e-06\n",
      "-- Convergence Reached --\n"
     ]
    },
    {
     "name": "stderr",
     "output_type": "stream",
     "text": [
      " 17%|█▋        | 14/83 [02:46<13:54, 12.10s/it]"
     ]
    },
    {
     "name": "stdout",
     "output_type": "stream",
     "text": [
      "2019-02-28 00:00:00 0.09037526754985548\n"
     ]
    },
    {
     "name": "stderr",
     "output_type": "stream",
     "text": [
      "[==                                                                      ]   3%\r"
     ]
    },
    {
     "name": "stdout",
     "output_type": "stream",
     "text": [
      "The panel dimensions are:\n",
      "n_samples: 11371 , L: 20 , T: 302\n"
     ]
    },
    {
     "name": "stderr",
     "output_type": "stream",
     "text": [
      "[========================================================================] 100%\n"
     ]
    },
    {
     "name": "stdout",
     "output_type": "stream",
     "text": [
      "Step 1 - Aggregate Update: 1.0470386645400436\n",
      "Step 2 - Aggregate Update: 1.3113746281864838\n",
      "Step 3 - Aggregate Update: 1.5040515622018578\n",
      "Step 4 - Aggregate Update: 0.2602101777208971\n",
      "Step 5 - Aggregate Update: 0.19505890196341996\n",
      "Step 6 - Aggregate Update: 0.13733697576762566\n",
      "Step 7 - Aggregate Update: 0.09095989740149452\n",
      "Step 8 - Aggregate Update: 0.1947095739956302\n",
      "Step 9 - Aggregate Update: 0.18703600946066715\n",
      "Step 10 - Aggregate Update: 0.0598574378382683\n",
      "Step 11 - Aggregate Update: 0.022200019911445823\n",
      "Step 12 - Aggregate Update: 0.010440105397834187\n",
      "Step 13 - Aggregate Update: 0.005312692169116673\n",
      "Step 14 - Aggregate Update: 0.0027973646750100722\n",
      "Step 15 - Aggregate Update: 0.0014887671053288587\n",
      "Step 16 - Aggregate Update: 0.0007910768922962386\n",
      "Step 17 - Aggregate Update: 0.00041670151147832346\n",
      "Step 18 - Aggregate Update: 0.000222178624438768\n",
      "Step 19 - Aggregate Update: 0.00011717754802206826\n",
      "Step 20 - Aggregate Update: 6.397789053769198e-05\n",
      "Step 21 - Aggregate Update: 3.6152863273186675e-05\n",
      "Step 22 - Aggregate Update: 2.04639291030706e-05\n",
      "Step 23 - Aggregate Update: 1.1888421000999516e-05\n",
      "Step 24 - Aggregate Update: 6.979728055633849e-06\n",
      "-- Convergence Reached --\n"
     ]
    },
    {
     "name": "stderr",
     "output_type": "stream",
     "text": [
      " 18%|█▊        | 15/83 [02:58<13:50, 12.21s/it]"
     ]
    },
    {
     "name": "stdout",
     "output_type": "stream",
     "text": [
      "2019-03-29 00:00:00 0.09012802959886601\n"
     ]
    },
    {
     "name": "stderr",
     "output_type": "stream",
     "text": [
      "[==                                                                      ]   3%\r"
     ]
    },
    {
     "name": "stdout",
     "output_type": "stream",
     "text": [
      "The panel dimensions are:\n",
      "n_samples: 11403 , L: 20 , T: 303\n"
     ]
    },
    {
     "name": "stderr",
     "output_type": "stream",
     "text": [
      "[========================================================================] 100%\n"
     ]
    },
    {
     "name": "stdout",
     "output_type": "stream",
     "text": [
      "Step 1 - Aggregate Update: 1.0468600324813226\n",
      "Step 2 - Aggregate Update: 1.3150922097814446\n",
      "Step 3 - Aggregate Update: 1.4934095255328692\n",
      "Step 4 - Aggregate Update: 0.2245693498495268\n",
      "Step 5 - Aggregate Update: 0.19019969599109754\n",
      "Step 6 - Aggregate Update: 0.12730887325062745\n",
      "Step 7 - Aggregate Update: 0.09826537216563075\n",
      "Step 8 - Aggregate Update: 0.19525345044340342\n",
      "Step 9 - Aggregate Update: 0.12992876576140286\n",
      "Step 10 - Aggregate Update: 0.04619861379491519\n",
      "Step 11 - Aggregate Update: 0.018810231919660025\n",
      "Step 12 - Aggregate Update: 0.009251062835048507\n",
      "Step 13 - Aggregate Update: 0.004790862002671814\n",
      "Step 14 - Aggregate Update: 0.002526270122067076\n",
      "Step 15 - Aggregate Update: 0.0013316711554864913\n",
      "Step 16 - Aggregate Update: 0.0006933805126245196\n",
      "Step 17 - Aggregate Update: 0.00035705469048225025\n",
      "Step 18 - Aggregate Update: 0.0001814866148640848\n",
      "Step 19 - Aggregate Update: 0.00010308356068364222\n",
      "Step 20 - Aggregate Update: 6.050605028623535e-05\n",
      "Step 21 - Aggregate Update: 3.629583868092201e-05\n",
      "Step 22 - Aggregate Update: 2.2067470076936324e-05\n",
      "Step 23 - Aggregate Update: 1.3620396595970252e-05\n",
      "Step 24 - Aggregate Update: 9.116067866465905e-06\n",
      "-- Convergence Reached --\n"
     ]
    },
    {
     "name": "stderr",
     "output_type": "stream",
     "text": [
      " 19%|█▉        | 16/83 [03:11<13:40, 12.25s/it]"
     ]
    },
    {
     "name": "stdout",
     "output_type": "stream",
     "text": [
      "2019-04-30 00:00:00 0.0900351449976573\n"
     ]
    },
    {
     "name": "stderr",
     "output_type": "stream",
     "text": [
      "[==                                                                      ]   3%\r"
     ]
    },
    {
     "name": "stdout",
     "output_type": "stream",
     "text": [
      "The panel dimensions are:\n",
      "n_samples: 11422 , L: 20 , T: 304\n"
     ]
    },
    {
     "name": "stderr",
     "output_type": "stream",
     "text": [
      "[========================================================================] 100%\n"
     ]
    },
    {
     "name": "stdout",
     "output_type": "stream",
     "text": [
      "Step 1 - Aggregate Update: 1.04387458676435\n",
      "Step 2 - Aggregate Update: 1.3041861966692696\n",
      "Step 3 - Aggregate Update: 1.4767659118958423\n",
      "Step 4 - Aggregate Update: 0.2514315127450662\n",
      "Step 5 - Aggregate Update: 0.19527801030460845\n",
      "Step 6 - Aggregate Update: 0.13001152261259563\n",
      "Step 7 - Aggregate Update: 0.09538949125550752\n",
      "Step 8 - Aggregate Update: 0.23197900095665874\n",
      "Step 9 - Aggregate Update: 0.15346232029236773\n",
      "Step 10 - Aggregate Update: 0.04337290004216893\n",
      "Step 11 - Aggregate Update: 0.01762625865862638\n",
      "Step 12 - Aggregate Update: 0.008393071633295557\n",
      "Step 13 - Aggregate Update: 0.004323458399263236\n",
      "Step 14 - Aggregate Update: 0.002308478554475968\n",
      "Step 15 - Aggregate Update: 0.001261048434571671\n",
      "Step 16 - Aggregate Update: 0.0006979142816824491\n",
      "Step 17 - Aggregate Update: 0.00038801418859515935\n",
      "Step 18 - Aggregate Update: 0.0002167932544439033\n",
      "Step 19 - Aggregate Update: 0.00012196060046029689\n",
      "Step 20 - Aggregate Update: 6.928792000723827e-05\n",
      "Step 21 - Aggregate Update: 3.990283208210599e-05\n",
      "Step 22 - Aggregate Update: 2.3395523492425463e-05\n",
      "Step 23 - Aggregate Update: 1.4026784651038904e-05\n",
      "Step 24 - Aggregate Update: 8.633010441183586e-06\n",
      "-- Convergence Reached --\n"
     ]
    },
    {
     "name": "stderr",
     "output_type": "stream",
     "text": [
      " 20%|██        | 17/83 [03:23<13:32, 12.32s/it]"
     ]
    },
    {
     "name": "stdout",
     "output_type": "stream",
     "text": [
      "2019-05-31 00:00:00 0.09061086456458867\n"
     ]
    },
    {
     "name": "stderr",
     "output_type": "stream",
     "text": [
      "[==                                                                      ]   3%\r"
     ]
    },
    {
     "name": "stdout",
     "output_type": "stream",
     "text": [
      "The panel dimensions are:\n",
      "n_samples: 11438 , L: 20 , T: 305\n"
     ]
    },
    {
     "name": "stderr",
     "output_type": "stream",
     "text": [
      "[========================================================================] 100%\n"
     ]
    },
    {
     "name": "stdout",
     "output_type": "stream",
     "text": [
      "Step 1 - Aggregate Update: 1.0422956812928341\n",
      "Step 2 - Aggregate Update: 1.2923333679486666\n",
      "Step 3 - Aggregate Update: 1.4381189631932751\n",
      "Step 4 - Aggregate Update: 0.21337859129732314\n",
      "Step 5 - Aggregate Update: 0.17502266522344323\n",
      "Step 6 - Aggregate Update: 0.10991340257249832\n",
      "Step 7 - Aggregate Update: 0.12804459973700685\n",
      "Step 8 - Aggregate Update: 0.22413246239565884\n",
      "Step 9 - Aggregate Update: 0.08363854880054586\n",
      "Step 10 - Aggregate Update: 0.02831605487133587\n",
      "Step 11 - Aggregate Update: 0.0127116795546795\n",
      "Step 12 - Aggregate Update: 0.006368193804385414\n",
      "Step 13 - Aggregate Update: 0.003361791672112535\n",
      "Step 14 - Aggregate Update: 0.0018156891778055018\n",
      "Step 15 - Aggregate Update: 0.0009925262790483613\n",
      "Step 16 - Aggregate Update: 0.000547159010884507\n",
      "Step 17 - Aggregate Update: 0.0003024260292922576\n",
      "Step 18 - Aggregate Update: 0.00016766990609015653\n",
      "Step 19 - Aggregate Update: 9.338267965597336e-05\n",
      "Step 20 - Aggregate Update: 5.236443047082484e-05\n",
      "Step 21 - Aggregate Update: 2.9650883433762765e-05\n",
      "Step 22 - Aggregate Update: 1.7013169950896856e-05\n",
      "Step 23 - Aggregate Update: 9.930098301663692e-06\n",
      "-- Convergence Reached --\n"
     ]
    },
    {
     "name": "stderr",
     "output_type": "stream",
     "text": [
      " 22%|██▏       | 18/83 [03:36<13:25, 12.39s/it]"
     ]
    },
    {
     "name": "stdout",
     "output_type": "stream",
     "text": [
      "2019-06-28 00:00:00 0.09073442370808349\n"
     ]
    },
    {
     "name": "stderr",
     "output_type": "stream",
     "text": [
      "[==                                                                      ]   3%\r"
     ]
    },
    {
     "name": "stdout",
     "output_type": "stream",
     "text": [
      "The panel dimensions are:\n",
      "n_samples: 11450 , L: 20 , T: 306\n"
     ]
    },
    {
     "name": "stderr",
     "output_type": "stream",
     "text": [
      "[========================================================================] 100%\n"
     ]
    },
    {
     "name": "stdout",
     "output_type": "stream",
     "text": [
      "Step 1 - Aggregate Update: 1.0424481589769212\n",
      "Step 2 - Aggregate Update: 1.2897760225260044\n",
      "Step 3 - Aggregate Update: 1.4299655061797847\n",
      "Step 4 - Aggregate Update: 0.2135365445388293\n",
      "Step 5 - Aggregate Update: 0.1760991510545667\n",
      "Step 6 - Aggregate Update: 0.11297955831821593\n",
      "Step 7 - Aggregate Update: 0.13617108740746667\n",
      "Step 8 - Aggregate Update: 0.2033587111866685\n",
      "Step 9 - Aggregate Update: 0.07756020479911913\n",
      "Step 10 - Aggregate Update: 0.027387166272832053\n",
      "Step 11 - Aggregate Update: 0.012577493723645972\n",
      "Step 12 - Aggregate Update: 0.006354229111155907\n",
      "Step 13 - Aggregate Update: 0.0033613264590655056\n",
      "Step 14 - Aggregate Update: 0.0018132581416544502\n",
      "Step 15 - Aggregate Update: 0.0009918272753451085\n",
      "Step 16 - Aggregate Update: 0.0005436607347959754\n",
      "Step 17 - Aggregate Update: 0.00029806740447460567\n",
      "Step 18 - Aggregate Update: 0.0001633884597474211\n",
      "Step 19 - Aggregate Update: 8.957664172740132e-05\n",
      "Step 20 - Aggregate Update: 4.915788776854724e-05\n",
      "Step 21 - Aggregate Update: 2.703684733890155e-05\n",
      "Step 22 - Aggregate Update: 1.4928364984123643e-05\n",
      "Step 23 - Aggregate Update: 8.292928288439194e-06\n",
      "-- Convergence Reached --\n"
     ]
    },
    {
     "name": "stderr",
     "output_type": "stream",
     "text": [
      " 23%|██▎       | 19/83 [03:48<13:16, 12.44s/it]"
     ]
    },
    {
     "name": "stdout",
     "output_type": "stream",
     "text": [
      "2019-07-31 00:00:00 0.09061183890061009\n"
     ]
    },
    {
     "name": "stderr",
     "output_type": "stream",
     "text": [
      "[==                                                                      ]   3%\r"
     ]
    },
    {
     "name": "stdout",
     "output_type": "stream",
     "text": [
      "The panel dimensions are:\n",
      "n_samples: 11463 , L: 20 , T: 307\n"
     ]
    },
    {
     "name": "stderr",
     "output_type": "stream",
     "text": [
      "[========================================================================] 100%\n"
     ]
    },
    {
     "name": "stdout",
     "output_type": "stream",
     "text": [
      "Step 1 - Aggregate Update: 1.043555099688368\n",
      "Step 2 - Aggregate Update: 1.2536651852418723\n",
      "Step 3 - Aggregate Update: 1.2997494742459619\n",
      "Step 4 - Aggregate Update: 0.21265114980739808\n",
      "Step 5 - Aggregate Update: 0.16829744704622351\n",
      "Step 6 - Aggregate Update: 0.10752879518246261\n",
      "Step 7 - Aggregate Update: 0.14002619091959823\n",
      "Step 8 - Aggregate Update: 0.1682679440277628\n",
      "Step 9 - Aggregate Update: 0.06809747054790435\n",
      "Step 10 - Aggregate Update: 0.027787485256909494\n",
      "Step 11 - Aggregate Update: 0.013063780212687837\n",
      "Step 12 - Aggregate Update: 0.0065023617647670395\n",
      "Step 13 - Aggregate Update: 0.003273157757237799\n",
      "Step 14 - Aggregate Update: 0.0016058617773141437\n",
      "Step 15 - Aggregate Update: 0.0007471474887938978\n",
      "Step 16 - Aggregate Update: 0.0004609507309122074\n",
      "Step 17 - Aggregate Update: 0.00029140406317554324\n",
      "Step 18 - Aggregate Update: 0.00018880652570740786\n",
      "Step 19 - Aggregate Update: 0.00015203835770105645\n",
      "Step 20 - Aggregate Update: 0.00012579953484589956\n",
      "Step 21 - Aggregate Update: 0.00010498050663140801\n",
      "Step 22 - Aggregate Update: 8.556847007129553e-05\n",
      "Step 23 - Aggregate Update: 6.807922926160836e-05\n",
      "Step 24 - Aggregate Update: 5.3399777463492004e-05\n",
      "Step 25 - Aggregate Update: 4.13906136027542e-05\n",
      "Step 26 - Aggregate Update: 3.1815697861758974e-05\n",
      "Step 27 - Aggregate Update: 2.43109788071183e-05\n",
      "Step 28 - Aggregate Update: 1.8497019448615593e-05\n",
      "Step 29 - Aggregate Update: 1.402946972761665e-05\n",
      "Step 30 - Aggregate Update: 1.0616404934993273e-05\n",
      "Step 31 - Aggregate Update: 8.019859983998678e-06\n",
      "-- Convergence Reached --\n"
     ]
    },
    {
     "name": "stderr",
     "output_type": "stream",
     "text": [
      " 24%|██▍       | 20/83 [04:01<13:10, 12.55s/it]"
     ]
    },
    {
     "name": "stdout",
     "output_type": "stream",
     "text": [
      "2019-08-30 00:00:00 0.09058378453447458\n"
     ]
    },
    {
     "name": "stderr",
     "output_type": "stream",
     "text": [
      "[==                                                                      ]   3%\r"
     ]
    },
    {
     "name": "stdout",
     "output_type": "stream",
     "text": [
      "The panel dimensions are:\n",
      "n_samples: 11480 , L: 20 , T: 308\n"
     ]
    },
    {
     "name": "stderr",
     "output_type": "stream",
     "text": [
      "[========================================================================] 100%\n"
     ]
    },
    {
     "name": "stdout",
     "output_type": "stream",
     "text": [
      "Step 1 - Aggregate Update: 1.0426306131776553\n",
      "Step 2 - Aggregate Update: 1.2719239379727165\n",
      "Step 3 - Aggregate Update: 1.3036305907018928\n",
      "Step 4 - Aggregate Update: 0.21538306108731609\n",
      "Step 5 - Aggregate Update: 0.17184239714346128\n",
      "Step 6 - Aggregate Update: 0.11429942173771135\n",
      "Step 7 - Aggregate Update: 0.11726835704477548\n",
      "Step 8 - Aggregate Update: 0.11436257927081071\n",
      "Step 9 - Aggregate Update: 0.05547568188764754\n",
      "Step 10 - Aggregate Update: 0.02461446425766839\n",
      "Step 11 - Aggregate Update: 0.012263524577434626\n",
      "Step 12 - Aggregate Update: 0.006157485188267198\n",
      "Step 13 - Aggregate Update: 0.0030265927096151946\n",
      "Step 14 - Aggregate Update: 0.001399680721815233\n",
      "Step 15 - Aggregate Update: 0.0007372086168583036\n",
      "Step 16 - Aggregate Update: 0.0004554367169977702\n",
      "Step 17 - Aggregate Update: 0.00028840482080158547\n",
      "Step 18 - Aggregate Update: 0.000216201422178236\n",
      "Step 19 - Aggregate Update: 0.00020416667564876478\n",
      "Step 20 - Aggregate Update: 0.00017757073068408458\n",
      "Step 21 - Aggregate Update: 0.0001467201892687564\n",
      "Step 22 - Aggregate Update: 0.00011751974800205955\n",
      "Step 23 - Aggregate Update: 9.225911903676387e-05\n",
      "Step 24 - Aggregate Update: 7.145603074704132e-05\n",
      "Step 25 - Aggregate Update: 5.482916728355436e-05\n",
      "Step 26 - Aggregate Update: 4.1795209422934576e-05\n",
      "Step 27 - Aggregate Update: 3.171025897619195e-05\n",
      "Step 28 - Aggregate Update: 2.3977223560511796e-05\n",
      "Step 29 - Aggregate Update: 1.8085235916953657e-05\n",
      "Step 30 - Aggregate Update: 1.3616373094771372e-05\n",
      "Step 31 - Aggregate Update: 1.0238031860232422e-05\n",
      "Step 32 - Aggregate Update: 7.690217798728138e-06\n",
      "-- Convergence Reached --\n"
     ]
    },
    {
     "name": "stderr",
     "output_type": "stream",
     "text": [
      " 25%|██▌       | 21/83 [04:15<13:13, 12.80s/it]"
     ]
    },
    {
     "name": "stdout",
     "output_type": "stream",
     "text": [
      "2019-09-30 00:00:00 0.0906029757432314\n"
     ]
    },
    {
     "name": "stderr",
     "output_type": "stream",
     "text": [
      "[==                                                                      ]   3%\r"
     ]
    },
    {
     "name": "stdout",
     "output_type": "stream",
     "text": [
      "The panel dimensions are:\n",
      "n_samples: 11504 , L: 20 , T: 309\n"
     ]
    },
    {
     "name": "stderr",
     "output_type": "stream",
     "text": [
      "[========================================================================] 100%\n"
     ]
    },
    {
     "name": "stdout",
     "output_type": "stream",
     "text": [
      "Step 1 - Aggregate Update: 1.0425921072034439\n",
      "Step 2 - Aggregate Update: 1.2761482413812506\n",
      "Step 3 - Aggregate Update: 1.3029762839745984\n",
      "Step 4 - Aggregate Update: 0.21330705325265698\n",
      "Step 5 - Aggregate Update: 0.16475480937480141\n",
      "Step 6 - Aggregate Update: 0.10640342206417797\n",
      "Step 7 - Aggregate Update: 0.1379361086830754\n",
      "Step 8 - Aggregate Update: 0.14790336169645035\n",
      "Step 9 - Aggregate Update: 0.06039754074326817\n",
      "Step 10 - Aggregate Update: 0.026344551765063562\n",
      "Step 11 - Aggregate Update: 0.01253592183845964\n",
      "Step 12 - Aggregate Update: 0.006236932256863059\n",
      "Step 13 - Aggregate Update: 0.0031097466721760614\n",
      "Step 14 - Aggregate Update: 0.0014965787921690787\n",
      "Step 15 - Aggregate Update: 0.0007031310762383725\n",
      "Step 16 - Aggregate Update: 0.00043210191741963055\n",
      "Step 17 - Aggregate Update: 0.0002721058875344573\n",
      "Step 18 - Aggregate Update: 0.00017998059993523663\n",
      "Step 19 - Aggregate Update: 0.00015412740306020023\n",
      "Step 20 - Aggregate Update: 0.0001274262736101206\n",
      "Step 21 - Aggregate Update: 0.0001062078652102616\n",
      "Step 22 - Aggregate Update: 8.552436871794855e-05\n",
      "Step 23 - Aggregate Update: 6.736703665302657e-05\n",
      "Step 24 - Aggregate Update: 5.2287454624933005e-05\n",
      "Step 25 - Aggregate Update: 4.017263308012109e-05\n",
      "Step 26 - Aggregate Update: 3.064455643803088e-05\n",
      "Step 27 - Aggregate Update: 2.3256955111600197e-05\n",
      "Step 28 - Aggregate Update: 1.7585030238853605e-05\n",
      "Step 29 - Aggregate Update: 1.3260413057825104e-05\n",
      "Step 30 - Aggregate Update: 9.979383109176565e-06\n",
      "-- Convergence Reached --\n"
     ]
    },
    {
     "name": "stderr",
     "output_type": "stream",
     "text": [
      " 27%|██▋       | 22/83 [04:28<13:04, 12.86s/it]"
     ]
    },
    {
     "name": "stdout",
     "output_type": "stream",
     "text": [
      "2019-10-31 00:00:00 0.09049154326390207\n"
     ]
    },
    {
     "name": "stderr",
     "output_type": "stream",
     "text": [
      "[==                                                                      ]   3%\r"
     ]
    },
    {
     "name": "stdout",
     "output_type": "stream",
     "text": [
      "The panel dimensions are:\n",
      "n_samples: 11526 , L: 20 , T: 310\n"
     ]
    },
    {
     "name": "stderr",
     "output_type": "stream",
     "text": [
      "[========================================================================] 100%\n"
     ]
    },
    {
     "name": "stdout",
     "output_type": "stream",
     "text": [
      "Step 1 - Aggregate Update: 1.0413468293778312\n",
      "Step 2 - Aggregate Update: 1.2964137623886756\n",
      "Step 3 - Aggregate Update: 1.3453483248692697\n",
      "Step 4 - Aggregate Update: 0.21040837558841508\n",
      "Step 5 - Aggregate Update: 0.14935044978799272\n",
      "Step 6 - Aggregate Update: 0.08874536861490825\n",
      "Step 7 - Aggregate Update: 0.05809382265185414\n",
      "Step 8 - Aggregate Update: 0.03623515998370541\n",
      "Step 9 - Aggregate Update: 0.6727520368670354\n",
      "Step 10 - Aggregate Update: 0.01141915000991331\n",
      "Step 11 - Aggregate Update: 0.006329862346765969\n",
      "Step 12 - Aggregate Update: 0.0035279579773271064\n",
      "Step 13 - Aggregate Update: 0.002159203813949573\n",
      "Step 14 - Aggregate Update: 0.001726522958820892\n",
      "Step 15 - Aggregate Update: 0.0013636373280573322\n",
      "Step 16 - Aggregate Update: 0.0010662184946773345\n",
      "Step 17 - Aggregate Update: 0.0008271947247669581\n",
      "Step 18 - Aggregate Update: 0.0006377260393279072\n",
      "Step 19 - Aggregate Update: 0.000489046455784431\n",
      "Step 20 - Aggregate Update: 0.00037331229561506085\n",
      "Step 21 - Aggregate Update: 0.00028383847956958697\n",
      "Step 22 - Aggregate Update: 0.00021507727912650765\n",
      "Step 23 - Aggregate Update: 0.00016250650337307215\n",
      "Step 24 - Aggregate Update: 0.00012249201612400673\n",
      "Step 25 - Aggregate Update: 9.214891323786056e-05\n",
      "Step 26 - Aggregate Update: 6.921148962159285e-05\n",
      "Step 27 - Aggregate Update: 5.191680027487322e-05\n",
      "Step 28 - Aggregate Update: 3.890390664357257e-05\n",
      "Step 29 - Aggregate Update: 2.9129158362312113e-05\n",
      "Step 30 - Aggregate Update: 2.1796586402805795e-05\n",
      "Step 31 - Aggregate Update: 1.63018330015946e-05\n",
      "Step 32 - Aggregate Update: 1.2187677903188754e-05\n",
      "Step 33 - Aggregate Update: 9.1092162994022e-06\n",
      "-- Convergence Reached --\n"
     ]
    },
    {
     "name": "stderr",
     "output_type": "stream",
     "text": [
      " 28%|██▊       | 23/83 [04:40<12:53, 12.89s/it]"
     ]
    },
    {
     "name": "stdout",
     "output_type": "stream",
     "text": [
      "2019-11-29 00:00:00 0.09046003468071617\n"
     ]
    },
    {
     "name": "stderr",
     "output_type": "stream",
     "text": [
      "[==                                                                      ]   3%\r"
     ]
    },
    {
     "name": "stdout",
     "output_type": "stream",
     "text": [
      "The panel dimensions are:\n",
      "n_samples: 11539 , L: 20 , T: 311\n"
     ]
    },
    {
     "name": "stderr",
     "output_type": "stream",
     "text": [
      "[========================================================================] 100%\n"
     ]
    },
    {
     "name": "stdout",
     "output_type": "stream",
     "text": [
      "Step 1 - Aggregate Update: 1.0401340432690938\n",
      "Step 2 - Aggregate Update: 1.2989353706265196\n",
      "Step 3 - Aggregate Update: 1.361959105387554\n",
      "Step 4 - Aggregate Update: 0.21302624312252721\n",
      "Step 5 - Aggregate Update: 0.15609602316708093\n",
      "Step 6 - Aggregate Update: 0.08782210642697483\n",
      "Step 7 - Aggregate Update: 0.059253149365644374\n",
      "Step 8 - Aggregate Update: 0.040938726256605294\n",
      "Step 9 - Aggregate Update: 0.27671246871440003\n",
      "Step 10 - Aggregate Update: 0.2620166605274037\n",
      "Step 11 - Aggregate Update: 0.7596560155338719\n",
      "Step 12 - Aggregate Update: 0.01973436779798704\n",
      "Step 13 - Aggregate Update: 0.009232609013828247\n",
      "Step 14 - Aggregate Update: 0.004832014650161864\n",
      "Step 15 - Aggregate Update: 0.0026415998983799482\n",
      "Step 16 - Aggregate Update: 0.0014607049191565913\n",
      "Step 17 - Aggregate Update: 0.000802603240844274\n",
      "Step 18 - Aggregate Update: 0.0004325372360814983\n",
      "Step 19 - Aggregate Update: 0.00022534771686777422\n",
      "Step 20 - Aggregate Update: 0.0001108848523436734\n",
      "Step 21 - Aggregate Update: 6.972775569361045e-05\n",
      "Step 22 - Aggregate Update: 5.2656314382198977e-05\n",
      "Step 23 - Aggregate Update: 3.967302993633515e-05\n",
      "Step 24 - Aggregate Update: 3.109134123044366e-05\n",
      "Step 25 - Aggregate Update: 2.52116376244782e-05\n",
      "Step 26 - Aggregate Update: 2.0034916340810893e-05\n",
      "Step 27 - Aggregate Update: 1.5698771104799558e-05\n",
      "Step 28 - Aggregate Update: 1.2177484612935219e-05\n",
      "Step 29 - Aggregate Update: 9.376171131170175e-06\n",
      "-- Convergence Reached --\n"
     ]
    },
    {
     "name": "stderr",
     "output_type": "stream",
     "text": [
      " 29%|██▉       | 24/83 [04:53<12:40, 12.88s/it]"
     ]
    },
    {
     "name": "stdout",
     "output_type": "stream",
     "text": [
      "2019-12-31 00:00:00 0.09031969475706347\n"
     ]
    },
    {
     "name": "stderr",
     "output_type": "stream",
     "text": [
      "[==                                                                      ]   3%\r"
     ]
    },
    {
     "name": "stdout",
     "output_type": "stream",
     "text": [
      "The panel dimensions are:\n",
      "n_samples: 11556 , L: 20 , T: 312\n"
     ]
    },
    {
     "name": "stderr",
     "output_type": "stream",
     "text": [
      "[========================================================================] 100%\n"
     ]
    },
    {
     "name": "stdout",
     "output_type": "stream",
     "text": [
      "Step 1 - Aggregate Update: 1.0407471709562008\n",
      "Step 2 - Aggregate Update: 1.2838320680468214\n",
      "Step 3 - Aggregate Update: 1.3236687662564162\n",
      "Step 4 - Aggregate Update: 0.22461001992552404\n",
      "Step 5 - Aggregate Update: 0.15636274705628556\n",
      "Step 6 - Aggregate Update: 0.11025492646876464\n",
      "Step 7 - Aggregate Update: 0.08246243243244011\n",
      "Step 8 - Aggregate Update: 0.07814487105629386\n",
      "Step 9 - Aggregate Update: 0.7677059951033478\n",
      "Step 10 - Aggregate Update: 0.0666554882065594\n",
      "Step 11 - Aggregate Update: 0.044056947427829785\n",
      "Step 12 - Aggregate Update: 0.023106007667019313\n",
      "Step 13 - Aggregate Update: 0.010367523452440894\n",
      "Step 14 - Aggregate Update: 0.0037042044347001257\n",
      "Step 15 - Aggregate Update: 0.0007044594729782166\n",
      "Step 16 - Aggregate Update: 0.0008978073867680347\n",
      "Step 17 - Aggregate Update: 0.001383307480352855\n",
      "Step 18 - Aggregate Update: 0.0014373047182671544\n",
      "Step 19 - Aggregate Update: 0.0013053569907909846\n",
      "Step 20 - Aggregate Update: 0.0011098242465343439\n",
      "Step 21 - Aggregate Update: 0.0009086157774395864\n",
      "Step 22 - Aggregate Update: 0.0007265685713202102\n",
      "Step 23 - Aggregate Update: 0.0005720500655244376\n",
      "Step 24 - Aggregate Update: 0.00044563918799019053\n",
      "Step 25 - Aggregate Update: 0.00034458400896729413\n",
      "Step 26 - Aggregate Update: 0.00026502371258023405\n",
      "Step 27 - Aggregate Update: 0.00020303984425441846\n",
      "Step 28 - Aggregate Update: 0.00015510526583807638\n",
      "Step 29 - Aggregate Update: 0.00011823234709873454\n",
      "Step 30 - Aggregate Update: 8.99786562600785e-05\n",
      "Step 31 - Aggregate Update: 6.839181066435607e-05\n",
      "Step 32 - Aggregate Update: 5.193435075417918e-05\n",
      "Step 33 - Aggregate Update: 3.9408017841996434e-05\n",
      "Step 34 - Aggregate Update: 2.9885752072619787e-05\n",
      "Step 35 - Aggregate Update: 2.2654118110018717e-05\n",
      "Step 36 - Aggregate Update: 1.7166218639938502e-05\n",
      "Step 37 - Aggregate Update: 1.3004044461986664e-05\n",
      "Step 38 - Aggregate Update: 9.848798363798483e-06\n",
      "-- Convergence Reached --\n"
     ]
    },
    {
     "name": "stderr",
     "output_type": "stream",
     "text": [
      " 30%|███       | 25/83 [05:06<12:31, 12.96s/it]"
     ]
    },
    {
     "name": "stdout",
     "output_type": "stream",
     "text": [
      "2020-01-31 00:00:00 0.09031552764822504\n"
     ]
    },
    {
     "name": "stderr",
     "output_type": "stream",
     "text": [
      "[==                                                                      ]   3%\r"
     ]
    },
    {
     "name": "stdout",
     "output_type": "stream",
     "text": [
      "The panel dimensions are:\n",
      "n_samples: 11575 , L: 20 , T: 313\n"
     ]
    },
    {
     "name": "stderr",
     "output_type": "stream",
     "text": [
      "[========================================================================] 100%\n"
     ]
    },
    {
     "name": "stdout",
     "output_type": "stream",
     "text": [
      "Step 1 - Aggregate Update: 1.0401180706624964\n",
      "Step 2 - Aggregate Update: 1.2826082170176591\n",
      "Step 3 - Aggregate Update: 1.3296647340926742\n",
      "Step 4 - Aggregate Update: 0.22480385207890682\n",
      "Step 5 - Aggregate Update: 0.1634890630936451\n",
      "Step 6 - Aggregate Update: 0.14395043785281234\n",
      "Step 7 - Aggregate Update: 0.845073605301542\n",
      "Step 8 - Aggregate Update: 0.05039510802775038\n",
      "Step 9 - Aggregate Update: 0.030269135995748514\n",
      "Step 10 - Aggregate Update: 0.018245892538920894\n",
      "Step 11 - Aggregate Update: 0.01001205762376195\n",
      "Step 12 - Aggregate Update: 0.005033590883638778\n",
      "Step 13 - Aggregate Update: 0.002264171059395581\n",
      "Step 14 - Aggregate Update: 0.0009720577839135713\n",
      "Step 15 - Aggregate Update: 0.0005933320970788747\n",
      "Step 16 - Aggregate Update: 0.0003950382303413713\n",
      "Step 17 - Aggregate Update: 0.0004434077149087501\n",
      "Step 18 - Aggregate Update: 0.0004153222885646124\n",
      "Step 19 - Aggregate Update: 0.00035825964783597897\n",
      "Step 20 - Aggregate Update: 0.0002953017902179722\n",
      "Step 21 - Aggregate Update: 0.00023675346858137436\n",
      "Step 22 - Aggregate Update: 0.00018644030373554665\n",
      "Step 23 - Aggregate Update: 0.00014506077237691484\n",
      "Step 24 - Aggregate Update: 0.00011193090907452019\n",
      "Step 25 - Aggregate Update: 8.586433884971711e-05\n",
      "Step 26 - Aggregate Update: 6.559453050053454e-05\n",
      "Step 27 - Aggregate Update: 4.9959753930906015e-05\n",
      "Step 28 - Aggregate Update: 3.796882284340386e-05\n",
      "Step 29 - Aggregate Update: 2.880992069281829e-05\n",
      "Step 30 - Aggregate Update: 2.1834724439007136e-05\n",
      "Step 31 - Aggregate Update: 1.6533942752638975e-05\n",
      "Step 32 - Aggregate Update: 1.2511941362980394e-05\n",
      "Step 33 - Aggregate Update: 9.463751526106456e-06\n",
      "-- Convergence Reached --\n"
     ]
    },
    {
     "name": "stderr",
     "output_type": "stream",
     "text": [
      " 31%|███▏      | 26/83 [05:19<12:18, 12.95s/it]"
     ]
    },
    {
     "name": "stdout",
     "output_type": "stream",
     "text": [
      "2020-02-28 00:00:00 0.09089102990729325\n"
     ]
    },
    {
     "name": "stderr",
     "output_type": "stream",
     "text": [
      "[==                                                                      ]   3%\r"
     ]
    },
    {
     "name": "stdout",
     "output_type": "stream",
     "text": [
      "The panel dimensions are:\n",
      "n_samples: 11595 , L: 20 , T: 314\n"
     ]
    },
    {
     "name": "stderr",
     "output_type": "stream",
     "text": [
      "[========================================================================] 100%\n"
     ]
    },
    {
     "name": "stdout",
     "output_type": "stream",
     "text": [
      "Step 1 - Aggregate Update: 1.031925771821415\n",
      "Step 2 - Aggregate Update: 1.199358371545761\n",
      "Step 3 - Aggregate Update: 1.1282682603336927\n",
      "Step 4 - Aggregate Update: 0.19250573805265192\n",
      "Step 5 - Aggregate Update: 0.3670799420847196\n",
      "Step 6 - Aggregate Update: 0.9575085774500326\n",
      "Step 7 - Aggregate Update: 0.0517967255309931\n",
      "Step 8 - Aggregate Update: 0.026124755939619937\n",
      "Step 9 - Aggregate Update: 0.013311219966946147\n",
      "Step 10 - Aggregate Update: 0.006339374219981431\n",
      "Step 11 - Aggregate Update: 0.0030379988556648585\n",
      "Step 12 - Aggregate Update: 0.0016942171031881503\n",
      "Step 13 - Aggregate Update: 0.0009767928307015394\n",
      "Step 14 - Aggregate Update: 0.0005830517273421876\n",
      "Step 15 - Aggregate Update: 0.0005062356668378287\n",
      "Step 16 - Aggregate Update: 0.00046202424391267316\n",
      "Step 17 - Aggregate Update: 0.000389003673065047\n",
      "Step 18 - Aggregate Update: 0.00031320748366936435\n",
      "Step 19 - Aggregate Update: 0.000245402354492108\n",
      "Step 20 - Aggregate Update: 0.00018892818631238706\n",
      "Step 21 - Aggregate Update: 0.00014375323225224168\n",
      "Step 22 - Aggregate Update: 0.00010850523286010105\n",
      "Step 23 - Aggregate Update: 8.144372320112447e-05\n",
      "Step 24 - Aggregate Update: 6.089155750088615e-05\n",
      "Step 25 - Aggregate Update: 4.5398817112962675e-05\n",
      "Step 26 - Aggregate Update: 3.3780503335634204e-05\n",
      "Step 27 - Aggregate Update: 2.5099553278173925e-05\n",
      "Step 28 - Aggregate Update: 1.8630205913860998e-05\n",
      "Step 29 - Aggregate Update: 1.3817996058873572e-05\n",
      "Step 30 - Aggregate Update: 1.024323581216846e-05\n",
      "Step 31 - Aggregate Update: 7.590284073988318e-06\n",
      "-- Convergence Reached --\n"
     ]
    },
    {
     "name": "stderr",
     "output_type": "stream",
     "text": [
      " 33%|███▎      | 27/83 [05:33<12:17, 13.18s/it]"
     ]
    },
    {
     "name": "stdout",
     "output_type": "stream",
     "text": [
      "2020-03-31 00:00:00 0.09336252358641373\n"
     ]
    },
    {
     "name": "stderr",
     "output_type": "stream",
     "text": [
      "[==                                                                      ]   3%\r"
     ]
    },
    {
     "name": "stdout",
     "output_type": "stream",
     "text": [
      "The panel dimensions are:\n",
      "n_samples: 11608 , L: 20 , T: 315\n"
     ]
    },
    {
     "name": "stderr",
     "output_type": "stream",
     "text": [
      "[========================================================================] 100%\n"
     ]
    },
    {
     "name": "stdout",
     "output_type": "stream",
     "text": [
      "Step 1 - Aggregate Update: 1.2569475763469398\n",
      "Step 2 - Aggregate Update: 1.2238686348557883\n",
      "Step 3 - Aggregate Update: 1.1836410681210645\n",
      "Step 4 - Aggregate Update: 0.23684529644612623\n",
      "Step 5 - Aggregate Update: 0.846237066029249\n",
      "Step 6 - Aggregate Update: 0.11982271137318003\n",
      "Step 7 - Aggregate Update: 0.047151746433239466\n",
      "Step 8 - Aggregate Update: 0.027149583163785518\n",
      "Step 9 - Aggregate Update: 0.015051200461736164\n",
      "Step 10 - Aggregate Update: 0.008463850874175477\n",
      "Step 11 - Aggregate Update: 0.004881983131777956\n",
      "Step 12 - Aggregate Update: 0.0028906723578755733\n",
      "Step 13 - Aggregate Update: 0.0017545508338282223\n",
      "Step 14 - Aggregate Update: 0.0010896754600792369\n",
      "Step 15 - Aggregate Update: 0.0006910668961160049\n",
      "Step 16 - Aggregate Update: 0.0004987354426033708\n",
      "Step 17 - Aggregate Update: 0.0003909152848482478\n",
      "Step 18 - Aggregate Update: 0.00029907563855741115\n",
      "Step 19 - Aggregate Update: 0.00022521816146076068\n",
      "Step 20 - Aggregate Update: 0.0001678015822967338\n",
      "Step 21 - Aggregate Update: 0.00012411177316373756\n",
      "Step 22 - Aggregate Update: 9.13326320193808e-05\n",
      "Step 23 - Aggregate Update: 6.697288291901415e-05\n",
      "Step 24 - Aggregate Update: 4.89883344426123e-05\n",
      "Step 25 - Aggregate Update: 3.57709064481293e-05\n",
      "Step 26 - Aggregate Update: 2.6087879294200977e-05\n",
      "Step 27 - Aggregate Update: 1.9009941522096785e-05\n",
      "Step 28 - Aggregate Update: 1.3844292160836158e-05\n",
      "Step 29 - Aggregate Update: 1.0078368596733167e-05\n",
      "Step 30 - Aggregate Update: 7.334947974335648e-06\n",
      "-- Convergence Reached --\n"
     ]
    },
    {
     "name": "stderr",
     "output_type": "stream",
     "text": [
      " 34%|███▎      | 28/83 [05:46<12:03, 13.15s/it]"
     ]
    },
    {
     "name": "stdout",
     "output_type": "stream",
     "text": [
      "2020-04-30 00:00:00 0.09535902677920316\n"
     ]
    },
    {
     "name": "stderr",
     "output_type": "stream",
     "text": [
      "[==                                                                      ]   3%\r"
     ]
    },
    {
     "name": "stdout",
     "output_type": "stream",
     "text": [
      "The panel dimensions are:\n",
      "n_samples: 11629 , L: 20 , T: 316\n"
     ]
    },
    {
     "name": "stderr",
     "output_type": "stream",
     "text": [
      "[========================================================================] 100%\n"
     ]
    },
    {
     "name": "stdout",
     "output_type": "stream",
     "text": [
      "Step 1 - Aggregate Update: 1.245634437429698\n",
      "Step 2 - Aggregate Update: 1.2405943217737496\n",
      "Step 3 - Aggregate Update: 0.7432991564895527\n",
      "Step 4 - Aggregate Update: 1.279998350154666\n",
      "Step 5 - Aggregate Update: 0.8758006118680404\n",
      "Step 6 - Aggregate Update: 0.11463891859627921\n",
      "Step 7 - Aggregate Update: 0.052025569398426695\n",
      "Step 8 - Aggregate Update: 0.0296204236866337\n",
      "Step 9 - Aggregate Update: 0.01635290201559575\n",
      "Step 10 - Aggregate Update: 0.009128569776808398\n",
      "Step 11 - Aggregate Update: 0.005219709466465328\n",
      "Step 12 - Aggregate Update: 0.003060438763059281\n",
      "Step 13 - Aggregate Update: 0.0018375890547988605\n",
      "Step 14 - Aggregate Update: 0.0011280298083308216\n",
      "Step 15 - Aggregate Update: 0.0007067065384904758\n",
      "Step 16 - Aggregate Update: 0.0004510212577728545\n",
      "Step 17 - Aggregate Update: 0.00029678442348568534\n",
      "Step 18 - Aggregate Update: 0.00022661272662055643\n",
      "Step 19 - Aggregate Update: 0.0001699137861073119\n",
      "Step 20 - Aggregate Update: 0.00012586366390970882\n",
      "Step 21 - Aggregate Update: 9.246509892213428e-05\n",
      "Step 22 - Aggregate Update: 6.754199270031513e-05\n",
      "Step 23 - Aggregate Update: 4.914114719511975e-05\n",
      "Step 24 - Aggregate Update: 3.565462025140187e-05\n",
      "Step 25 - Aggregate Update: 2.581975352289323e-05\n",
      "Step 26 - Aggregate Update: 1.8672940546804462e-05\n",
      "Step 27 - Aggregate Update: 1.3492139149751115e-05\n",
      "Step 28 - Aggregate Update: 9.742854905236964e-06\n",
      "-- Convergence Reached --\n"
     ]
    },
    {
     "name": "stderr",
     "output_type": "stream",
     "text": [
      " 35%|███▍      | 29/83 [05:59<11:52, 13.19s/it]"
     ]
    },
    {
     "name": "stdout",
     "output_type": "stream",
     "text": [
      "2020-05-29 00:00:00 0.09538309337696604\n"
     ]
    },
    {
     "name": "stderr",
     "output_type": "stream",
     "text": [
      "[==                                                                      ]   3%\r"
     ]
    },
    {
     "name": "stdout",
     "output_type": "stream",
     "text": [
      "The panel dimensions are:\n",
      "n_samples: 11662 , L: 20 , T: 317\n"
     ]
    },
    {
     "name": "stderr",
     "output_type": "stream",
     "text": [
      "[========================================================================] 100%\n"
     ]
    },
    {
     "name": "stdout",
     "output_type": "stream",
     "text": [
      "Step 1 - Aggregate Update: 1.2402440789851732\n",
      "Step 2 - Aggregate Update: 1.2630446155839152\n",
      "Step 3 - Aggregate Update: 0.6218865972118263\n",
      "Step 4 - Aggregate Update: 1.308256340705956\n",
      "Step 5 - Aggregate Update: 0.8690353570491236\n",
      "Step 6 - Aggregate Update: 0.12422422491742217\n",
      "Step 7 - Aggregate Update: 0.05478651386547857\n",
      "Step 8 - Aggregate Update: 0.03195602632560307\n",
      "Step 9 - Aggregate Update: 0.01794555296503833\n",
      "Step 10 - Aggregate Update: 0.010148695332803354\n",
      "Step 11 - Aggregate Update: 0.005865688733081298\n",
      "Step 12 - Aggregate Update: 0.0034693193556597224\n",
      "Step 13 - Aggregate Update: 0.002096812114582569\n",
      "Step 14 - Aggregate Update: 0.001292646815997861\n",
      "Step 15 - Aggregate Update: 0.0008113822615885558\n",
      "Step 16 - Aggregate Update: 0.0005176413909613875\n",
      "Step 17 - Aggregate Update: 0.0003350715452149766\n",
      "Step 18 - Aggregate Update: 0.0002196982912079093\n",
      "Step 19 - Aggregate Update: 0.00016275600574072735\n",
      "Step 20 - Aggregate Update: 0.00012042486707292133\n",
      "Step 21 - Aggregate Update: 8.835951189017921e-05\n",
      "Step 22 - Aggregate Update: 6.445899709006664e-05\n",
      "Step 23 - Aggregate Update: 4.6835968018577034e-05\n",
      "Step 24 - Aggregate Update: 3.393722437539104e-05\n",
      "Step 25 - Aggregate Update: 2.4544203473919612e-05\n",
      "Step 26 - Aggregate Update: 1.772808774941348e-05\n",
      "Step 27 - Aggregate Update: 1.2793883751027746e-05\n",
      "Step 28 - Aggregate Update: 9.227902501629526e-06\n",
      "-- Convergence Reached --\n"
     ]
    },
    {
     "name": "stderr",
     "output_type": "stream",
     "text": [
      " 36%|███▌      | 30/83 [06:13<11:37, 13.17s/it]"
     ]
    },
    {
     "name": "stdout",
     "output_type": "stream",
     "text": [
      "2020-06-30 00:00:00 0.09514384598451009\n"
     ]
    },
    {
     "name": "stderr",
     "output_type": "stream",
     "text": [
      "[==                                                                      ]   3%\r"
     ]
    },
    {
     "name": "stdout",
     "output_type": "stream",
     "text": [
      "The panel dimensions are:\n",
      "n_samples: 11695 , L: 20 , T: 318\n"
     ]
    },
    {
     "name": "stderr",
     "output_type": "stream",
     "text": [
      "[========================================================================] 100%\n"
     ]
    },
    {
     "name": "stdout",
     "output_type": "stream",
     "text": [
      "Step 1 - Aggregate Update: 1.2369379536538447\n",
      "Step 2 - Aggregate Update: 1.2549929300110587\n",
      "Step 3 - Aggregate Update: 0.5136434852699524\n",
      "Step 4 - Aggregate Update: 1.3057968452179014\n",
      "Step 5 - Aggregate Update: 0.3492759490937213\n",
      "Step 6 - Aggregate Update: 0.9822613265540919\n",
      "Step 7 - Aggregate Update: 0.055831816565092465\n",
      "Step 8 - Aggregate Update: 0.03181528749505133\n",
      "Step 9 - Aggregate Update: 0.017593519091598286\n",
      "Step 10 - Aggregate Update: 0.009819775155190474\n",
      "Step 11 - Aggregate Update: 0.005619907489136738\n",
      "Step 12 - Aggregate Update: 0.0033027729851941856\n",
      "Step 13 - Aggregate Update: 0.0019901741474377677\n",
      "Step 14 - Aggregate Update: 0.001227095265983108\n",
      "Step 15 - Aggregate Update: 0.0007724886051553581\n",
      "Step 16 - Aggregate Update: 0.0004953873178963064\n",
      "Step 17 - Aggregate Update: 0.000326951436999956\n",
      "Step 18 - Aggregate Update: 0.00025040550998750577\n",
      "Step 19 - Aggregate Update: 0.00018824768016795224\n",
      "Step 20 - Aggregate Update: 0.00013976335072035662\n",
      "Step 21 - Aggregate Update: 0.00010288080673909183\n",
      "Step 22 - Aggregate Update: 7.528076776913695e-05\n",
      "Step 23 - Aggregate Update: 5.48549284179467e-05\n",
      "Step 24 - Aggregate Update: 3.985362156438965e-05\n",
      "Step 25 - Aggregate Update: 2.8894852631133894e-05\n",
      "Step 26 - Aggregate Update: 2.0919159985588465e-05\n",
      "Step 27 - Aggregate Update: 1.5129783107359351e-05\n",
      "Step 28 - Aggregate Update: 1.093515350192309e-05\n",
      "Step 29 - Aggregate Update: 7.899882705109107e-06\n",
      "-- Convergence Reached --\n"
     ]
    },
    {
     "name": "stderr",
     "output_type": "stream",
     "text": [
      " 37%|███▋      | 31/83 [06:26<11:25, 13.18s/it]"
     ]
    },
    {
     "name": "stdout",
     "output_type": "stream",
     "text": [
      "2020-07-31 00:00:00 0.0949884238118246\n"
     ]
    },
    {
     "name": "stderr",
     "output_type": "stream",
     "text": [
      "[==                                                                      ]   3%\r"
     ]
    },
    {
     "name": "stdout",
     "output_type": "stream",
     "text": [
      "The panel dimensions are:\n",
      "n_samples: 11706 , L: 20 , T: 319\n"
     ]
    },
    {
     "name": "stderr",
     "output_type": "stream",
     "text": [
      "[========================================================================] 100%\n"
     ]
    },
    {
     "name": "stdout",
     "output_type": "stream",
     "text": [
      "Step 1 - Aggregate Update: 1.2338512143049203\n",
      "Step 2 - Aggregate Update: 1.2298215684452674\n",
      "Step 3 - Aggregate Update: 1.2571371032929404\n",
      "Step 4 - Aggregate Update: 0.29579566413030356\n",
      "Step 5 - Aggregate Update: 0.8970283542248648\n",
      "Step 6 - Aggregate Update: 0.09850235586432772\n",
      "Step 7 - Aggregate Update: 0.05033894853370123\n",
      "Step 8 - Aggregate Update: 0.02846804271385181\n",
      "Step 9 - Aggregate Update: 0.015409534601042996\n",
      "Step 10 - Aggregate Update: 0.008461964688464746\n",
      "Step 11 - Aggregate Update: 0.004771514436447022\n",
      "Step 12 - Aggregate Update: 0.002764814993939657\n",
      "Step 13 - Aggregate Update: 0.0016438647002616769\n",
      "Step 14 - Aggregate Update: 0.0010010723449071779\n",
      "Step 15 - Aggregate Update: 0.0006231635263469482\n",
      "Step 16 - Aggregate Update: 0.0003956728793890474\n",
      "Step 17 - Aggregate Update: 0.00025566671236862404\n",
      "Step 18 - Aggregate Update: 0.0001895843669663666\n",
      "Step 19 - Aggregate Update: 0.00014309210868190814\n",
      "Step 20 - Aggregate Update: 0.00010648974644877907\n",
      "Step 21 - Aggregate Update: 7.84903613574861e-05\n",
      "Step 22 - Aggregate Update: 5.7466577966847066e-05\n",
      "Step 23 - Aggregate Update: 4.1876334887003264e-05\n",
      "Step 24 - Aggregate Update: 3.041409653892213e-05\n",
      "Step 25 - Aggregate Update: 2.203714877374585e-05\n",
      "Step 26 - Aggregate Update: 1.5940793168522926e-05\n",
      "Step 27 - Aggregate Update: 1.151737401694497e-05\n",
      "Step 28 - Aggregate Update: 8.314592207958604e-06\n",
      "-- Convergence Reached --\n"
     ]
    },
    {
     "name": "stderr",
     "output_type": "stream",
     "text": [
      " 39%|███▊      | 32/83 [06:39<11:18, 13.31s/it]"
     ]
    },
    {
     "name": "stdout",
     "output_type": "stream",
     "text": [
      "2020-08-31 00:00:00 0.09487445670642547\n"
     ]
    },
    {
     "name": "stderr",
     "output_type": "stream",
     "text": [
      "[==                                                                      ]   3%\r"
     ]
    },
    {
     "name": "stdout",
     "output_type": "stream",
     "text": [
      "The panel dimensions are:\n",
      "n_samples: 11730 , L: 20 , T: 320\n"
     ]
    },
    {
     "name": "stderr",
     "output_type": "stream",
     "text": [
      "[========================================================================] 100%\n"
     ]
    },
    {
     "name": "stdout",
     "output_type": "stream",
     "text": [
      "Step 1 - Aggregate Update: 1.2338236921234014\n",
      "Step 2 - Aggregate Update: 1.2343203669414833\n",
      "Step 3 - Aggregate Update: 1.2013654820828958\n",
      "Step 4 - Aggregate Update: 0.27487461978508804\n",
      "Step 5 - Aggregate Update: 0.9220371620678331\n",
      "Step 6 - Aggregate Update: 0.08991355788388897\n",
      "Step 7 - Aggregate Update: 0.04922184313861902\n",
      "Step 8 - Aggregate Update: 0.02772745408955274\n",
      "Step 9 - Aggregate Update: 0.015008234129892717\n",
      "Step 10 - Aggregate Update: 0.008249140841245312\n",
      "Step 11 - Aggregate Update: 0.00465741167666589\n",
      "Step 12 - Aggregate Update: 0.0027030126670868626\n",
      "Step 13 - Aggregate Update: 0.0016102384224948862\n",
      "Step 14 - Aggregate Update: 0.000982788031762355\n",
      "Step 15 - Aggregate Update: 0.000613271033976126\n",
      "Step 16 - Aggregate Update: 0.00039036946700293784\n",
      "Step 17 - Aggregate Update: 0.0002528620305154716\n",
      "Step 18 - Aggregate Update: 0.00018332527130704435\n",
      "Step 19 - Aggregate Update: 0.00013800918119216687\n",
      "Step 20 - Aggregate Update: 0.00010250818508217296\n",
      "Step 21 - Aggregate Update: 7.544258595587605e-05\n",
      "Step 22 - Aggregate Update: 5.5169413547995205e-05\n",
      "Step 23 - Aggregate Update: 4.016342467660916e-05\n",
      "Step 24 - Aggregate Update: 2.9146574434479877e-05\n",
      "Step 25 - Aggregate Update: 2.11043979226333e-05\n",
      "Step 26 - Aggregate Update: 1.5257201656793118e-05\n",
      "Step 27 - Aggregate Update: 1.101792104041266e-05\n",
      "Step 28 - Aggregate Update: 7.950527624589476e-06\n",
      "-- Convergence Reached --\n"
     ]
    },
    {
     "name": "stderr",
     "output_type": "stream",
     "text": [
      " 40%|███▉      | 33/83 [06:53<11:10, 13.42s/it]"
     ]
    },
    {
     "name": "stdout",
     "output_type": "stream",
     "text": [
      "2020-09-30 00:00:00 0.0947357844446034\n"
     ]
    },
    {
     "name": "stderr",
     "output_type": "stream",
     "text": [
      "[==                                                                      ]   3%\r"
     ]
    },
    {
     "name": "stdout",
     "output_type": "stream",
     "text": [
      "The panel dimensions are:\n",
      "n_samples: 11757 , L: 20 , T: 321\n"
     ]
    },
    {
     "name": "stderr",
     "output_type": "stream",
     "text": [
      "[========================================================================] 100%\n"
     ]
    },
    {
     "name": "stdout",
     "output_type": "stream",
     "text": [
      "Step 1 - Aggregate Update: 1.2334550105728455\n",
      "Step 2 - Aggregate Update: 1.2291736119382217\n",
      "Step 3 - Aggregate Update: 1.1522627331967619\n",
      "Step 4 - Aggregate Update: 0.28245262995984977\n",
      "Step 5 - Aggregate Update: 0.9341151726149187\n",
      "Step 6 - Aggregate Update: 0.08651665489112051\n",
      "Step 7 - Aggregate Update: 0.04717004216544003\n",
      "Step 8 - Aggregate Update: 0.026268613519670747\n",
      "Step 9 - Aggregate Update: 0.014162545681316613\n",
      "Step 10 - Aggregate Update: 0.0077702471555380626\n",
      "Step 11 - Aggregate Update: 0.004381808270203652\n",
      "Step 12 - Aggregate Update: 0.0025406764881315824\n",
      "Step 13 - Aggregate Update: 0.0015123455108708717\n",
      "Step 14 - Aggregate Update: 0.0009223993957013232\n",
      "Step 15 - Aggregate Update: 0.0005751983080735379\n",
      "Step 16 - Aggregate Update: 0.00036586730296586656\n",
      "Step 17 - Aggregate Update: 0.00023679078662694475\n",
      "Step 18 - Aggregate Update: 0.00017488372961765863\n",
      "Step 19 - Aggregate Update: 0.00013107528260491996\n",
      "Step 20 - Aggregate Update: 9.698765620819172e-05\n",
      "Step 21 - Aggregate Update: 7.11357123208689e-05\n",
      "Step 22 - Aggregate Update: 5.185547101660415e-05\n",
      "Step 23 - Aggregate Update: 3.7638087964642075e-05\n",
      "Step 24 - Aggregate Update: 2.7235541045556033e-05\n",
      "Step 25 - Aggregate Update: 1.9665608212648955e-05\n",
      "Step 26 - Aggregate Update: 1.4178090129879362e-05\n",
      "Step 27 - Aggregate Update: 1.0210926060960634e-05\n",
      "Step 28 - Aggregate Update: 7.348392769390699e-06\n",
      "-- Convergence Reached --\n"
     ]
    },
    {
     "name": "stderr",
     "output_type": "stream",
     "text": [
      " 41%|████      | 34/83 [07:07<10:59, 13.45s/it]"
     ]
    },
    {
     "name": "stdout",
     "output_type": "stream",
     "text": [
      "2020-10-30 00:00:00 0.0945657362673703\n"
     ]
    },
    {
     "name": "stderr",
     "output_type": "stream",
     "text": [
      "[==                                                                      ]   3%\r"
     ]
    },
    {
     "name": "stdout",
     "output_type": "stream",
     "text": [
      "The panel dimensions are:\n",
      "n_samples: 11769 , L: 20 , T: 322\n"
     ]
    },
    {
     "name": "stderr",
     "output_type": "stream",
     "text": [
      "[========================================================================] 100%\n"
     ]
    },
    {
     "name": "stdout",
     "output_type": "stream",
     "text": [
      "Step 1 - Aggregate Update: 1.2159998915338923\n",
      "Step 2 - Aggregate Update: 1.2268796352325428\n",
      "Step 3 - Aggregate Update: 0.8673573197018192\n",
      "Step 4 - Aggregate Update: 0.17966226150190096\n",
      "Step 5 - Aggregate Update: 0.09836579800225854\n",
      "Step 6 - Aggregate Update: 0.0584453353084952\n",
      "Step 7 - Aggregate Update: 0.028944904883405884\n",
      "Step 8 - Aggregate Update: 0.01427535171558969\n",
      "Step 9 - Aggregate Update: 0.007171449371756983\n",
      "Step 10 - Aggregate Update: 0.003648504852853063\n",
      "Step 11 - Aggregate Update: 0.001913190613644436\n",
      "Step 12 - Aggregate Update: 0.0010316714186605833\n",
      "Step 13 - Aggregate Update: 0.0005636965011042924\n",
      "Step 14 - Aggregate Update: 0.0003119607048790926\n",
      "Step 15 - Aggregate Update: 0.00017478944871036906\n",
      "Step 16 - Aggregate Update: 9.909993107935777e-05\n",
      "Step 17 - Aggregate Update: 5.682243384751845e-05\n",
      "Step 18 - Aggregate Update: 3.534998155965696e-05\n",
      "Step 19 - Aggregate Update: 2.3002910393227216e-05\n",
      "Step 20 - Aggregate Update: 1.4836213641705731e-05\n",
      "Step 21 - Aggregate Update: 9.507181088275196e-06\n",
      "-- Convergence Reached --\n"
     ]
    },
    {
     "name": "stderr",
     "output_type": "stream",
     "text": [
      " 42%|████▏     | 35/83 [07:20<10:45, 13.45s/it]"
     ]
    },
    {
     "name": "stdout",
     "output_type": "stream",
     "text": [
      "2020-11-30 00:00:00 0.09682168265359503\n"
     ]
    },
    {
     "name": "stderr",
     "output_type": "stream",
     "text": [
      "[==                                                                      ]   3%\r"
     ]
    },
    {
     "name": "stdout",
     "output_type": "stream",
     "text": [
      "The panel dimensions are:\n",
      "n_samples: 11798 , L: 20 , T: 323\n"
     ]
    },
    {
     "name": "stderr",
     "output_type": "stream",
     "text": [
      "[========================================================================] 100%\n"
     ]
    },
    {
     "name": "stdout",
     "output_type": "stream",
     "text": [
      "Step 1 - Aggregate Update: 1.2113781958054486\n",
      "Step 2 - Aggregate Update: 1.1445373332003952\n",
      "Step 3 - Aggregate Update: 0.6931492210660359\n",
      "Step 4 - Aggregate Update: 0.15701800357636048\n",
      "Step 5 - Aggregate Update: 0.09436455466902448\n",
      "Step 6 - Aggregate Update: 0.050429959053069184\n",
      "Step 7 - Aggregate Update: 0.024185298883361545\n",
      "Step 8 - Aggregate Update: 0.011762241008503316\n",
      "Step 9 - Aggregate Update: 0.005835980150376452\n",
      "Step 10 - Aggregate Update: 0.0029299326646313184\n",
      "Step 11 - Aggregate Update: 0.0014808361562886063\n",
      "Step 12 - Aggregate Update: 0.0007707444516373285\n",
      "Step 13 - Aggregate Update: 0.000410505569616082\n",
      "Step 14 - Aggregate Update: 0.0002210451843335931\n",
      "Step 15 - Aggregate Update: 0.0001202830821985662\n",
      "Step 16 - Aggregate Update: 6.611601713096132e-05\n",
      "Step 17 - Aggregate Update: 3.669428873735725e-05\n",
      "Step 18 - Aggregate Update: 2.0552987641114795e-05\n",
      "Step 19 - Aggregate Update: 1.2565208235365555e-05\n",
      "Step 20 - Aggregate Update: 7.891775141682933e-06\n",
      "-- Convergence Reached --\n"
     ]
    },
    {
     "name": "stderr",
     "output_type": "stream",
     "text": [
      " 43%|████▎     | 36/83 [07:34<10:33, 13.47s/it]"
     ]
    },
    {
     "name": "stdout",
     "output_type": "stream",
     "text": [
      "2020-12-31 00:00:00 0.09684159616287857\n"
     ]
    },
    {
     "name": "stderr",
     "output_type": "stream",
     "text": [
      "[==                                                                      ]   3%\r"
     ]
    },
    {
     "name": "stdout",
     "output_type": "stream",
     "text": [
      "The panel dimensions are:\n",
      "n_samples: 11812 , L: 20 , T: 324\n"
     ]
    },
    {
     "name": "stderr",
     "output_type": "stream",
     "text": [
      "[========================================================================] 100%\n"
     ]
    },
    {
     "name": "stdout",
     "output_type": "stream",
     "text": [
      "Step 1 - Aggregate Update: 1.1973647207204883\n",
      "Step 2 - Aggregate Update: 1.109703530549824\n",
      "Step 3 - Aggregate Update: 0.6335619204410478\n",
      "Step 4 - Aggregate Update: 0.18201976679278026\n",
      "Step 5 - Aggregate Update: 0.10049425393802347\n",
      "Step 6 - Aggregate Update: 0.054423556666332196\n",
      "Step 7 - Aggregate Update: 0.026140127280009917\n",
      "Step 8 - Aggregate Update: 0.012508176847265629\n",
      "Step 9 - Aggregate Update: 0.006201103763688737\n",
      "Step 10 - Aggregate Update: 0.0031231280981843523\n",
      "Step 11 - Aggregate Update: 0.0015888319510030946\n",
      "Step 12 - Aggregate Update: 0.000904328729634446\n",
      "Step 13 - Aggregate Update: 0.0005557290058220699\n",
      "Step 14 - Aggregate Update: 0.00035094694652543224\n",
      "Step 15 - Aggregate Update: 0.0002400963962528868\n",
      "Step 16 - Aggregate Update: 0.0001652249394055172\n",
      "Step 17 - Aggregate Update: 0.00011329781905516922\n",
      "Step 18 - Aggregate Update: 7.744618858046559e-05\n",
      "Step 19 - Aggregate Update: 5.279983126715848e-05\n",
      "Step 20 - Aggregate Update: 3.592109079403327e-05\n",
      "Step 21 - Aggregate Update: 2.439887468214108e-05\n",
      "Step 22 - Aggregate Update: 1.6553502042826462e-05\n",
      "Step 23 - Aggregate Update: 1.122224471800104e-05\n",
      "Step 24 - Aggregate Update: 7.60470060995333e-06\n",
      "-- Convergence Reached --\n"
     ]
    },
    {
     "name": "stderr",
     "output_type": "stream",
     "text": [
      " 45%|████▍     | 37/83 [07:47<10:22, 13.54s/it]"
     ]
    },
    {
     "name": "stdout",
     "output_type": "stream",
     "text": [
      "2021-01-29 00:00:00 0.09608229794943435\n"
     ]
    },
    {
     "name": "stderr",
     "output_type": "stream",
     "text": [
      "[==                                                                      ]   3%\r"
     ]
    },
    {
     "name": "stdout",
     "output_type": "stream",
     "text": [
      "The panel dimensions are:\n",
      "n_samples: 11835 , L: 20 , T: 325\n"
     ]
    },
    {
     "name": "stderr",
     "output_type": "stream",
     "text": [
      "[========================================================================] 100%\n"
     ]
    },
    {
     "name": "stdout",
     "output_type": "stream",
     "text": [
      "Step 1 - Aggregate Update: 1.1940902292933666\n",
      "Step 2 - Aggregate Update: 1.065349600692285\n",
      "Step 3 - Aggregate Update: 0.5288195146007788\n",
      "Step 4 - Aggregate Update: 0.14754533129955466\n",
      "Step 5 - Aggregate Update: 0.08904675170440875\n",
      "Step 6 - Aggregate Update: 0.04677555864671554\n",
      "Step 7 - Aggregate Update: 0.022758962857288095\n",
      "Step 8 - Aggregate Update: 0.011310776227910962\n",
      "Step 9 - Aggregate Update: 0.005759384241099952\n",
      "Step 10 - Aggregate Update: 0.0030682039617860035\n",
      "Step 11 - Aggregate Update: 0.0017525589412862932\n",
      "Step 12 - Aggregate Update: 0.0010540687397995671\n",
      "Step 13 - Aggregate Update: 0.0006372295252681098\n",
      "Step 14 - Aggregate Update: 0.0004390227056564888\n",
      "Step 15 - Aggregate Update: 0.0003060818735734494\n",
      "Step 16 - Aggregate Update: 0.0002116813679898244\n",
      "Step 17 - Aggregate Update: 0.0001454207773993743\n",
      "Step 18 - Aggregate Update: 9.935710130271058e-05\n",
      "Step 19 - Aggregate Update: 6.758604691670111e-05\n",
      "Step 20 - Aggregate Update: 4.581310114859516e-05\n",
      "Step 21 - Aggregate Update: 3.0968778886031334e-05\n",
      "Step 22 - Aggregate Update: 2.0889754213548883e-05\n",
      "Step 23 - Aggregate Update: 1.4068372219566694e-05\n",
      "Step 24 - Aggregate Update: 9.46329173895366e-06\n",
      "-- Convergence Reached --\n"
     ]
    },
    {
     "name": "stderr",
     "output_type": "stream",
     "text": [
      " 46%|████▌     | 38/83 [08:01<10:09, 13.55s/it]"
     ]
    },
    {
     "name": "stdout",
     "output_type": "stream",
     "text": [
      "2021-02-26 00:00:00 0.09619452202876788\n"
     ]
    },
    {
     "name": "stderr",
     "output_type": "stream",
     "text": [
      "[==                                                                      ]   3%\r"
     ]
    },
    {
     "name": "stdout",
     "output_type": "stream",
     "text": [
      "The panel dimensions are:\n",
      "n_samples: 11868 , L: 20 , T: 326\n"
     ]
    },
    {
     "name": "stderr",
     "output_type": "stream",
     "text": [
      "[========================================================================] 100%\n"
     ]
    },
    {
     "name": "stdout",
     "output_type": "stream",
     "text": [
      "Step 1 - Aggregate Update: 1.1966358680251035\n",
      "Step 2 - Aggregate Update: 1.0584606447664613\n",
      "Step 3 - Aggregate Update: 0.5038578946861205\n",
      "Step 4 - Aggregate Update: 0.14607475639354012\n",
      "Step 5 - Aggregate Update: 0.08940838924509029\n",
      "Step 6 - Aggregate Update: 0.046584124435256766\n",
      "Step 7 - Aggregate Update: 0.022488603600673424\n",
      "Step 8 - Aggregate Update: 0.011090669541000575\n",
      "Step 9 - Aggregate Update: 0.005603472781869678\n",
      "Step 10 - Aggregate Update: 0.002880779215010121\n",
      "Step 11 - Aggregate Update: 0.0016579511675437753\n",
      "Step 12 - Aggregate Update: 0.000991309873479257\n",
      "Step 13 - Aggregate Update: 0.0006350516555441027\n",
      "Step 14 - Aggregate Update: 0.000436832827950262\n",
      "Step 15 - Aggregate Update: 0.0003032446151274293\n",
      "Step 16 - Aggregate Update: 0.0002091409960903734\n",
      "Step 17 - Aggregate Update: 0.00014346524504876834\n",
      "Step 18 - Aggregate Update: 9.798602124733158e-05\n",
      "Step 19 - Aggregate Update: 6.669385956425966e-05\n",
      "Step 20 - Aggregate Update: 4.5274139377105005e-05\n",
      "Step 21 - Aggregate Update: 3.067198847228614e-05\n",
      "Step 22 - Aggregate Update: 2.0748998295183618e-05\n",
      "Step 23 - Aggregate Update: 1.4021971285305135e-05\n",
      "Step 24 - Aggregate Update: 9.469652746008084e-06\n",
      "-- Convergence Reached --\n"
     ]
    },
    {
     "name": "stderr",
     "output_type": "stream",
     "text": [
      " 47%|████▋     | 39/83 [08:14<09:56, 13.56s/it]"
     ]
    },
    {
     "name": "stdout",
     "output_type": "stream",
     "text": [
      "2021-03-31 00:00:00 0.09606485507383566\n"
     ]
    },
    {
     "name": "stderr",
     "output_type": "stream",
     "text": [
      "[==                                                                      ]   3%\r"
     ]
    },
    {
     "name": "stdout",
     "output_type": "stream",
     "text": [
      "The panel dimensions are:\n",
      "n_samples: 11900 , L: 20 , T: 327\n"
     ]
    },
    {
     "name": "stderr",
     "output_type": "stream",
     "text": [
      "[========================================================================] 100%\n"
     ]
    },
    {
     "name": "stdout",
     "output_type": "stream",
     "text": [
      "Step 1 - Aggregate Update: 1.1963192776717884\n",
      "Step 2 - Aggregate Update: 1.0401273161656381\n",
      "Step 3 - Aggregate Update: 0.47901727280763984\n",
      "Step 4 - Aggregate Update: 0.1421730048053838\n",
      "Step 5 - Aggregate Update: 0.08832762771656344\n",
      "Step 6 - Aggregate Update: 0.04567208358008781\n",
      "Step 7 - Aggregate Update: 0.02201906425972902\n",
      "Step 8 - Aggregate Update: 0.010857056772885287\n",
      "Step 9 - Aggregate Update: 0.005484798089225973\n",
      "Step 10 - Aggregate Update: 0.0028191999059512807\n",
      "Step 11 - Aggregate Update: 0.001613408094720492\n",
      "Step 12 - Aggregate Update: 0.0009802548019773039\n",
      "Step 13 - Aggregate Update: 0.0006547880936011719\n",
      "Step 14 - Aggregate Update: 0.0004552110559968292\n",
      "Step 15 - Aggregate Update: 0.00031650563462254366\n",
      "Step 16 - Aggregate Update: 0.0002187226186573521\n",
      "Step 17 - Aggregate Update: 0.00015039427868146493\n",
      "Step 18 - Aggregate Update: 0.00010299754631548641\n",
      "Step 19 - Aggregate Update: 7.031653920286374e-05\n",
      "Step 20 - Aggregate Update: 4.788992560106342e-05\n",
      "Step 21 - Aggregate Update: 3.255780511113304e-05\n",
      "Step 22 - Aggregate Update: 2.2106043875702586e-05\n",
      "Step 23 - Aggregate Update: 1.4996536807143634e-05\n",
      "Step 24 - Aggregate Update: 1.0168067340721176e-05\n",
      "Step 25 - Aggregate Update: 6.892339414033e-06\n",
      "-- Convergence Reached --\n"
     ]
    },
    {
     "name": "stderr",
     "output_type": "stream",
     "text": [
      " 48%|████▊     | 40/83 [08:28<09:44, 13.60s/it]"
     ]
    },
    {
     "name": "stdout",
     "output_type": "stream",
     "text": [
      "2021-04-30 00:00:00 0.0958337287040868\n"
     ]
    },
    {
     "name": "stderr",
     "output_type": "stream",
     "text": [
      "[==                                                                      ]   3%\r"
     ]
    },
    {
     "name": "stdout",
     "output_type": "stream",
     "text": [
      "The panel dimensions are:\n",
      "n_samples: 11927 , L: 20 , T: 328\n"
     ]
    },
    {
     "name": "stderr",
     "output_type": "stream",
     "text": [
      "[========================================================================] 100%\n"
     ]
    },
    {
     "name": "stdout",
     "output_type": "stream",
     "text": [
      "Step 1 - Aggregate Update: 1.1986296195261912\n",
      "Step 2 - Aggregate Update: 1.07253834368637\n",
      "Step 3 - Aggregate Update: 0.5208533004457202\n",
      "Step 4 - Aggregate Update: 0.1466257110810525\n",
      "Step 5 - Aggregate Update: 0.09032231604732607\n",
      "Step 6 - Aggregate Update: 0.04776996297546507\n",
      "Step 7 - Aggregate Update: 0.023240030512304402\n",
      "Step 8 - Aggregate Update: 0.011526017997690069\n",
      "Step 9 - Aggregate Update: 0.005854614168528366\n",
      "Step 10 - Aggregate Update: 0.003027939298444915\n",
      "Step 11 - Aggregate Update: 0.0017584970328474656\n",
      "Step 12 - Aggregate Update: 0.0011097564434312673\n",
      "Step 13 - Aggregate Update: 0.0007393059141107272\n",
      "Step 14 - Aggregate Update: 0.0004945339718863406\n",
      "Step 15 - Aggregate Update: 0.0003318035394226093\n",
      "Step 16 - Aggregate Update: 0.00022464991287068914\n",
      "Step 17 - Aggregate Update: 0.00015400394695203046\n",
      "Step 18 - Aggregate Update: 0.00010530794010343847\n",
      "Step 19 - Aggregate Update: 7.187091030552706e-05\n",
      "Step 20 - Aggregate Update: 4.898252382007362e-05\n",
      "Step 21 - Aggregate Update: 3.33525240176491e-05\n",
      "Step 22 - Aggregate Update: 2.2698074359006615e-05\n",
      "Step 23 - Aggregate Update: 1.544423155808161e-05\n",
      "Step 24 - Aggregate Update: 1.0509406250913678e-05\n",
      "Step 25 - Aggregate Update: 7.153498802814351e-06\n",
      "-- Convergence Reached --\n"
     ]
    },
    {
     "name": "stderr",
     "output_type": "stream",
     "text": [
      " 49%|████▉     | 41/83 [08:42<09:34, 13.67s/it]"
     ]
    },
    {
     "name": "stdout",
     "output_type": "stream",
     "text": [
      "2021-05-28 00:00:00 0.09567971870437286\n"
     ]
    },
    {
     "name": "stderr",
     "output_type": "stream",
     "text": [
      "[==                                                                      ]   3%\r"
     ]
    },
    {
     "name": "stdout",
     "output_type": "stream",
     "text": [
      "The panel dimensions are:\n",
      "n_samples: 11959 , L: 20 , T: 329\n"
     ]
    },
    {
     "name": "stderr",
     "output_type": "stream",
     "text": [
      "[========================================================================] 100%\n"
     ]
    },
    {
     "name": "stdout",
     "output_type": "stream",
     "text": [
      "Step 1 - Aggregate Update: 1.1965690018672326\n",
      "Step 2 - Aggregate Update: 1.0734104130892752\n",
      "Step 3 - Aggregate Update: 0.5328272218959852\n",
      "Step 4 - Aggregate Update: 0.1467228382096578\n",
      "Step 5 - Aggregate Update: 0.08935065631391612\n",
      "Step 6 - Aggregate Update: 0.047165895626379684\n",
      "Step 7 - Aggregate Update: 0.022972446558452292\n",
      "Step 8 - Aggregate Update: 0.011410609865643101\n",
      "Step 9 - Aggregate Update: 0.005802425255460736\n",
      "Step 10 - Aggregate Update: 0.0030016643874622717\n",
      "Step 11 - Aggregate Update: 0.0017625289846730056\n",
      "Step 12 - Aggregate Update: 0.0011181569409888237\n",
      "Step 13 - Aggregate Update: 0.0007419423951884607\n",
      "Step 14 - Aggregate Update: 0.0004942348066782065\n",
      "Step 15 - Aggregate Update: 0.0003301791976073193\n",
      "Step 16 - Aggregate Update: 0.00022105691671417405\n",
      "Step 17 - Aggregate Update: 0.00014925890313699508\n",
      "Step 18 - Aggregate Update: 0.00010159559759914671\n",
      "Step 19 - Aggregate Update: 6.902266335501173e-05\n",
      "Step 20 - Aggregate Update: 4.682953214718566e-05\n",
      "Step 21 - Aggregate Update: 3.174386121590489e-05\n",
      "Step 22 - Aggregate Update: 2.150714097609585e-05\n",
      "Step 23 - Aggregate Update: 1.4569060421243396e-05\n",
      "Step 24 - Aggregate Update: 9.870138684753282e-06\n",
      "-- Convergence Reached --\n"
     ]
    },
    {
     "name": "stderr",
     "output_type": "stream",
     "text": [
      " 51%|█████     | 42/83 [08:56<09:22, 13.73s/it]"
     ]
    },
    {
     "name": "stdout",
     "output_type": "stream",
     "text": [
      "2021-06-30 00:00:00 0.09560578138980091\n"
     ]
    },
    {
     "name": "stderr",
     "output_type": "stream",
     "text": [
      "[==                                                                      ]   3%\r"
     ]
    },
    {
     "name": "stdout",
     "output_type": "stream",
     "text": [
      "The panel dimensions are:\n",
      "n_samples: 11987 , L: 20 , T: 330\n"
     ]
    },
    {
     "name": "stderr",
     "output_type": "stream",
     "text": [
      "[========================================================================] 100%\n"
     ]
    },
    {
     "name": "stdout",
     "output_type": "stream",
     "text": [
      "Step 1 - Aggregate Update: 1.1953072790823556\n",
      "Step 2 - Aggregate Update: 1.0670702574714732\n",
      "Step 3 - Aggregate Update: 0.5012590225008956\n",
      "Step 4 - Aggregate Update: 0.14430353575407123\n",
      "Step 5 - Aggregate Update: 0.08912465265643228\n",
      "Step 6 - Aggregate Update: 0.04701089861544486\n",
      "Step 7 - Aggregate Update: 0.022940194653096532\n",
      "Step 8 - Aggregate Update: 0.011424349051427196\n",
      "Step 9 - Aggregate Update: 0.005827767922902072\n",
      "Step 10 - Aggregate Update: 0.00316036489935978\n",
      "Step 11 - Aggregate Update: 0.001832499381859795\n",
      "Step 12 - Aggregate Update: 0.001161200122156883\n",
      "Step 13 - Aggregate Update: 0.0007681263303840474\n",
      "Step 14 - Aggregate Update: 0.0005095376039788296\n",
      "Step 15 - Aggregate Update: 0.00033870561718661596\n",
      "Step 16 - Aggregate Update: 0.00022894545201318506\n",
      "Step 17 - Aggregate Update: 0.00015523631385716552\n",
      "Step 18 - Aggregate Update: 0.00010498054362273468\n",
      "Step 19 - Aggregate Update: 7.085095945646991e-05\n",
      "Step 20 - Aggregate Update: 4.774660878265058e-05\n",
      "Step 21 - Aggregate Update: 3.214452801036938e-05\n",
      "Step 22 - Aggregate Update: 2.1628027858766607e-05\n",
      "Step 23 - Aggregate Update: 1.4548602438768654e-05\n",
      "Step 24 - Aggregate Update: 9.786858341631621e-06\n",
      "-- Convergence Reached --\n"
     ]
    },
    {
     "name": "stderr",
     "output_type": "stream",
     "text": [
      " 52%|█████▏    | 43/83 [09:10<09:10, 13.75s/it]"
     ]
    },
    {
     "name": "stdout",
     "output_type": "stream",
     "text": [
      "2021-07-30 00:00:00 0.09571921482655676\n"
     ]
    },
    {
     "name": "stderr",
     "output_type": "stream",
     "text": [
      "[==                                                                      ]   3%\r"
     ]
    },
    {
     "name": "stdout",
     "output_type": "stream",
     "text": [
      "The panel dimensions are:\n",
      "n_samples: 11996 , L: 20 , T: 331\n"
     ]
    },
    {
     "name": "stderr",
     "output_type": "stream",
     "text": [
      "[========================================================================] 100%\n"
     ]
    },
    {
     "name": "stdout",
     "output_type": "stream",
     "text": [
      "Step 1 - Aggregate Update: 1.19602854959051\n",
      "Step 2 - Aggregate Update: 1.0662738672887395\n",
      "Step 3 - Aggregate Update: 0.5073590198443685\n",
      "Step 4 - Aggregate Update: 0.14510665915686885\n",
      "Step 5 - Aggregate Update: 0.0890309722548993\n",
      "Step 6 - Aggregate Update: 0.04712172553508187\n",
      "Step 7 - Aggregate Update: 0.023056172758247645\n",
      "Step 8 - Aggregate Update: 0.011507954833161721\n",
      "Step 9 - Aggregate Update: 0.0058806932588304495\n",
      "Step 10 - Aggregate Update: 0.003103556801027696\n",
      "Step 11 - Aggregate Update: 0.0018427237311932528\n",
      "Step 12 - Aggregate Update: 0.0011906466342388594\n",
      "Step 13 - Aggregate Update: 0.0007885053284445859\n",
      "Step 14 - Aggregate Update: 0.0005237138816345382\n",
      "Step 15 - Aggregate Update: 0.0003485917358542201\n",
      "Step 16 - Aggregate Update: 0.0002324027120189226\n",
      "Step 17 - Aggregate Update: 0.00015692464615135737\n",
      "Step 18 - Aggregate Update: 0.00010618073251128513\n",
      "Step 19 - Aggregate Update: 7.171430869423734e-05\n",
      "Step 20 - Aggregate Update: 4.837201905599775e-05\n",
      "Step 21 - Aggregate Update: 3.2599178575398735e-05\n",
      "Step 22 - Aggregate Update: 2.1958933885901644e-05\n",
      "Step 23 - Aggregate Update: 1.4789366012735172e-05\n",
      "Step 24 - Aggregate Update: 9.961817981518628e-06\n",
      "-- Convergence Reached --\n"
     ]
    },
    {
     "name": "stderr",
     "output_type": "stream",
     "text": [
      " 53%|█████▎    | 44/83 [09:24<09:00, 13.86s/it]"
     ]
    },
    {
     "name": "stdout",
     "output_type": "stream",
     "text": [
      "2021-08-31 00:00:00 0.09544018298651369\n"
     ]
    },
    {
     "name": "stderr",
     "output_type": "stream",
     "text": [
      "[==                                                                      ]   3%\r"
     ]
    },
    {
     "name": "stdout",
     "output_type": "stream",
     "text": [
      "The panel dimensions are:\n",
      "n_samples: 12018 , L: 20 , T: 332\n"
     ]
    },
    {
     "name": "stderr",
     "output_type": "stream",
     "text": [
      "[========================================================================] 100%\n"
     ]
    },
    {
     "name": "stdout",
     "output_type": "stream",
     "text": [
      "Step 1 - Aggregate Update: 1.1971117188341138\n",
      "Step 2 - Aggregate Update: 1.0556650097452314\n",
      "Step 3 - Aggregate Update: 0.528956393350074\n",
      "Step 4 - Aggregate Update: 0.14236678093859073\n",
      "Step 5 - Aggregate Update: 0.08812273026238977\n",
      "Step 6 - Aggregate Update: 0.046350270298120944\n",
      "Step 7 - Aggregate Update: 0.02258311182690781\n",
      "Step 8 - Aggregate Update: 0.011229224189726772\n",
      "Step 9 - Aggregate Update: 0.005718453376832633\n",
      "Step 10 - Aggregate Update: 0.0033387768067987544\n",
      "Step 11 - Aggregate Update: 0.0022164004731621972\n",
      "Step 12 - Aggregate Update: 0.0014740030601186477\n",
      "Step 13 - Aggregate Update: 0.0009836303128428342\n",
      "Step 14 - Aggregate Update: 0.0006587176589634286\n",
      "Step 15 - Aggregate Update: 0.0004425542639535651\n",
      "Step 16 - Aggregate Update: 0.00029818259046796025\n",
      "Step 17 - Aggregate Update: 0.00020143133007485825\n",
      "Step 18 - Aggregate Update: 0.0001364010743784283\n",
      "Step 19 - Aggregate Update: 9.257625401597191e-05\n",
      "Step 20 - Aggregate Update: 6.297018421731748e-05\n",
      "Step 21 - Aggregate Update: 4.2923523479773684e-05\n",
      "Step 22 - Aggregate Update: 2.931942319155112e-05\n",
      "Step 23 - Aggregate Update: 2.0067316226640708e-05\n",
      "Step 24 - Aggregate Update: 1.3761596568434564e-05\n",
      "Step 25 - Aggregate Update: 9.455027854821108e-06\n",
      "-- Convergence Reached --\n"
     ]
    },
    {
     "name": "stderr",
     "output_type": "stream",
     "text": [
      " 54%|█████▍    | 45/83 [09:38<08:49, 13.94s/it]"
     ]
    },
    {
     "name": "stdout",
     "output_type": "stream",
     "text": [
      "2021-09-30 00:00:00 0.09546560881770483\n"
     ]
    },
    {
     "name": "stderr",
     "output_type": "stream",
     "text": [
      "[==                                                                      ]   3%\r"
     ]
    },
    {
     "name": "stdout",
     "output_type": "stream",
     "text": [
      "The panel dimensions are:\n",
      "n_samples: 12040 , L: 20 , T: 333\n"
     ]
    },
    {
     "name": "stderr",
     "output_type": "stream",
     "text": [
      "[========================================================================] 100%\n"
     ]
    },
    {
     "name": "stdout",
     "output_type": "stream",
     "text": [
      "Step 1 - Aggregate Update: 1.1965620687762455\n",
      "Step 2 - Aggregate Update: 1.0518838371180637\n",
      "Step 3 - Aggregate Update: 0.5421599774336598\n",
      "Step 4 - Aggregate Update: 0.14191626080361286\n",
      "Step 5 - Aggregate Update: 0.08824730937787342\n",
      "Step 6 - Aggregate Update: 0.04634244570485936\n",
      "Step 7 - Aggregate Update: 0.02254392411709727\n",
      "Step 8 - Aggregate Update: 0.011195101441999061\n",
      "Step 9 - Aggregate Update: 0.005695470377307388\n",
      "Step 10 - Aggregate Update: 0.0035163965900945338\n",
      "Step 11 - Aggregate Update: 0.0023395364765200766\n",
      "Step 12 - Aggregate Update: 0.0015586562551140604\n",
      "Step 13 - Aggregate Update: 0.0010417493911069053\n",
      "Step 14 - Aggregate Update: 0.0006986888803121316\n",
      "Step 15 - Aggregate Update: 0.00047012609615684764\n",
      "Step 16 - Aggregate Update: 0.0003172660920721382\n",
      "Step 17 - Aggregate Update: 0.000214685824731789\n",
      "Step 18 - Aggregate Update: 0.00014563869149662734\n",
      "Step 19 - Aggregate Update: 9.903579040325405e-05\n",
      "Step 20 - Aggregate Update: 6.750151338261179e-05\n",
      "Step 21 - Aggregate Update: 4.6111829045236696e-05\n",
      "Step 22 - Aggregate Update: 3.1569110536755485e-05\n",
      "Step 23 - Aggregate Update: 2.1658874828175967e-05\n",
      "Step 24 - Aggregate Update: 1.489026507560387e-05\n",
      "Step 25 - Aggregate Update: 1.0488632928462582e-05\n",
      "Step 26 - Aggregate Update: 7.502791295521671e-06\n",
      "-- Convergence Reached --\n"
     ]
    },
    {
     "name": "stderr",
     "output_type": "stream",
     "text": [
      " 55%|█████▌    | 46/83 [09:52<08:35, 13.94s/it]"
     ]
    },
    {
     "name": "stdout",
     "output_type": "stream",
     "text": [
      "2021-10-29 00:00:00 0.09532591073788488\n"
     ]
    },
    {
     "name": "stderr",
     "output_type": "stream",
     "text": [
      "[==                                                                      ]   3%\r"
     ]
    },
    {
     "name": "stdout",
     "output_type": "stream",
     "text": [
      "The panel dimensions are:\n",
      "n_samples: 12050 , L: 20 , T: 334\n"
     ]
    },
    {
     "name": "stderr",
     "output_type": "stream",
     "text": [
      "[========================================================================] 100%\n"
     ]
    },
    {
     "name": "stdout",
     "output_type": "stream",
     "text": [
      "Step 1 - Aggregate Update: 1.194083306611788\n",
      "Step 2 - Aggregate Update: 1.0361805657370253\n",
      "Step 3 - Aggregate Update: 0.539337314283497\n",
      "Step 4 - Aggregate Update: 0.12015530329913565\n",
      "Step 5 - Aggregate Update: 0.08042043039997308\n",
      "Step 6 - Aggregate Update: 0.0419035597787778\n",
      "Step 7 - Aggregate Update: 0.020666934046788668\n",
      "Step 8 - Aggregate Update: 0.010391088647325741\n",
      "Step 9 - Aggregate Update: 0.005338302211929297\n",
      "Step 10 - Aggregate Update: 0.0033561843744339126\n",
      "Step 11 - Aggregate Update: 0.002207247088269762\n",
      "Step 12 - Aggregate Update: 0.0014506719542776297\n",
      "Step 13 - Aggregate Update: 0.0009543867334020906\n",
      "Step 14 - Aggregate Update: 0.0006287312907103659\n",
      "Step 15 - Aggregate Update: 0.0004147279728520942\n",
      "Step 16 - Aggregate Update: 0.0002738814581372956\n",
      "Step 17 - Aggregate Update: 0.00018106073143012158\n",
      "Step 18 - Aggregate Update: 0.00011982160560823629\n",
      "Step 19 - Aggregate Update: 7.937848039576978e-05\n",
      "Step 20 - Aggregate Update: 5.2643878562214086e-05\n",
      "Step 21 - Aggregate Update: 3.495405169501309e-05\n",
      "Step 22 - Aggregate Update: 2.3237012430871173e-05\n",
      "Step 23 - Aggregate Update: 1.5467600020663275e-05\n",
      "Step 24 - Aggregate Update: 1.030975614037255e-05\n",
      "Step 25 - Aggregate Update: 6.881367791547466e-06\n",
      "-- Convergence Reached --\n"
     ]
    },
    {
     "name": "stderr",
     "output_type": "stream",
     "text": [
      " 57%|█████▋    | 47/83 [10:06<08:24, 14.01s/it]"
     ]
    },
    {
     "name": "stdout",
     "output_type": "stream",
     "text": [
      "2021-11-30 00:00:00 0.09542497184624243\n"
     ]
    },
    {
     "name": "stderr",
     "output_type": "stream",
     "text": [
      "[==                                                                      ]   3%\r"
     ]
    },
    {
     "name": "stdout",
     "output_type": "stream",
     "text": [
      "The panel dimensions are:\n",
      "n_samples: 12061 , L: 20 , T: 335\n"
     ]
    },
    {
     "name": "stderr",
     "output_type": "stream",
     "text": [
      "[========================================================================] 100%\n"
     ]
    },
    {
     "name": "stdout",
     "output_type": "stream",
     "text": [
      "Step 1 - Aggregate Update: 1.1948130641666017\n",
      "Step 2 - Aggregate Update: 1.0330191093291767\n",
      "Step 3 - Aggregate Update: 0.5503017699087612\n",
      "Step 4 - Aggregate Update: 0.12016784017145582\n",
      "Step 5 - Aggregate Update: 0.08082392685445333\n",
      "Step 6 - Aggregate Update: 0.04215666689773956\n",
      "Step 7 - Aggregate Update: 0.0207929047828931\n",
      "Step 8 - Aggregate Update: 0.01045445125662578\n",
      "Step 9 - Aggregate Update: 0.005371942993331713\n",
      "Step 10 - Aggregate Update: 0.003127246811577486\n",
      "Step 11 - Aggregate Update: 0.0019368206903850604\n",
      "Step 12 - Aggregate Update: 0.0012651896543493246\n",
      "Step 13 - Aggregate Update: 0.0008266079736932164\n",
      "Step 14 - Aggregate Update: 0.000540461750070248\n",
      "Step 15 - Aggregate Update: 0.0003536686047229398\n",
      "Step 16 - Aggregate Update: 0.0002316270201566939\n",
      "Step 17 - Aggregate Update: 0.00015182375596753395\n",
      "Step 18 - Aggregate Update: 9.959995804315058e-05\n",
      "Step 19 - Aggregate Update: 6.539914818295967e-05\n",
      "Step 20 - Aggregate Update: 4.298449302550522e-05\n",
      "Step 21 - Aggregate Update: 2.8282339853774596e-05\n",
      "Step 22 - Aggregate Update: 1.863028967608038e-05\n",
      "Step 23 - Aggregate Update: 1.2287366585594928e-05\n",
      "Step 24 - Aggregate Update: 8.114518703583595e-06\n",
      "-- Convergence Reached --\n"
     ]
    },
    {
     "name": "stderr",
     "output_type": "stream",
     "text": [
      " 58%|█████▊    | 48/83 [10:20<08:11, 14.05s/it]"
     ]
    },
    {
     "name": "stdout",
     "output_type": "stream",
     "text": [
      "2021-12-31 00:00:00 0.09530891885923143\n"
     ]
    },
    {
     "name": "stderr",
     "output_type": "stream",
     "text": [
      "[==                                                                      ]   3%\r"
     ]
    },
    {
     "name": "stdout",
     "output_type": "stream",
     "text": [
      "The panel dimensions are:\n",
      "n_samples: 12077 , L: 20 , T: 336\n"
     ]
    },
    {
     "name": "stderr",
     "output_type": "stream",
     "text": [
      "[========================================================================] 100%\n"
     ]
    },
    {
     "name": "stdout",
     "output_type": "stream",
     "text": [
      "Step 1 - Aggregate Update: 1.1918445407250888\n",
      "Step 2 - Aggregate Update: 1.0100672426896873\n",
      "Step 3 - Aggregate Update: 0.7157155320874091\n",
      "Step 4 - Aggregate Update: 0.11378329017457056\n",
      "Step 5 - Aggregate Update: 0.0776769662098939\n",
      "Step 6 - Aggregate Update: 0.0406698723337396\n",
      "Step 7 - Aggregate Update: 0.02007950406560531\n",
      "Step 8 - Aggregate Update: 0.010204978837900974\n",
      "Step 9 - Aggregate Update: 0.005659271901094304\n",
      "Step 10 - Aggregate Update: 0.0033005916442457803\n",
      "Step 11 - Aggregate Update: 0.0020165521636102968\n",
      "Step 12 - Aggregate Update: 0.0012312645723784252\n",
      "Step 13 - Aggregate Update: 0.0007590744700573249\n",
      "Step 14 - Aggregate Update: 0.0004846701685415622\n",
      "Step 15 - Aggregate Update: 0.00030983875138335115\n",
      "Step 16 - Aggregate Update: 0.0001982689087145495\n",
      "Step 17 - Aggregate Update: 0.0001269690761379061\n",
      "Step 18 - Aggregate Update: 8.135416262344819e-05\n",
      "Step 19 - Aggregate Update: 5.2148157026282727e-05\n",
      "Step 20 - Aggregate Update: 3.350796945567058e-05\n",
      "Step 21 - Aggregate Update: 2.175855579472641e-05\n",
      "Step 22 - Aggregate Update: 1.4125384701413335e-05\n",
      "Step 23 - Aggregate Update: 9.16799423494874e-06\n",
      "-- Convergence Reached --\n"
     ]
    },
    {
     "name": "stderr",
     "output_type": "stream",
     "text": [
      " 59%|█████▉    | 49/83 [10:34<08:00, 14.15s/it]"
     ]
    },
    {
     "name": "stdout",
     "output_type": "stream",
     "text": [
      "2022-01-31 00:00:00 0.09584772281803067\n"
     ]
    },
    {
     "name": "stderr",
     "output_type": "stream",
     "text": [
      "[==                                                                      ]   3%\r"
     ]
    },
    {
     "name": "stdout",
     "output_type": "stream",
     "text": [
      "The panel dimensions are:\n",
      "n_samples: 12084 , L: 20 , T: 337\n"
     ]
    },
    {
     "name": "stderr",
     "output_type": "stream",
     "text": [
      "[========================================================================] 100%\n"
     ]
    },
    {
     "name": "stdout",
     "output_type": "stream",
     "text": [
      "Step 1 - Aggregate Update: 1.1934066934798138\n",
      "Step 2 - Aggregate Update: 1.0303871938812534\n",
      "Step 3 - Aggregate Update: 0.7030453546954449\n",
      "Step 4 - Aggregate Update: 0.11301224716536579\n",
      "Step 5 - Aggregate Update: 0.07726883041855302\n",
      "Step 6 - Aggregate Update: 0.040472061737262616\n",
      "Step 7 - Aggregate Update: 0.019987645277439334\n",
      "Step 8 - Aggregate Update: 0.010522041616808309\n",
      "Step 9 - Aggregate Update: 0.005903714614510225\n",
      "Step 10 - Aggregate Update: 0.0033596853616946476\n",
      "Step 11 - Aggregate Update: 0.0020511683101152867\n",
      "Step 12 - Aggregate Update: 0.0012531087733092527\n",
      "Step 13 - Aggregate Update: 0.0007805691947608551\n",
      "Step 14 - Aggregate Update: 0.0004967681459616125\n",
      "Step 15 - Aggregate Update: 0.0003163918752017436\n",
      "Step 16 - Aggregate Update: 0.00020163196151271046\n",
      "Step 17 - Aggregate Update: 0.00013038211770538544\n",
      "Step 18 - Aggregate Update: 8.469992537152304e-05\n",
      "Step 19 - Aggregate Update: 5.501788301193189e-05\n",
      "Step 20 - Aggregate Update: 3.5731009550288295e-05\n",
      "Step 21 - Aggregate Update: 2.3200645710264034e-05\n",
      "Step 22 - Aggregate Update: 1.5061877013888836e-05\n",
      "Step 23 - Aggregate Update: 9.776962214325113e-06\n",
      "-- Convergence Reached --\n"
     ]
    },
    {
     "name": "stderr",
     "output_type": "stream",
     "text": [
      " 60%|██████    | 50/83 [10:49<07:51, 14.28s/it]"
     ]
    },
    {
     "name": "stdout",
     "output_type": "stream",
     "text": [
      "2022-02-28 00:00:00 0.09568651370258885\n"
     ]
    },
    {
     "name": "stderr",
     "output_type": "stream",
     "text": [
      "[==                                                                      ]   3%\r"
     ]
    },
    {
     "name": "stdout",
     "output_type": "stream",
     "text": [
      "The panel dimensions are:\n",
      "n_samples: 12091 , L: 20 , T: 338\n"
     ]
    },
    {
     "name": "stderr",
     "output_type": "stream",
     "text": [
      "[========================================================================] 100%\n"
     ]
    },
    {
     "name": "stdout",
     "output_type": "stream",
     "text": [
      "Step 1 - Aggregate Update: 1.1926029315907178\n",
      "Step 2 - Aggregate Update: 1.0446729798104373\n",
      "Step 3 - Aggregate Update: 0.7009614565103341\n",
      "Step 4 - Aggregate Update: 0.11659343308726822\n",
      "Step 5 - Aggregate Update: 0.07871772484330707\n",
      "Step 6 - Aggregate Update: 0.04209000239746298\n",
      "Step 7 - Aggregate Update: 0.021030380258255224\n",
      "Step 8 - Aggregate Update: 0.011740509166750235\n",
      "Step 9 - Aggregate Update: 0.0067670777072176835\n",
      "Step 10 - Aggregate Update: 0.003955113491764695\n",
      "Step 11 - Aggregate Update: 0.0023533883417719836\n",
      "Step 12 - Aggregate Update: 0.0015198791146581736\n",
      "Step 13 - Aggregate Update: 0.0009968730829700845\n",
      "Step 14 - Aggregate Update: 0.0006550733139617515\n",
      "Step 15 - Aggregate Update: 0.0004310247358987329\n",
      "Step 16 - Aggregate Update: 0.00028383029338119314\n",
      "Step 17 - Aggregate Update: 0.00018698361412178288\n",
      "Step 18 - Aggregate Update: 0.00012320768237789048\n",
      "Step 19 - Aggregate Update: 8.11908537217132e-05\n",
      "Step 20 - Aggregate Update: 5.35042916352535e-05\n",
      "Step 21 - Aggregate Update: 3.5259823500222165e-05\n",
      "Step 22 - Aggregate Update: 2.3237643258899876e-05\n",
      "Step 23 - Aggregate Update: 1.5315872971100042e-05\n",
      "Step 24 - Aggregate Update: 1.009600250151399e-05\n",
      "Step 25 - Aggregate Update: 6.656346422662107e-06\n",
      "-- Convergence Reached --\n"
     ]
    },
    {
     "name": "stderr",
     "output_type": "stream",
     "text": [
      " 61%|██████▏   | 51/83 [11:04<07:40, 14.38s/it]"
     ]
    },
    {
     "name": "stdout",
     "output_type": "stream",
     "text": [
      "2022-03-31 00:00:00 0.09551742424309007\n"
     ]
    },
    {
     "name": "stderr",
     "output_type": "stream",
     "text": [
      "[==                                                                      ]   3%\r"
     ]
    },
    {
     "name": "stdout",
     "output_type": "stream",
     "text": [
      "The panel dimensions are:\n",
      "n_samples: 12104 , L: 20 , T: 339\n"
     ]
    },
    {
     "name": "stderr",
     "output_type": "stream",
     "text": [
      "[========================================================================] 100%\n"
     ]
    },
    {
     "name": "stdout",
     "output_type": "stream",
     "text": [
      "Step 1 - Aggregate Update: 1.1884562368700247\n",
      "Step 2 - Aggregate Update: 1.048189194393602\n",
      "Step 3 - Aggregate Update: 0.7517971010325541\n",
      "Step 4 - Aggregate Update: 0.1077203290366742\n",
      "Step 5 - Aggregate Update: 0.06985394350788451\n",
      "Step 6 - Aggregate Update: 0.036273238546223635\n",
      "Step 7 - Aggregate Update: 0.018076419984432004\n",
      "Step 8 - Aggregate Update: 0.009902156208234009\n",
      "Step 9 - Aggregate Update: 0.005641742480563261\n",
      "Step 10 - Aggregate Update: 0.003433743111017601\n",
      "Step 11 - Aggregate Update: 0.0021921992666528167\n",
      "Step 12 - Aggregate Update: 0.0013950635686828805\n",
      "Step 13 - Aggregate Update: 0.0008868662051266796\n",
      "Step 14 - Aggregate Update: 0.0005675163816729611\n",
      "Step 15 - Aggregate Update: 0.00036691388045706486\n",
      "Step 16 - Aggregate Update: 0.00023731161073076157\n",
      "Step 17 - Aggregate Update: 0.0001535186748473083\n",
      "Step 18 - Aggregate Update: 9.932143284147044e-05\n",
      "Step 19 - Aggregate Update: 6.426058306913118e-05\n",
      "Step 20 - Aggregate Update: 4.15783419822624e-05\n",
      "Step 21 - Aggregate Update: 2.6904496221891172e-05\n",
      "Step 22 - Aggregate Update: 1.7411654967658396e-05\n",
      "Step 23 - Aggregate Update: 1.1270389035311634e-05\n",
      "Step 24 - Aggregate Update: 7.297073099266083e-06\n",
      "-- Convergence Reached --\n"
     ]
    },
    {
     "name": "stderr",
     "output_type": "stream",
     "text": [
      " 63%|██████▎   | 52/83 [11:18<07:28, 14.48s/it]"
     ]
    },
    {
     "name": "stdout",
     "output_type": "stream",
     "text": [
      "2022-04-29 00:00:00 0.09638706509396866\n"
     ]
    },
    {
     "name": "stderr",
     "output_type": "stream",
     "text": [
      "[==                                                                      ]   3%\r"
     ]
    },
    {
     "name": "stdout",
     "output_type": "stream",
     "text": [
      "The panel dimensions are:\n",
      "n_samples: 12110 , L: 20 , T: 340\n"
     ]
    },
    {
     "name": "stderr",
     "output_type": "stream",
     "text": [
      "[========================================================================] 100%\n"
     ]
    },
    {
     "name": "stdout",
     "output_type": "stream",
     "text": [
      "Step 1 - Aggregate Update: 1.506838069840141\n",
      "Step 2 - Aggregate Update: 1.0003361836050706\n",
      "Step 3 - Aggregate Update: 0.7446630524010358\n",
      "Step 4 - Aggregate Update: 0.10700572315884366\n",
      "Step 5 - Aggregate Update: 0.0670062092363643\n",
      "Step 6 - Aggregate Update: 0.03443228006137662\n",
      "Step 7 - Aggregate Update: 0.017085907589424992\n",
      "Step 8 - Aggregate Update: 0.00950944316552918\n",
      "Step 9 - Aggregate Update: 0.005425779545415038\n",
      "Step 10 - Aggregate Update: 0.003217046693970181\n",
      "Step 11 - Aggregate Update: 0.0019543713802202684\n",
      "Step 12 - Aggregate Update: 0.0011932460934547806\n",
      "Step 13 - Aggregate Update: 0.0007547657947804265\n",
      "Step 14 - Aggregate Update: 0.0004786124798645264\n",
      "Step 15 - Aggregate Update: 0.0003093376197197406\n",
      "Step 16 - Aggregate Update: 0.0002000040858074481\n",
      "Step 17 - Aggregate Update: 0.0001293487147110417\n",
      "Step 18 - Aggregate Update: 8.367303884870836e-05\n",
      "Step 19 - Aggregate Update: 5.4139284209553384e-05\n",
      "Step 20 - Aggregate Update: 3.503976031205003e-05\n",
      "Step 21 - Aggregate Update: 2.268604690935927e-05\n",
      "Step 22 - Aggregate Update: 1.4693930763864937e-05\n",
      "Step 23 - Aggregate Update: 9.522100360426222e-06\n",
      "-- Convergence Reached --\n"
     ]
    },
    {
     "name": "stderr",
     "output_type": "stream",
     "text": [
      " 64%|██████▍   | 53/83 [11:33<07:19, 14.66s/it]"
     ]
    },
    {
     "name": "stdout",
     "output_type": "stream",
     "text": [
      "2022-05-31 00:00:00 0.09619136757625657\n"
     ]
    },
    {
     "name": "stderr",
     "output_type": "stream",
     "text": [
      "[==                                                                      ]   3%\r"
     ]
    },
    {
     "name": "stdout",
     "output_type": "stream",
     "text": [
      "The panel dimensions are:\n",
      "n_samples: 12131 , L: 20 , T: 341\n"
     ]
    },
    {
     "name": "stderr",
     "output_type": "stream",
     "text": [
      "[========================================================================] 100%\n"
     ]
    },
    {
     "name": "stdout",
     "output_type": "stream",
     "text": [
      "Step 1 - Aggregate Update: 1.1913861779126445\n",
      "Step 2 - Aggregate Update: 1.0345556525526587\n",
      "Step 3 - Aggregate Update: 0.7999731199241\n",
      "Step 4 - Aggregate Update: 0.10643220708560688\n",
      "Step 5 - Aggregate Update: 0.06590095527054605\n",
      "Step 6 - Aggregate Update: 0.03417775636625349\n",
      "Step 7 - Aggregate Update: 0.017643481810807354\n",
      "Step 8 - Aggregate Update: 0.009596282545717927\n",
      "Step 9 - Aggregate Update: 0.005532342073744506\n",
      "Step 10 - Aggregate Update: 0.003243018312441198\n",
      "Step 11 - Aggregate Update: 0.001937066113110536\n",
      "Step 12 - Aggregate Update: 0.0012409957810639027\n",
      "Step 13 - Aggregate Update: 0.0008068886592734748\n",
      "Step 14 - Aggregate Update: 0.0005240261275165636\n",
      "Step 15 - Aggregate Update: 0.00034004171217927315\n",
      "Step 16 - Aggregate Update: 0.00022051036278947223\n",
      "Step 17 - Aggregate Update: 0.00014292260670151213\n",
      "Step 18 - Aggregate Update: 9.259814431006319e-05\n",
      "Step 19 - Aggregate Update: 5.997755250186643e-05\n",
      "Step 20 - Aggregate Update: 3.88434047440267e-05\n",
      "Step 21 - Aggregate Update: 2.5156187808239583e-05\n",
      "Step 22 - Aggregate Update: 1.629395925140109e-05\n",
      "Step 23 - Aggregate Update: 1.0556383998439056e-05\n",
      "Step 24 - Aggregate Update: 6.936258770906534e-06\n",
      "-- Convergence Reached --\n"
     ]
    },
    {
     "name": "stderr",
     "output_type": "stream",
     "text": [
      " 65%|██████▌   | 54/83 [11:49<07:09, 14.79s/it]"
     ]
    },
    {
     "name": "stdout",
     "output_type": "stream",
     "text": [
      "2022-06-30 00:00:00 0.09685097467889026\n"
     ]
    },
    {
     "name": "stderr",
     "output_type": "stream",
     "text": [
      "[==                                                                      ]   3%\r"
     ]
    },
    {
     "name": "stdout",
     "output_type": "stream",
     "text": [
      "The panel dimensions are:\n",
      "n_samples: 12155 , L: 20 , T: 342\n"
     ]
    },
    {
     "name": "stderr",
     "output_type": "stream",
     "text": [
      "[========================================================================] 100%\n"
     ]
    },
    {
     "name": "stdout",
     "output_type": "stream",
     "text": [
      "Step 1 - Aggregate Update: 1.1765362450584607\n",
      "Step 2 - Aggregate Update: 1.0223184632165112\n",
      "Step 3 - Aggregate Update: 0.7964836951168646\n",
      "Step 4 - Aggregate Update: 0.10452882907192387\n",
      "Step 5 - Aggregate Update: 0.06487544957682354\n",
      "Step 6 - Aggregate Update: 0.03308528873799724\n",
      "Step 7 - Aggregate Update: 0.016498629210424776\n",
      "Step 8 - Aggregate Update: 0.00848681792421005\n",
      "Step 9 - Aggregate Update: 0.004887198525317244\n",
      "Step 10 - Aggregate Update: 0.0030114660858734143\n",
      "Step 11 - Aggregate Update: 0.0018521330277846849\n",
      "Step 12 - Aggregate Update: 0.0011591870211330457\n",
      "Step 13 - Aggregate Update: 0.0007509789055130112\n",
      "Step 14 - Aggregate Update: 0.0004858343148753108\n",
      "Step 15 - Aggregate Update: 0.0003139621280804916\n",
      "Step 16 - Aggregate Update: 0.0002027075247322263\n",
      "Step 17 - Aggregate Update: 0.000130773833790232\n",
      "Step 18 - Aggregate Update: 8.431062410796386e-05\n",
      "Step 19 - Aggregate Update: 5.4326063315734974e-05\n",
      "Step 20 - Aggregate Update: 3.499085477864927e-05\n",
      "Step 21 - Aggregate Update: 2.2530849109192452e-05\n",
      "Step 22 - Aggregate Update: 1.4505490273375443e-05\n",
      "Step 23 - Aggregate Update: 9.338388000601494e-06\n",
      "-- Convergence Reached --\n"
     ]
    },
    {
     "name": "stderr",
     "output_type": "stream",
     "text": [
      " 66%|██████▋   | 55/83 [12:03<06:50, 14.67s/it]"
     ]
    },
    {
     "name": "stdout",
     "output_type": "stream",
     "text": [
      "2022-07-29 00:00:00 0.0972808244738178\n"
     ]
    },
    {
     "name": "stderr",
     "output_type": "stream",
     "text": [
      "[==                                                                      ]   3%\r"
     ]
    },
    {
     "name": "stdout",
     "output_type": "stream",
     "text": [
      "The panel dimensions are:\n",
      "n_samples: 12183 , L: 20 , T: 343\n"
     ]
    },
    {
     "name": "stderr",
     "output_type": "stream",
     "text": [
      "[========================================================================] 100%\n"
     ]
    },
    {
     "name": "stdout",
     "output_type": "stream",
     "text": [
      "Step 1 - Aggregate Update: 1.1764413323723597\n",
      "Step 2 - Aggregate Update: 1.0234375985438442\n",
      "Step 3 - Aggregate Update: 0.7973488548184686\n",
      "Step 4 - Aggregate Update: 0.10493232948559233\n",
      "Step 5 - Aggregate Update: 0.06509809704080968\n",
      "Step 6 - Aggregate Update: 0.033143894180665254\n",
      "Step 7 - Aggregate Update: 0.016505955701857047\n",
      "Step 8 - Aggregate Update: 0.008472550596167028\n",
      "Step 9 - Aggregate Update: 0.00493642175091245\n",
      "Step 10 - Aggregate Update: 0.0030445113151960274\n",
      "Step 11 - Aggregate Update: 0.0018743777045364942\n",
      "Step 12 - Aggregate Update: 0.0011538176407889095\n",
      "Step 13 - Aggregate Update: 0.0007402716204404913\n",
      "Step 14 - Aggregate Update: 0.0004801462696368275\n",
      "Step 15 - Aggregate Update: 0.00031109254991412705\n",
      "Step 16 - Aggregate Update: 0.00020138246443723862\n",
      "Step 17 - Aggregate Update: 0.0001302653032073109\n",
      "Step 18 - Aggregate Update: 8.421042709477744e-05\n",
      "Step 19 - Aggregate Update: 5.441134363559641e-05\n",
      "Step 20 - Aggregate Update: 3.5144535958930856e-05\n",
      "Step 21 - Aggregate Update: 2.2694981708037965e-05\n",
      "Step 22 - Aggregate Update: 1.4654245352907491e-05\n",
      "Step 23 - Aggregate Update: 9.462687226569066e-06\n",
      "-- Convergence Reached --\n"
     ]
    },
    {
     "name": "stderr",
     "output_type": "stream",
     "text": [
      " 67%|██████▋   | 56/83 [12:18<06:38, 14.76s/it]"
     ]
    },
    {
     "name": "stdout",
     "output_type": "stream",
     "text": [
      "2022-08-31 00:00:00 0.09729439722481348\n"
     ]
    },
    {
     "name": "stderr",
     "output_type": "stream",
     "text": [
      "[==                                                                      ]   3%\r"
     ]
    },
    {
     "name": "stdout",
     "output_type": "stream",
     "text": [
      "The panel dimensions are:\n",
      "n_samples: 12212 , L: 20 , T: 344\n"
     ]
    },
    {
     "name": "stderr",
     "output_type": "stream",
     "text": [
      "[========================================================================] 100%\n"
     ]
    },
    {
     "name": "stdout",
     "output_type": "stream",
     "text": [
      "Step 1 - Aggregate Update: 1.1709717233321286\n",
      "Step 2 - Aggregate Update: 0.9962709502993221\n",
      "Step 3 - Aggregate Update: 0.7914046576288633\n",
      "Step 4 - Aggregate Update: 0.10009644072949248\n",
      "Step 5 - Aggregate Update: 0.06224319168722191\n",
      "Step 6 - Aggregate Update: 0.03140188843357472\n",
      "Step 7 - Aggregate Update: 0.015648544019969735\n",
      "Step 8 - Aggregate Update: 0.00794381689230711\n",
      "Step 9 - Aggregate Update: 0.0048063271890168855\n",
      "Step 10 - Aggregate Update: 0.002966289003693818\n",
      "Step 11 - Aggregate Update: 0.0018270026758500785\n",
      "Step 12 - Aggregate Update: 0.00112490767026223\n",
      "Step 13 - Aggregate Update: 0.0007031918634539114\n",
      "Step 14 - Aggregate Update: 0.0004493750007179831\n",
      "Step 15 - Aggregate Update: 0.0002889626053547145\n",
      "Step 16 - Aggregate Update: 0.00018702500315836978\n",
      "Step 17 - Aggregate Update: 0.00012095976694592725\n",
      "Step 18 - Aggregate Update: 7.81759641299562e-05\n",
      "Step 19 - Aggregate Update: 5.0491724296386487e-05\n",
      "Step 20 - Aggregate Update: 3.2592430286026985e-05\n",
      "Step 21 - Aggregate Update: 2.1028316122273516e-05\n",
      "Step 22 - Aggregate Update: 1.3562134221933864e-05\n",
      "Step 23 - Aggregate Update: 8.744444282338115e-06\n",
      "-- Convergence Reached --\n"
     ]
    },
    {
     "name": "stderr",
     "output_type": "stream",
     "text": [
      " 69%|██████▊   | 57/83 [12:33<06:22, 14.72s/it]"
     ]
    },
    {
     "name": "stdout",
     "output_type": "stream",
     "text": [
      "2022-09-30 00:00:00 0.09820727547568608\n"
     ]
    },
    {
     "name": "stderr",
     "output_type": "stream",
     "text": [
      "[==                                                                      ]   3%\r"
     ]
    },
    {
     "name": "stdout",
     "output_type": "stream",
     "text": [
      "The panel dimensions are:\n",
      "n_samples: 12238 , L: 20 , T: 345\n"
     ]
    },
    {
     "name": "stderr",
     "output_type": "stream",
     "text": [
      "[========================================================================] 100%\n"
     ]
    },
    {
     "name": "stdout",
     "output_type": "stream",
     "text": [
      "Step 1 - Aggregate Update: 1.165636788083888\n",
      "Step 2 - Aggregate Update: 0.9605947442710276\n",
      "Step 3 - Aggregate Update: 0.7905961545120181\n",
      "Step 4 - Aggregate Update: 0.10209641438153991\n",
      "Step 5 - Aggregate Update: 0.06319539252777912\n",
      "Step 6 - Aggregate Update: 0.03148553241971466\n",
      "Step 7 - Aggregate Update: 0.015535088963229887\n",
      "Step 8 - Aggregate Update: 0.007816513897087457\n",
      "Step 9 - Aggregate Update: 0.004322771645094639\n",
      "Step 10 - Aggregate Update: 0.0026442037711400055\n",
      "Step 11 - Aggregate Update: 0.0016129678777214284\n",
      "Step 12 - Aggregate Update: 0.0010314150005665268\n",
      "Step 13 - Aggregate Update: 0.0006617970371432524\n",
      "Step 14 - Aggregate Update: 0.00042472636461743374\n",
      "Step 15 - Aggregate Update: 0.0002726132576704732\n",
      "Step 16 - Aggregate Update: 0.0001749746016877496\n",
      "Step 17 - Aggregate Update: 0.0001122901255808384\n",
      "Step 18 - Aggregate Update: 7.204680881567338e-05\n",
      "Step 19 - Aggregate Update: 4.621479958466512e-05\n",
      "Step 20 - Aggregate Update: 2.9637453648923007e-05\n",
      "Step 21 - Aggregate Update: 1.9002186775696206e-05\n",
      "Step 22 - Aggregate Update: 1.2181019007628802e-05\n",
      "Step 23 - Aggregate Update: 7.807240750501432e-06\n",
      "-- Convergence Reached --\n"
     ]
    },
    {
     "name": "stderr",
     "output_type": "stream",
     "text": [
      " 70%|██████▉   | 58/83 [12:48<06:12, 14.91s/it]"
     ]
    },
    {
     "name": "stdout",
     "output_type": "stream",
     "text": [
      "2022-10-31 00:00:00 0.09871054874613605\n"
     ]
    },
    {
     "name": "stderr",
     "output_type": "stream",
     "text": [
      "[==                                                                      ]   3%\r"
     ]
    },
    {
     "name": "stdout",
     "output_type": "stream",
     "text": [
      "The panel dimensions are:\n",
      "n_samples: 12260 , L: 20 , T: 346\n"
     ]
    },
    {
     "name": "stderr",
     "output_type": "stream",
     "text": [
      "[========================================================================] 100%\n"
     ]
    },
    {
     "name": "stdout",
     "output_type": "stream",
     "text": [
      "Step 1 - Aggregate Update: 1.1657858549809774\n",
      "Step 2 - Aggregate Update: 0.9663173207241734\n",
      "Step 3 - Aggregate Update: 0.7883865062483704\n",
      "Step 4 - Aggregate Update: 0.1021906928467138\n",
      "Step 5 - Aggregate Update: 0.0630033130403406\n",
      "Step 6 - Aggregate Update: 0.03132475280634582\n",
      "Step 7 - Aggregate Update: 0.015444701791184637\n",
      "Step 8 - Aggregate Update: 0.0077693950601265965\n",
      "Step 9 - Aggregate Update: 0.004328666797529666\n",
      "Step 10 - Aggregate Update: 0.002645242553496366\n",
      "Step 11 - Aggregate Update: 0.0016144545628153095\n",
      "Step 12 - Aggregate Update: 0.0010318920649573238\n",
      "Step 13 - Aggregate Update: 0.0006623997804865445\n",
      "Step 14 - Aggregate Update: 0.00042523380430314894\n",
      "Step 15 - Aggregate Update: 0.0002729347981255126\n",
      "Step 16 - Aggregate Update: 0.00017513617061454267\n",
      "Step 17 - Aggregate Update: 0.00011234229516204897\n",
      "Step 18 - Aggregate Update: 7.20343391197309e-05\n",
      "Step 19 - Aggregate Update: 4.616969161663764e-05\n",
      "Step 20 - Aggregate Update: 2.958001129882426e-05\n",
      "Step 21 - Aggregate Update: 1.8944062455283905e-05\n",
      "Step 22 - Aggregate Update: 1.2128132877375908e-05\n",
      "Step 23 - Aggregate Update: 7.762006326572646e-06\n",
      "-- Convergence Reached --\n"
     ]
    },
    {
     "name": "stderr",
     "output_type": "stream",
     "text": [
      " 71%|███████   | 59/83 [13:03<05:59, 14.99s/it]"
     ]
    },
    {
     "name": "stdout",
     "output_type": "stream",
     "text": [
      "2022-11-30 00:00:00 0.09856478190679296\n"
     ]
    },
    {
     "name": "stderr",
     "output_type": "stream",
     "text": [
      "[==                                                                      ]   3%\r"
     ]
    },
    {
     "name": "stdout",
     "output_type": "stream",
     "text": [
      "The panel dimensions are:\n",
      "n_samples: 12288 , L: 20 , T: 347\n"
     ]
    },
    {
     "name": "stderr",
     "output_type": "stream",
     "text": [
      "[========================================================================] 100%\n"
     ]
    },
    {
     "name": "stdout",
     "output_type": "stream",
     "text": [
      "Step 1 - Aggregate Update: 1.1657114694648623\n",
      "Step 2 - Aggregate Update: 0.9503153020768386\n",
      "Step 3 - Aggregate Update: 0.7090355586214238\n",
      "Step 4 - Aggregate Update: 0.10078461390203906\n",
      "Step 5 - Aggregate Update: 0.06045540497472239\n",
      "Step 6 - Aggregate Update: 0.029830905688940576\n",
      "Step 7 - Aggregate Update: 0.014664291329324161\n",
      "Step 8 - Aggregate Update: 0.00735495112908835\n",
      "Step 9 - Aggregate Update: 0.004130984243062713\n",
      "Step 10 - Aggregate Update: 0.0025187572517973034\n",
      "Step 11 - Aggregate Update: 0.0015321252685705725\n",
      "Step 12 - Aggregate Update: 0.0009313808116321225\n",
      "Step 13 - Aggregate Update: 0.0005945202359137758\n",
      "Step 14 - Aggregate Update: 0.00037963460460543885\n",
      "Step 15 - Aggregate Update: 0.00024225543038841613\n",
      "Step 16 - Aggregate Update: 0.00015456796271354212\n",
      "Step 17 - Aggregate Update: 9.863830243209137e-05\n",
      "Step 18 - Aggregate Update: 6.297188714859958e-05\n",
      "Step 19 - Aggregate Update: 4.022461742544947e-05\n",
      "Step 20 - Aggregate Update: 2.5711985747634003e-05\n",
      "Step 21 - Aggregate Update: 1.6448385421974354e-05\n",
      "Step 22 - Aggregate Update: 1.0531602940316853e-05\n",
      "Step 23 - Aggregate Update: 6.749701706915134e-06\n",
      "-- Convergence Reached --\n"
     ]
    },
    {
     "name": "stderr",
     "output_type": "stream",
     "text": [
      " 72%|███████▏  | 60/83 [13:18<05:46, 15.06s/it]"
     ]
    },
    {
     "name": "stdout",
     "output_type": "stream",
     "text": [
      "2022-12-30 00:00:00 0.09855639940688699\n"
     ]
    },
    {
     "name": "stderr",
     "output_type": "stream",
     "text": [
      "[=                                                                       ]   2%\r"
     ]
    },
    {
     "name": "stdout",
     "output_type": "stream",
     "text": [
      "The panel dimensions are:\n",
      "n_samples: 12314 , L: 20 , T: 348\n"
     ]
    },
    {
     "name": "stderr",
     "output_type": "stream",
     "text": [
      "[========================================================================] 100%\n"
     ]
    },
    {
     "name": "stdout",
     "output_type": "stream",
     "text": [
      "Step 1 - Aggregate Update: 1.1600118829295163\n",
      "Step 2 - Aggregate Update: 0.9412883478810194\n",
      "Step 3 - Aggregate Update: 0.25033241849789456\n",
      "Step 4 - Aggregate Update: 0.09438029809002862\n",
      "Step 5 - Aggregate Update: 0.051272852800371436\n",
      "Step 6 - Aggregate Update: 0.02486463550298859\n",
      "Step 7 - Aggregate Update: 0.012217750081042505\n",
      "Step 8 - Aggregate Update: 0.0064401039454468215\n",
      "Step 9 - Aggregate Update: 0.0038987964216755503\n",
      "Step 10 - Aggregate Update: 0.002347105152005747\n",
      "Step 11 - Aggregate Update: 0.0014089948675150342\n",
      "Step 12 - Aggregate Update: 0.000844788040503613\n",
      "Step 13 - Aggregate Update: 0.0005211444416034217\n",
      "Step 14 - Aggregate Update: 0.0003309969756546405\n",
      "Step 15 - Aggregate Update: 0.0002098794539387161\n",
      "Step 16 - Aggregate Update: 0.00013882485704364012\n",
      "Step 17 - Aggregate Update: 9.310527567174542e-05\n",
      "Step 18 - Aggregate Update: 6.274988048482477e-05\n",
      "Step 19 - Aggregate Update: 4.2464128516828126e-05\n",
      "Step 20 - Aggregate Update: 2.883451635304901e-05\n",
      "Step 21 - Aggregate Update: 1.985716883995403e-05\n",
      "Step 22 - Aggregate Update: 1.3879562335283868e-05\n",
      "Step 23 - Aggregate Update: 9.692007330419639e-06\n",
      "-- Convergence Reached --\n"
     ]
    },
    {
     "name": "stderr",
     "output_type": "stream",
     "text": [
      " 73%|███████▎  | 61/83 [13:34<05:33, 15.16s/it]"
     ]
    },
    {
     "name": "stdout",
     "output_type": "stream",
     "text": [
      "2023-01-31 00:00:00 0.09942612879044677\n"
     ]
    },
    {
     "name": "stderr",
     "output_type": "stream",
     "text": [
      "[==                                                                      ]   3%\r"
     ]
    },
    {
     "name": "stdout",
     "output_type": "stream",
     "text": [
      "The panel dimensions are:\n",
      "n_samples: 12343 , L: 20 , T: 349\n"
     ]
    },
    {
     "name": "stderr",
     "output_type": "stream",
     "text": [
      "[========================================================================] 100%\n"
     ]
    },
    {
     "name": "stdout",
     "output_type": "stream",
     "text": [
      "Step 1 - Aggregate Update: 1.1599847440321516\n",
      "Step 2 - Aggregate Update: 0.9375771507056168\n",
      "Step 3 - Aggregate Update: 0.28464325173436256\n",
      "Step 4 - Aggregate Update: 0.09467809339377767\n",
      "Step 5 - Aggregate Update: 0.051756652318621775\n",
      "Step 6 - Aggregate Update: 0.02515251572058956\n",
      "Step 7 - Aggregate Update: 0.01236940953256288\n",
      "Step 8 - Aggregate Update: 0.006485486435130866\n",
      "Step 9 - Aggregate Update: 0.003927441981047679\n",
      "Step 10 - Aggregate Update: 0.002365025024894634\n",
      "Step 11 - Aggregate Update: 0.0014202797120208706\n",
      "Step 12 - Aggregate Update: 0.0008519957372018052\n",
      "Step 13 - Aggregate Update: 0.0005409170231710225\n",
      "Step 14 - Aggregate Update: 0.0003443109301120295\n",
      "Step 15 - Aggregate Update: 0.00021879798821544671\n",
      "Step 16 - Aggregate Update: 0.00014010310014767047\n",
      "Step 17 - Aggregate Update: 9.401393566477179e-05\n",
      "Step 18 - Aggregate Update: 6.339555431822408e-05\n",
      "Step 19 - Aggregate Update: 4.292238729664e-05\n",
      "Step 20 - Aggregate Update: 2.915923566504386e-05\n",
      "Step 21 - Aggregate Update: 2.0279944107415293e-05\n",
      "Step 22 - Aggregate Update: 1.4166742686949618e-05\n",
      "Step 23 - Aggregate Update: 9.88733170226297e-06\n",
      "-- Convergence Reached --\n"
     ]
    },
    {
     "name": "stderr",
     "output_type": "stream",
     "text": [
      " 75%|███████▍  | 62/83 [13:49<05:18, 15.18s/it]"
     ]
    },
    {
     "name": "stdout",
     "output_type": "stream",
     "text": [
      "2023-02-28 00:00:00 0.0993751010512689\n"
     ]
    },
    {
     "name": "stderr",
     "output_type": "stream",
     "text": [
      "[==                                                                      ]   3%\r"
     ]
    },
    {
     "name": "stdout",
     "output_type": "stream",
     "text": [
      "The panel dimensions are:\n",
      "n_samples: 12381 , L: 20 , T: 350\n"
     ]
    },
    {
     "name": "stderr",
     "output_type": "stream",
     "text": [
      "[========================================================================] 100%\n"
     ]
    },
    {
     "name": "stdout",
     "output_type": "stream",
     "text": [
      "Step 1 - Aggregate Update: 1.1604749900856717\n",
      "Step 2 - Aggregate Update: 0.9287245582018508\n",
      "Step 3 - Aggregate Update: 0.2611238549012728\n",
      "Step 4 - Aggregate Update: 0.09384946542778322\n",
      "Step 5 - Aggregate Update: 0.051060334415270886\n",
      "Step 6 - Aggregate Update: 0.024774652496086444\n",
      "Step 7 - Aggregate Update: 0.012179881830282568\n",
      "Step 8 - Aggregate Update: 0.006475431901933989\n",
      "Step 9 - Aggregate Update: 0.003918655539788641\n",
      "Step 10 - Aggregate Update: 0.0023582711867243633\n",
      "Step 11 - Aggregate Update: 0.001415387093371\n",
      "Step 12 - Aggregate Update: 0.0008485603164428367\n",
      "Step 13 - Aggregate Update: 0.0005349197344611534\n",
      "Step 14 - Aggregate Update: 0.0003532786482028927\n",
      "Step 15 - Aggregate Update: 0.00023520167101875877\n",
      "Step 16 - Aggregate Update: 0.00015759027492412425\n",
      "Step 17 - Aggregate Update: 0.00010614024474975281\n",
      "Step 18 - Aggregate Update: 7.179368196152947e-05\n",
      "Step 19 - Aggregate Update: 4.873305610442191e-05\n",
      "Step 20 - Aggregate Update: 3.356380300312267e-05\n",
      "Step 21 - Aggregate Update: 2.3422875800982457e-05\n",
      "Step 22 - Aggregate Update: 1.633292703784317e-05\n",
      "Step 23 - Aggregate Update: 1.1380092113544293e-05\n",
      "Step 24 - Aggregate Update: 7.923349765626142e-06\n",
      "-- Convergence Reached --\n"
     ]
    },
    {
     "name": "stderr",
     "output_type": "stream",
     "text": [
      " 76%|███████▌  | 63/83 [14:05<05:07, 15.35s/it]"
     ]
    },
    {
     "name": "stdout",
     "output_type": "stream",
     "text": [
      "2023-03-31 00:00:00 0.09921644938078278\n"
     ]
    },
    {
     "name": "stderr",
     "output_type": "stream",
     "text": [
      "[==                                                                      ]   3%\r"
     ]
    },
    {
     "name": "stdout",
     "output_type": "stream",
     "text": [
      "The panel dimensions are:\n",
      "n_samples: 12410 , L: 20 , T: 351\n"
     ]
    },
    {
     "name": "stderr",
     "output_type": "stream",
     "text": [
      "[========================================================================] 100%\n"
     ]
    },
    {
     "name": "stdout",
     "output_type": "stream",
     "text": [
      "Step 1 - Aggregate Update: 1.1602187177110908\n",
      "Step 2 - Aggregate Update: 0.929141235707682\n",
      "Step 3 - Aggregate Update: 0.24335738137000482\n",
      "Step 4 - Aggregate Update: 0.09337237771208666\n",
      "Step 5 - Aggregate Update: 0.050482979987216486\n",
      "Step 6 - Aggregate Update: 0.024450341155325156\n",
      "Step 7 - Aggregate Update: 0.012011584383800997\n",
      "Step 8 - Aggregate Update: 0.006451127442767534\n",
      "Step 9 - Aggregate Update: 0.003902094672831509\n",
      "Step 10 - Aggregate Update: 0.0023471731514970065\n",
      "Step 11 - Aggregate Update: 0.0014080989951731095\n",
      "Step 12 - Aggregate Update: 0.0008438660041836263\n",
      "Step 13 - Aggregate Update: 0.0005293509585133013\n",
      "Step 14 - Aggregate Update: 0.0003465783182220461\n",
      "Step 15 - Aggregate Update: 0.0002303381265912341\n",
      "Step 16 - Aggregate Update: 0.00015405322439365765\n",
      "Step 17 - Aggregate Update: 0.00010356452567850116\n",
      "Step 18 - Aggregate Update: 6.991655947985453e-05\n",
      "Step 19 - Aggregate Update: 4.736461227505817e-05\n",
      "Step 20 - Aggregate Update: 3.220014795385362e-05\n",
      "Step 21 - Aggregate Update: 2.2436563857863856e-05\n",
      "Step 22 - Aggregate Update: 1.5619503105801513e-05\n",
      "Step 23 - Aggregate Update: 1.086417332496481e-05\n",
      "Step 24 - Aggregate Update: 7.550420523916301e-06\n",
      "-- Convergence Reached --\n"
     ]
    },
    {
     "name": "stderr",
     "output_type": "stream",
     "text": [
      " 77%|███████▋  | 64/83 [14:20<04:50, 15.29s/it]"
     ]
    },
    {
     "name": "stdout",
     "output_type": "stream",
     "text": [
      "2023-04-28 00:00:00 0.09918184762852289\n"
     ]
    },
    {
     "name": "stderr",
     "output_type": "stream",
     "text": [
      "[=                                                                       ]   2%\r"
     ]
    },
    {
     "name": "stdout",
     "output_type": "stream",
     "text": [
      "The panel dimensions are:\n",
      "n_samples: 12444 , L: 20 , T: 352\n"
     ]
    },
    {
     "name": "stderr",
     "output_type": "stream",
     "text": [
      "[========================================================================] 100%\n"
     ]
    },
    {
     "name": "stdout",
     "output_type": "stream",
     "text": [
      "Step 1 - Aggregate Update: 1.1615166730224262\n",
      "Step 2 - Aggregate Update: 0.917789831267342\n",
      "Step 3 - Aggregate Update: 0.22314557515149697\n",
      "Step 4 - Aggregate Update: 0.09220498617109651\n",
      "Step 5 - Aggregate Update: 0.04919303732716232\n",
      "Step 6 - Aggregate Update: 0.02372793195614717\n",
      "Step 7 - Aggregate Update: 0.011632854853237617\n",
      "Step 8 - Aggregate Update: 0.006367254375302638\n",
      "Step 9 - Aggregate Update: 0.0038286871427468524\n",
      "Step 10 - Aggregate Update: 0.002288275721028447\n",
      "Step 11 - Aggregate Update: 0.001363352233074348\n",
      "Step 12 - Aggregate Update: 0.0008242797501741839\n",
      "Step 13 - Aggregate Update: 0.0005364750040025568\n",
      "Step 14 - Aggregate Update: 0.00035233864200223675\n",
      "Step 15 - Aggregate Update: 0.00023314252433059846\n",
      "Step 16 - Aggregate Update: 0.0001552236953737962\n",
      "Step 17 - Aggregate Update: 0.00010387174658732512\n",
      "Step 18 - Aggregate Update: 6.980031306635937e-05\n",
      "Step 19 - Aggregate Update: 4.7068541479400317e-05\n",
      "Step 20 - Aggregate Update: 3.2269953543218044e-05\n",
      "Step 21 - Aggregate Update: 2.2362441758294604e-05\n",
      "Step 22 - Aggregate Update: 1.5486450536061902e-05\n",
      "Step 23 - Aggregate Update: 1.0717475705690482e-05\n",
      "Step 24 - Aggregate Update: 7.412373482063028e-06\n",
      "-- Convergence Reached --\n"
     ]
    },
    {
     "name": "stderr",
     "output_type": "stream",
     "text": [
      " 78%|███████▊  | 65/83 [14:35<04:36, 15.36s/it]"
     ]
    },
    {
     "name": "stdout",
     "output_type": "stream",
     "text": [
      "2023-05-31 00:00:00 0.09911133181122145\n"
     ]
    },
    {
     "name": "stderr",
     "output_type": "stream",
     "text": [
      "[==                                                                      ]   3%\r"
     ]
    },
    {
     "name": "stdout",
     "output_type": "stream",
     "text": [
      "The panel dimensions are:\n",
      "n_samples: 12491 , L: 20 , T: 353\n"
     ]
    },
    {
     "name": "stderr",
     "output_type": "stream",
     "text": [
      "[========================================================================] 100%\n"
     ]
    },
    {
     "name": "stdout",
     "output_type": "stream",
     "text": [
      "Step 1 - Aggregate Update: 1.1564456707018\n",
      "Step 2 - Aggregate Update: 0.9046684096854509\n",
      "Step 3 - Aggregate Update: 0.2491641931765074\n",
      "Step 4 - Aggregate Update: 0.09351936738740738\n",
      "Step 5 - Aggregate Update: 0.049313935005167266\n",
      "Step 6 - Aggregate Update: 0.023595823384723824\n",
      "Step 7 - Aggregate Update: 0.011507216984876778\n",
      "Step 8 - Aggregate Update: 0.006450035885961961\n",
      "Step 9 - Aggregate Update: 0.0038977018484712715\n",
      "Step 10 - Aggregate Update: 0.0023401811247461385\n",
      "Step 11 - Aggregate Update: 0.0014508919377179685\n",
      "Step 12 - Aggregate Update: 0.0009466241487768867\n",
      "Step 13 - Aggregate Update: 0.0006237225393231904\n",
      "Step 14 - Aggregate Update: 0.00041425446708676095\n",
      "Step 15 - Aggregate Update: 0.0002769093713899107\n",
      "Step 16 - Aggregate Update: 0.00018606431126833023\n",
      "Step 17 - Aggregate Update: 0.00012554922884122632\n",
      "Step 18 - Aggregate Update: 8.500655918464162e-05\n",
      "Step 19 - Aggregate Update: 5.771824149924942e-05\n",
      "Step 20 - Aggregate Update: 3.962468509099981e-05\n",
      "Step 21 - Aggregate Update: 2.754229727469637e-05\n",
      "Step 22 - Aggregate Update: 1.9129886215107916e-05\n",
      "Step 23 - Aggregate Update: 1.3277339035777658e-05\n",
      "Step 24 - Aggregate Update: 9.209143487509674e-06\n",
      "-- Convergence Reached --\n"
     ]
    },
    {
     "name": "stderr",
     "output_type": "stream",
     "text": [
      " 80%|███████▉  | 66/83 [14:51<04:24, 15.56s/it]"
     ]
    },
    {
     "name": "stdout",
     "output_type": "stream",
     "text": [
      "2023-06-30 00:00:00 0.09937741559711222\n"
     ]
    },
    {
     "name": "stderr",
     "output_type": "stream",
     "text": [
      "[==                                                                      ]   3%\r"
     ]
    },
    {
     "name": "stdout",
     "output_type": "stream",
     "text": [
      "The panel dimensions are:\n",
      "n_samples: 12540 , L: 20 , T: 354\n"
     ]
    },
    {
     "name": "stderr",
     "output_type": "stream",
     "text": [
      "[========================================================================] 100%\n"
     ]
    },
    {
     "name": "stdout",
     "output_type": "stream",
     "text": [
      "Step 1 - Aggregate Update: 1.152924536456778\n",
      "Step 2 - Aggregate Update: 0.9201293700767924\n",
      "Step 3 - Aggregate Update: 0.24471343826258046\n",
      "Step 4 - Aggregate Update: 0.09469144800387874\n",
      "Step 5 - Aggregate Update: 0.049660842403026165\n",
      "Step 6 - Aggregate Update: 0.0236853168123682\n",
      "Step 7 - Aggregate Update: 0.011520449776690173\n",
      "Step 8 - Aggregate Update: 0.006413219122000363\n",
      "Step 9 - Aggregate Update: 0.0038486174694884446\n",
      "Step 10 - Aggregate Update: 0.002374387755971541\n",
      "Step 11 - Aggregate Update: 0.0015283355996380532\n",
      "Step 12 - Aggregate Update: 0.000994941656360382\n",
      "Step 13 - Aggregate Update: 0.0006537780458841791\n",
      "Step 14 - Aggregate Update: 0.00043291018626434585\n",
      "Step 15 - Aggregate Update: 0.0002884694650886477\n",
      "Step 16 - Aggregate Update: 0.00019321651687975727\n",
      "Step 17 - Aggregate Update: 0.00012996717785140888\n",
      "Step 18 - Aggregate Update: 8.773050414356831e-05\n",
      "Step 19 - Aggregate Update: 5.9393946382324536e-05\n",
      "Step 20 - Aggregate Update: 4.064976682388588e-05\n",
      "Step 21 - Aggregate Update: 2.8165953024794632e-05\n",
      "Step 22 - Aggregate Update: 1.950688777646592e-05\n",
      "Step 23 - Aggregate Update: 1.3503340272669195e-05\n",
      "Step 24 - Aggregate Update: 9.343151462060106e-06\n",
      "-- Convergence Reached --\n"
     ]
    },
    {
     "name": "stderr",
     "output_type": "stream",
     "text": [
      " 81%|████████  | 67/83 [15:07<04:11, 15.69s/it]"
     ]
    },
    {
     "name": "stdout",
     "output_type": "stream",
     "text": [
      "2023-07-31 00:00:00 0.09936775657565822\n"
     ]
    },
    {
     "name": "stderr",
     "output_type": "stream",
     "text": [
      "[=                                                                       ]   2%\r"
     ]
    },
    {
     "name": "stdout",
     "output_type": "stream",
     "text": [
      "The panel dimensions are:\n",
      "n_samples: 12563 , L: 20 , T: 355\n"
     ]
    },
    {
     "name": "stderr",
     "output_type": "stream",
     "text": [
      "[========================================================================] 100%\n"
     ]
    },
    {
     "name": "stdout",
     "output_type": "stream",
     "text": [
      "Step 1 - Aggregate Update: 1.1531709963793046\n",
      "Step 2 - Aggregate Update: 0.9144560857704678\n",
      "Step 3 - Aggregate Update: 0.21816395107266187\n",
      "Step 4 - Aggregate Update: 0.09364374208032408\n",
      "Step 5 - Aggregate Update: 0.048557167446445906\n",
      "Step 6 - Aggregate Update: 0.023088299498923645\n",
      "Step 7 - Aggregate Update: 0.011209340931590678\n",
      "Step 8 - Aggregate Update: 0.006307313754295759\n",
      "Step 9 - Aggregate Update: 0.003772582265682667\n",
      "Step 10 - Aggregate Update: 0.0023989274204810895\n",
      "Step 11 - Aggregate Update: 0.0015463172330519859\n",
      "Step 12 - Aggregate Update: 0.0010080076512666292\n",
      "Step 13 - Aggregate Update: 0.0006632409073447088\n",
      "Step 14 - Aggregate Update: 0.00043975065129120416\n",
      "Step 15 - Aggregate Update: 0.00029340710740677345\n",
      "Step 16 - Aggregate Update: 0.0001967760250618511\n",
      "Step 17 - Aggregate Update: 0.00013252998743684685\n",
      "Step 18 - Aggregate Update: 8.976166713364764e-05\n",
      "Step 19 - Aggregate Update: 6.21353941389069e-05\n",
      "Step 20 - Aggregate Update: 4.301076772356138e-05\n",
      "Step 21 - Aggregate Update: 2.9766064057801245e-05\n",
      "Step 22 - Aggregate Update: 2.0593676705094044e-05\n",
      "Step 23 - Aggregate Update: 1.4243084810905415e-05\n",
      "Step 24 - Aggregate Update: 9.847742951762939e-06\n",
      "-- Convergence Reached --\n"
     ]
    },
    {
     "name": "stderr",
     "output_type": "stream",
     "text": [
      " 82%|████████▏ | 68/83 [15:23<03:56, 15.74s/it]"
     ]
    },
    {
     "name": "stdout",
     "output_type": "stream",
     "text": [
      "2023-08-31 00:00:00 0.09930571758437778\n"
     ]
    },
    {
     "name": "stderr",
     "output_type": "stream",
     "text": [
      "[==                                                                      ]   3%\r"
     ]
    },
    {
     "name": "stdout",
     "output_type": "stream",
     "text": [
      "The panel dimensions are:\n",
      "n_samples: 12595 , L: 20 , T: 356\n"
     ]
    },
    {
     "name": "stderr",
     "output_type": "stream",
     "text": [
      "[========================================================================] 100%\n"
     ]
    },
    {
     "name": "stdout",
     "output_type": "stream",
     "text": [
      "Step 1 - Aggregate Update: 1.1505211428604447\n",
      "Step 2 - Aggregate Update: 0.9468640697798341\n",
      "Step 3 - Aggregate Update: 0.22736946880501624\n",
      "Step 4 - Aggregate Update: 0.09450647524607492\n",
      "Step 5 - Aggregate Update: 0.04915763105316598\n",
      "Step 6 - Aggregate Update: 0.023304968946320642\n",
      "Step 7 - Aggregate Update: 0.011535557970231092\n",
      "Step 8 - Aggregate Update: 0.006505447497466316\n",
      "Step 9 - Aggregate Update: 0.0038828606773444463\n",
      "Step 10 - Aggregate Update: 0.0024606965028908245\n",
      "Step 11 - Aggregate Update: 0.001580852442554015\n",
      "Step 12 - Aggregate Update: 0.0010271991492420973\n",
      "Step 13 - Aggregate Update: 0.0006737844456699005\n",
      "Step 14 - Aggregate Update: 0.00044543410865416355\n",
      "Step 15 - Aggregate Update: 0.0002963776799642659\n",
      "Step 16 - Aggregate Update: 0.00019825021379793473\n",
      "Step 17 - Aggregate Update: 0.00013319459836258485\n",
      "Step 18 - Aggregate Update: 9.111680212769979e-05\n",
      "Step 19 - Aggregate Update: 6.287926724929394e-05\n",
      "Step 20 - Aggregate Update: 4.3401482124172386e-05\n",
      "Step 21 - Aggregate Update: 2.995651074033656e-05\n",
      "Step 22 - Aggregate Update: 2.0673637830426195e-05\n",
      "Step 23 - Aggregate Update: 1.4264618899861858e-05\n",
      "Step 24 - Aggregate Update: 9.840489630652538e-06\n",
      "-- Convergence Reached --\n"
     ]
    },
    {
     "name": "stderr",
     "output_type": "stream",
     "text": [
      " 83%|████████▎ | 69/83 [15:39<03:41, 15.82s/it]"
     ]
    },
    {
     "name": "stdout",
     "output_type": "stream",
     "text": [
      "2023-09-29 00:00:00 0.09951329725773272\n"
     ]
    },
    {
     "name": "stderr",
     "output_type": "stream",
     "text": [
      "[=                                                                       ]   2%\r"
     ]
    },
    {
     "name": "stdout",
     "output_type": "stream",
     "text": [
      "The panel dimensions are:\n",
      "n_samples: 12637 , L: 20 , T: 357\n"
     ]
    },
    {
     "name": "stderr",
     "output_type": "stream",
     "text": [
      "[========================================================================] 100%\n"
     ]
    },
    {
     "name": "stdout",
     "output_type": "stream",
     "text": [
      "Step 1 - Aggregate Update: 1.1485303894931436\n",
      "Step 2 - Aggregate Update: 0.9618714490172127\n",
      "Step 3 - Aggregate Update: 0.20928374630907678\n",
      "Step 4 - Aggregate Update: 0.09575117927164885\n",
      "Step 5 - Aggregate Update: 0.049468328014025474\n",
      "Step 6 - Aggregate Update: 0.023282445906521246\n",
      "Step 7 - Aggregate Update: 0.011203357284653465\n",
      "Step 8 - Aggregate Update: 0.006191575163445933\n",
      "Step 9 - Aggregate Update: 0.0036549903020776475\n",
      "Step 10 - Aggregate Update: 0.002145705082735816\n",
      "Step 11 - Aggregate Update: 0.0013547463560682482\n",
      "Step 12 - Aggregate Update: 0.0008655137710834593\n",
      "Step 13 - Aggregate Update: 0.0005585088802626537\n",
      "Step 14 - Aggregate Update: 0.0003634512062152817\n",
      "Step 15 - Aggregate Update: 0.00023819742902753127\n",
      "Step 16 - Aggregate Update: 0.00015703959451596194\n",
      "Step 17 - Aggregate Update: 0.00010405252921619201\n",
      "Step 18 - Aggregate Update: 6.923585922835596e-05\n",
      "Step 19 - Aggregate Update: 4.6741037633857285e-05\n",
      "Step 20 - Aggregate Update: 3.200785087470459e-05\n",
      "Step 21 - Aggregate Update: 2.1922074923852453e-05\n",
      "Step 22 - Aggregate Update: 1.5014032252291809e-05\n",
      "Step 23 - Aggregate Update: 1.0281704644843348e-05\n",
      "Step 24 - Aggregate Update: 7.039949764697795e-06\n",
      "-- Convergence Reached --\n"
     ]
    },
    {
     "name": "stderr",
     "output_type": "stream",
     "text": [
      " 84%|████████▍ | 70/83 [15:55<03:26, 15.88s/it]"
     ]
    },
    {
     "name": "stdout",
     "output_type": "stream",
     "text": [
      "2023-10-31 00:00:00 0.09976454252611477\n"
     ]
    },
    {
     "name": "stderr",
     "output_type": "stream",
     "text": [
      "[==                                                                      ]   3%\r"
     ]
    },
    {
     "name": "stdout",
     "output_type": "stream",
     "text": [
      "The panel dimensions are:\n",
      "n_samples: 12657 , L: 20 , T: 358\n"
     ]
    },
    {
     "name": "stderr",
     "output_type": "stream",
     "text": [
      "[========================================================================] 100%\n"
     ]
    },
    {
     "name": "stdout",
     "output_type": "stream",
     "text": [
      "Step 1 - Aggregate Update: 1.1326113492988692\n",
      "Step 2 - Aggregate Update: 1.0125909629851015\n",
      "Step 3 - Aggregate Update: 0.3959109380487684\n",
      "Step 4 - Aggregate Update: 0.10798983232027409\n",
      "Step 5 - Aggregate Update: 0.05909472482371713\n",
      "Step 6 - Aggregate Update: 0.027815722494028458\n",
      "Step 7 - Aggregate Update: 0.013235351129804312\n",
      "Step 8 - Aggregate Update: 0.006447675288026561\n",
      "Step 9 - Aggregate Update: 0.0037502588563688493\n",
      "Step 10 - Aggregate Update: 0.0022429224722745333\n",
      "Step 11 - Aggregate Update: 0.0013981792160983053\n",
      "Step 12 - Aggregate Update: 0.0008820832505486154\n",
      "Step 13 - Aggregate Update: 0.0005622675953267375\n",
      "Step 14 - Aggregate Update: 0.00036162675851414416\n",
      "Step 15 - Aggregate Update: 0.00023438495150918115\n",
      "Step 16 - Aggregate Update: 0.0001529266010821262\n",
      "Step 17 - Aggregate Update: 0.00010034978674910988\n",
      "Step 18 - Aggregate Update: 6.617370329486949e-05\n",
      "Step 19 - Aggregate Update: 4.3822630762191395e-05\n",
      "Step 20 - Aggregate Update: 2.9127910628590215e-05\n",
      "Step 21 - Aggregate Update: 1.9777374623775046e-05\n",
      "Step 22 - Aggregate Update: 1.3488380925685828e-05\n",
      "Step 23 - Aggregate Update: 9.200887927551804e-06\n",
      "-- Convergence Reached --\n"
     ]
    },
    {
     "name": "stderr",
     "output_type": "stream",
     "text": [
      " 86%|████████▌ | 71/83 [16:11<03:09, 15.76s/it]"
     ]
    },
    {
     "name": "stdout",
     "output_type": "stream",
     "text": [
      "2023-11-30 00:00:00 0.10006433368611178\n"
     ]
    },
    {
     "name": "stderr",
     "output_type": "stream",
     "text": [
      "[=                                                                       ]   2%\r"
     ]
    },
    {
     "name": "stdout",
     "output_type": "stream",
     "text": [
      "The panel dimensions are:\n",
      "n_samples: 12676 , L: 20 , T: 359\n"
     ]
    },
    {
     "name": "stderr",
     "output_type": "stream",
     "text": [
      "[========================================================================] 100%\n"
     ]
    },
    {
     "name": "stdout",
     "output_type": "stream",
     "text": [
      "Step 1 - Aggregate Update: 1.1281690457894515\n",
      "Step 2 - Aggregate Update: 1.078396878212215\n",
      "Step 3 - Aggregate Update: 0.5214674300988411\n",
      "Step 4 - Aggregate Update: 0.149311802362942\n",
      "Step 5 - Aggregate Update: 0.07552839115868523\n",
      "Step 6 - Aggregate Update: 0.03502557047837464\n",
      "Step 7 - Aggregate Update: 0.016215643294527043\n",
      "Step 8 - Aggregate Update: 0.007765104601061501\n",
      "Step 9 - Aggregate Update: 0.00435285688921587\n",
      "Step 10 - Aggregate Update: 0.0025494135336746274\n",
      "Step 11 - Aggregate Update: 0.0014898564318841833\n",
      "Step 12 - Aggregate Update: 0.0008706657844185419\n",
      "Step 13 - Aggregate Update: 0.000509414964509753\n",
      "Step 14 - Aggregate Update: 0.00029857011640017396\n",
      "Step 15 - Aggregate Update: 0.00017533312791838916\n",
      "Step 16 - Aggregate Update: 0.00010316479444481483\n",
      "Step 17 - Aggregate Update: 6.081582767463768e-05\n",
      "Step 18 - Aggregate Update: 3.5914730809553236e-05\n",
      "Step 19 - Aggregate Update: 2.1244793849975463e-05\n",
      "Step 20 - Aggregate Update: 1.258683550072609e-05\n",
      "Step 21 - Aggregate Update: 7.468540216217304e-06\n",
      "-- Convergence Reached --\n"
     ]
    },
    {
     "name": "stderr",
     "output_type": "stream",
     "text": [
      " 87%|████████▋ | 72/83 [16:26<02:52, 15.69s/it]"
     ]
    },
    {
     "name": "stdout",
     "output_type": "stream",
     "text": [
      "2023-12-29 00:00:00 0.0993184600570961\n"
     ]
    },
    {
     "name": "stderr",
     "output_type": "stream",
     "text": [
      "[==                                                                      ]   3%\r"
     ]
    },
    {
     "name": "stdout",
     "output_type": "stream",
     "text": [
      "The panel dimensions are:\n",
      "n_samples: 12697 , L: 20 , T: 360\n"
     ]
    },
    {
     "name": "stderr",
     "output_type": "stream",
     "text": [
      "[========================================================================] 100%\n"
     ]
    },
    {
     "name": "stdout",
     "output_type": "stream",
     "text": [
      "Step 1 - Aggregate Update: 1.1286179637518936\n",
      "Step 2 - Aggregate Update: 1.0431864529280899\n",
      "Step 3 - Aggregate Update: 0.4959859030137316\n",
      "Step 4 - Aggregate Update: 0.14828173484625035\n",
      "Step 5 - Aggregate Update: 0.07432545880952791\n",
      "Step 6 - Aggregate Update: 0.03445222026865591\n",
      "Step 7 - Aggregate Update: 0.016018307956013056\n",
      "Step 8 - Aggregate Update: 0.00770709709447287\n",
      "Step 9 - Aggregate Update: 0.004347889676049172\n",
      "Step 10 - Aggregate Update: 0.0025402982909800767\n",
      "Step 11 - Aggregate Update: 0.0014806094894123847\n",
      "Step 12 - Aggregate Update: 0.0008627844241408857\n",
      "Step 13 - Aggregate Update: 0.0005032450769043139\n",
      "Step 14 - Aggregate Update: 0.00029398268556334213\n",
      "Step 15 - Aggregate Update: 0.00017204066278935816\n",
      "Step 16 - Aggregate Update: 0.00010086256585359332\n",
      "Step 17 - Aggregate Update: 5.9238147530031246e-05\n",
      "Step 18 - Aggregate Update: 3.485080442682323e-05\n",
      "Step 19 - Aggregate Update: 2.053663627773865e-05\n",
      "Step 20 - Aggregate Update: 1.212053270962729e-05\n",
      "Step 21 - Aggregate Update: 7.164237115980104e-06\n",
      "-- Convergence Reached --\n"
     ]
    },
    {
     "name": "stderr",
     "output_type": "stream",
     "text": [
      " 88%|████████▊ | 73/83 [16:42<02:37, 15.74s/it]"
     ]
    },
    {
     "name": "stdout",
     "output_type": "stream",
     "text": [
      "2024-01-31 00:00:00 0.0991323078834403\n"
     ]
    },
    {
     "name": "stderr",
     "output_type": "stream",
     "text": [
      "[=                                                                       ]   2%\r"
     ]
    },
    {
     "name": "stdout",
     "output_type": "stream",
     "text": [
      "The panel dimensions are:\n",
      "n_samples: 12711 , L: 20 , T: 361\n"
     ]
    },
    {
     "name": "stderr",
     "output_type": "stream",
     "text": [
      "[========================================================================] 100%\n"
     ]
    },
    {
     "name": "stdout",
     "output_type": "stream",
     "text": [
      "Step 1 - Aggregate Update: 1.125668070279072\n",
      "Step 2 - Aggregate Update: 1.0343136424973889\n",
      "Step 3 - Aggregate Update: 0.4915359213659869\n",
      "Step 4 - Aggregate Update: 0.14622850246441566\n",
      "Step 5 - Aggregate Update: 0.07233562073659536\n",
      "Step 6 - Aggregate Update: 0.03332809312637622\n",
      "Step 7 - Aggregate Update: 0.015472548865068603\n",
      "Step 8 - Aggregate Update: 0.007433037453411728\n",
      "Step 9 - Aggregate Update: 0.004270729087432215\n",
      "Step 10 - Aggregate Update: 0.0024904641556461266\n",
      "Step 11 - Aggregate Update: 0.0014481650107366316\n",
      "Step 12 - Aggregate Update: 0.0008414484218603798\n",
      "Step 13 - Aggregate Update: 0.0004890852814076006\n",
      "Step 14 - Aggregate Update: 0.0002845180698084603\n",
      "Step 15 - Aggregate Update: 0.0001656826261179408\n",
      "Step 16 - Aggregate Update: 9.657790069403371e-05\n",
      "Step 17 - Aggregate Update: 5.634569490127472e-05\n",
      "Step 18 - Aggregate Update: 3.289679438833737e-05\n",
      "Step 19 - Aggregate Update: 1.9216565099134872e-05\n",
      "Step 20 - Aggregate Update: 1.1229106238828251e-05\n",
      "Step 21 - Aggregate Update: 6.562679565842722e-06\n",
      "-- Convergence Reached --\n"
     ]
    },
    {
     "name": "stderr",
     "output_type": "stream",
     "text": [
      " 89%|████████▉ | 74/83 [16:58<02:21, 15.74s/it]"
     ]
    },
    {
     "name": "stdout",
     "output_type": "stream",
     "text": [
      "2024-02-29 00:00:00 0.09901893590743216\n"
     ]
    },
    {
     "name": "stderr",
     "output_type": "stream",
     "text": [
      "[==                                                                      ]   3%\r"
     ]
    },
    {
     "name": "stdout",
     "output_type": "stream",
     "text": [
      "The panel dimensions are:\n",
      "n_samples: 12729 , L: 20 , T: 362\n"
     ]
    },
    {
     "name": "stderr",
     "output_type": "stream",
     "text": [
      "[========================================================================] 100%\n"
     ]
    },
    {
     "name": "stdout",
     "output_type": "stream",
     "text": [
      "Step 1 - Aggregate Update: 1.125976493616844\n",
      "Step 2 - Aggregate Update: 1.023502871325229\n",
      "Step 3 - Aggregate Update: 0.4686609155698819\n",
      "Step 4 - Aggregate Update: 0.14562725593105996\n",
      "Step 5 - Aggregate Update: 0.07121539622432471\n",
      "Step 6 - Aggregate Update: 0.032830878038567116\n",
      "Step 7 - Aggregate Update: 0.015279005293729414\n",
      "Step 8 - Aggregate Update: 0.007357968732500303\n",
      "Step 9 - Aggregate Update: 0.004271530566085505\n",
      "Step 10 - Aggregate Update: 0.0024901782121988392\n",
      "Step 11 - Aggregate Update: 0.0014472313335274812\n",
      "Step 12 - Aggregate Update: 0.0008402622170497341\n",
      "Step 13 - Aggregate Update: 0.0004879093984753776\n",
      "Step 14 - Aggregate Update: 0.0002834900158993018\n",
      "Step 15 - Aggregate Update: 0.0001648514138405015\n",
      "Step 16 - Aggregate Update: 9.5941107045301e-05\n",
      "Step 17 - Aggregate Update: 5.5876724092130715e-05\n",
      "Step 18 - Aggregate Update: 3.256164383923666e-05\n",
      "Step 19 - Aggregate Update: 1.898261878747684e-05\n",
      "Step 20 - Aggregate Update: 1.1068843545793475e-05\n",
      "Step 21 - Aggregate Update: 6.454552311050549e-06\n",
      "-- Convergence Reached --\n"
     ]
    },
    {
     "name": "stderr",
     "output_type": "stream",
     "text": [
      " 90%|█████████ | 75/83 [17:14<02:06, 15.78s/it]"
     ]
    },
    {
     "name": "stdout",
     "output_type": "stream",
     "text": [
      "2024-03-28 00:00:00 0.09884885902270735\n"
     ]
    },
    {
     "name": "stderr",
     "output_type": "stream",
     "text": [
      "[==                                                                      ]   3%\r"
     ]
    },
    {
     "name": "stdout",
     "output_type": "stream",
     "text": [
      "The panel dimensions are:\n",
      "n_samples: 12744 , L: 20 , T: 363\n"
     ]
    },
    {
     "name": "stderr",
     "output_type": "stream",
     "text": [
      "[========================================================================] 100%\n"
     ]
    },
    {
     "name": "stdout",
     "output_type": "stream",
     "text": [
      "Step 1 - Aggregate Update: 1.5388584866323645\n",
      "Step 2 - Aggregate Update: 1.0288977081802364\n",
      "Step 3 - Aggregate Update: 0.47548623120499395\n",
      "Step 4 - Aggregate Update: 0.14501441708260637\n",
      "Step 5 - Aggregate Update: 0.06983875850683549\n",
      "Step 6 - Aggregate Update: 0.03193473036436581\n",
      "Step 7 - Aggregate Update: 0.014815020996697126\n",
      "Step 8 - Aggregate Update: 0.007179051597352009\n",
      "Step 9 - Aggregate Update: 0.004200767591870499\n",
      "Step 10 - Aggregate Update: 0.002441693207544734\n",
      "Step 11 - Aggregate Update: 0.0014150037254268078\n",
      "Step 12 - Aggregate Update: 0.0008192425124521085\n",
      "Step 13 - Aggregate Update: 0.00047436800928974017\n",
      "Step 14 - Aggregate Update: 0.000274838575599453\n",
      "Step 15 - Aggregate Update: 0.00015935583483403515\n",
      "Step 16 - Aggregate Update: 9.246444562495924e-05\n",
      "Step 17 - Aggregate Update: 5.3683828721521644e-05\n",
      "Step 18 - Aggregate Update: 3.118154655946861e-05\n",
      "Step 19 - Aggregate Update: 1.811551791994475e-05\n",
      "Step 20 - Aggregate Update: 1.0524758824627736e-05\n",
      "Step 21 - Aggregate Update: 6.113494134820166e-06\n",
      "-- Convergence Reached --\n"
     ]
    },
    {
     "name": "stderr",
     "output_type": "stream",
     "text": [
      " 92%|█████████▏| 76/83 [17:30<01:51, 15.86s/it]"
     ]
    },
    {
     "name": "stdout",
     "output_type": "stream",
     "text": [
      "2024-04-30 00:00:00 0.09915041694954485\n"
     ]
    },
    {
     "name": "stderr",
     "output_type": "stream",
     "text": [
      "[=                                                                       ]   2%\r"
     ]
    },
    {
     "name": "stdout",
     "output_type": "stream",
     "text": [
      "The panel dimensions are:\n",
      "n_samples: 12758 , L: 20 , T: 364\n"
     ]
    },
    {
     "name": "stderr",
     "output_type": "stream",
     "text": [
      "[========================================================================] 100%\n"
     ]
    },
    {
     "name": "stdout",
     "output_type": "stream",
     "text": [
      "Step 1 - Aggregate Update: 1.1242350864367139\n",
      "Step 2 - Aggregate Update: 1.01442489700813\n",
      "Step 3 - Aggregate Update: 0.44625271665685157\n",
      "Step 4 - Aggregate Update: 0.14568157018821812\n",
      "Step 5 - Aggregate Update: 0.06950805515172319\n",
      "Step 6 - Aggregate Update: 0.03163786573673709\n",
      "Step 7 - Aggregate Update: 0.014644224351754526\n",
      "Step 8 - Aggregate Update: 0.007182390673541621\n",
      "Step 9 - Aggregate Update: 0.004198837249162065\n",
      "Step 10 - Aggregate Update: 0.0024374044365712637\n",
      "Step 11 - Aggregate Update: 0.0014102892840204937\n",
      "Step 12 - Aggregate Update: 0.0008150167778074166\n",
      "Step 13 - Aggregate Update: 0.0004709351051119452\n",
      "Step 14 - Aggregate Update: 0.0002722047964752025\n",
      "Step 15 - Aggregate Update: 0.0001574084766203911\n",
      "Step 16 - Aggregate Update: 9.106098759092745e-05\n",
      "Step 17 - Aggregate Update: 5.2690995153895255e-05\n",
      "Step 18 - Aggregate Update: 3.0488956360476445e-05\n",
      "Step 19 - Aggregate Update: 1.7637559062762265e-05\n",
      "Step 20 - Aggregate Update: 1.0197695154557599e-05\n",
      "Step 21 - Aggregate Update: 5.891179667168352e-06\n",
      "-- Convergence Reached --\n"
     ]
    },
    {
     "name": "stderr",
     "output_type": "stream",
     "text": [
      " 93%|█████████▎| 77/83 [17:46<01:36, 16.02s/it]"
     ]
    },
    {
     "name": "stdout",
     "output_type": "stream",
     "text": [
      "2024-05-31 00:00:00 0.09892644109986604\n"
     ]
    },
    {
     "name": "stderr",
     "output_type": "stream",
     "text": [
      "[==                                                                      ]   3%\r"
     ]
    },
    {
     "name": "stdout",
     "output_type": "stream",
     "text": [
      "The panel dimensions are:\n",
      "n_samples: 12774 , L: 20 , T: 365\n"
     ]
    },
    {
     "name": "stderr",
     "output_type": "stream",
     "text": [
      "[========================================================================] 100%\n"
     ]
    },
    {
     "name": "stdout",
     "output_type": "stream",
     "text": [
      "Step 1 - Aggregate Update: 1.1244167583210185\n",
      "Step 2 - Aggregate Update: 1.019645624598998\n",
      "Step 3 - Aggregate Update: 0.44550676464194294\n",
      "Step 4 - Aggregate Update: 0.14602359999697523\n",
      "Step 5 - Aggregate Update: 0.0696673436998626\n",
      "Step 6 - Aggregate Update: 0.0317504444212858\n",
      "Step 7 - Aggregate Update: 0.014700855108119637\n",
      "Step 8 - Aggregate Update: 0.007175320614388754\n",
      "Step 9 - Aggregate Update: 0.004192205070649762\n",
      "Step 10 - Aggregate Update: 0.0024327005299002655\n",
      "Step 11 - Aggregate Update: 0.0014073376859656144\n",
      "Step 12 - Aggregate Update: 0.0008133023272617555\n",
      "Step 13 - Aggregate Update: 0.0004700004141547792\n",
      "Step 14 - Aggregate Update: 0.0002717279638683229\n",
      "Step 15 - Aggregate Update: 0.00015718581311830696\n",
      "Step 16 - Aggregate Update: 9.097182715270334e-05\n",
      "Step 17 - Aggregate Update: 5.266739387764009e-05\n",
      "Step 18 - Aggregate Update: 3.049443670690051e-05\n",
      "Step 19 - Aggregate Update: 1.7653566727038848e-05\n",
      "Step 20 - Aggregate Update: 1.0215464127623754e-05\n",
      "Step 21 - Aggregate Update: 5.907053821959784e-06\n",
      "-- Convergence Reached --\n"
     ]
    },
    {
     "name": "stderr",
     "output_type": "stream",
     "text": [
      " 94%|█████████▍| 78/83 [18:02<01:20, 16.05s/it]"
     ]
    },
    {
     "name": "stdout",
     "output_type": "stream",
     "text": [
      "2024-06-28 00:00:00 0.09887052826409404\n"
     ]
    },
    {
     "name": "stderr",
     "output_type": "stream",
     "text": [
      "[==                                                                      ]   3%\r"
     ]
    },
    {
     "name": "stdout",
     "output_type": "stream",
     "text": [
      "The panel dimensions are:\n",
      "n_samples: 12784 , L: 20 , T: 366\n"
     ]
    },
    {
     "name": "stderr",
     "output_type": "stream",
     "text": [
      "[========================================================================] 100%\n"
     ]
    },
    {
     "name": "stdout",
     "output_type": "stream",
     "text": [
      "Step 1 - Aggregate Update: 1.1228457152921694\n",
      "Step 2 - Aggregate Update: 1.0094868408494644\n",
      "Step 3 - Aggregate Update: 0.4170384858811499\n",
      "Step 4 - Aggregate Update: 0.1449765712713142\n",
      "Step 5 - Aggregate Update: 0.06924999796766221\n",
      "Step 6 - Aggregate Update: 0.030987838334314857\n",
      "Step 7 - Aggregate Update: 0.014181811585302156\n",
      "Step 8 - Aggregate Update: 0.007020890556720016\n",
      "Step 9 - Aggregate Update: 0.004090982186736787\n",
      "Step 10 - Aggregate Update: 0.002367374697680458\n",
      "Step 11 - Aggregate Update: 0.0013655397470061859\n",
      "Step 12 - Aggregate Update: 0.0007866771867306617\n",
      "Step 13 - Aggregate Update: 0.00045307614019644284\n",
      "Step 14 - Aggregate Update: 0.00026097907601881814\n",
      "Step 15 - Aggregate Update: 0.00015036004908927235\n",
      "Step 16 - Aggregate Update: 8.663637447872707e-05\n",
      "Step 17 - Aggregate Update: 4.9912515015059075e-05\n",
      "Step 18 - Aggregate Update: 2.8742938829111244e-05\n",
      "Step 19 - Aggregate Update: 1.6539286713532783e-05\n",
      "Step 20 - Aggregate Update: 9.540515800154914e-06\n",
      "-- Convergence Reached --\n"
     ]
    },
    {
     "name": "stderr",
     "output_type": "stream",
     "text": [
      " 95%|█████████▌| 79/83 [18:19<01:04, 16.10s/it]"
     ]
    },
    {
     "name": "stdout",
     "output_type": "stream",
     "text": [
      "2024-07-31 00:00:00 0.09899276466591622\n"
     ]
    },
    {
     "name": "stderr",
     "output_type": "stream",
     "text": [
      "[=                                                                       ]   2%\r"
     ]
    },
    {
     "name": "stdout",
     "output_type": "stream",
     "text": [
      "The panel dimensions are:\n",
      "n_samples: 12800 , L: 20 , T: 367\n"
     ]
    },
    {
     "name": "stderr",
     "output_type": "stream",
     "text": [
      "[========================================================================] 100%\n"
     ]
    },
    {
     "name": "stdout",
     "output_type": "stream",
     "text": [
      "Step 1 - Aggregate Update: 1.5377544903912232\n",
      "Step 2 - Aggregate Update: 1.007471281924486\n",
      "Step 3 - Aggregate Update: 0.4145876841910929\n",
      "Step 4 - Aggregate Update: 0.1459819627388811\n",
      "Step 5 - Aggregate Update: 0.06994397308430335\n",
      "Step 6 - Aggregate Update: 0.0313171185494031\n",
      "Step 7 - Aggregate Update: 0.014330505110602187\n",
      "Step 8 - Aggregate Update: 0.007139094094457161\n",
      "Step 9 - Aggregate Update: 0.004166672024031237\n",
      "Step 10 - Aggregate Update: 0.0024145054197680363\n",
      "Step 11 - Aggregate Update: 0.0013945623229489488\n",
      "Step 12 - Aggregate Update: 0.000804507137350619\n",
      "Step 13 - Aggregate Update: 0.0004640564409975477\n",
      "Step 14 - Aggregate Update: 0.0002677746761526009\n",
      "Step 15 - Aggregate Update: 0.00015459179664327423\n",
      "Step 16 - Aggregate Update: 8.928897354030537e-05\n",
      "Step 17 - Aggregate Update: 5.1586123740048105e-05\n",
      "Step 18 - Aggregate Update: 2.9805402477112012e-05\n",
      "Step 19 - Aggregate Update: 1.7217606071273715e-05\n",
      "Step 20 - Aggregate Update: 9.941347072025598e-06\n",
      "-- Convergence Reached --\n"
     ]
    },
    {
     "name": "stderr",
     "output_type": "stream",
     "text": [
      " 96%|█████████▋| 80/83 [18:35<00:48, 16.16s/it]"
     ]
    },
    {
     "name": "stdout",
     "output_type": "stream",
     "text": [
      "2024-08-30 00:00:00 0.09885359270078342\n"
     ]
    },
    {
     "name": "stderr",
     "output_type": "stream",
     "text": [
      "[=                                                                       ]   2%\r"
     ]
    },
    {
     "name": "stdout",
     "output_type": "stream",
     "text": [
      "The panel dimensions are:\n",
      "n_samples: 12819 , L: 20 , T: 368\n"
     ]
    },
    {
     "name": "stderr",
     "output_type": "stream",
     "text": [
      "[========================================================================] 100%\n"
     ]
    },
    {
     "name": "stdout",
     "output_type": "stream",
     "text": [
      "Step 1 - Aggregate Update: 1.122750242508072\n",
      "Step 2 - Aggregate Update: 1.0064914535039757\n",
      "Step 3 - Aggregate Update: 0.4168789979453882\n",
      "Step 4 - Aggregate Update: 0.1461723639858321\n",
      "Step 5 - Aggregate Update: 0.07022763235588356\n",
      "Step 6 - Aggregate Update: 0.03150199608765372\n",
      "Step 7 - Aggregate Update: 0.014433106502189569\n",
      "Step 8 - Aggregate Update: 0.007199913386115914\n",
      "Step 9 - Aggregate Update: 0.004204110825706101\n",
      "Step 10 - Aggregate Update: 0.0024376836453784026\n",
      "Step 11 - Aggregate Update: 0.001408996468723042\n",
      "Step 12 - Aggregate Update: 0.000813542379886495\n",
      "Step 13 - Aggregate Update: 0.0004697373092782776\n",
      "Step 14 - Aggregate Update: 0.00027136047777774516\n",
      "Step 15 - Aggregate Update: 0.0001568632117225759\n",
      "Step 16 - Aggregate Update: 9.073252844137432e-05\n",
      "Step 17 - Aggregate Update: 5.2506381708857354e-05\n",
      "Step 18 - Aggregate Update: 3.0393772686808612e-05\n",
      "Step 19 - Aggregate Update: 1.7594819853187843e-05\n",
      "Step 20 - Aggregate Update: 1.0183814643501508e-05\n",
      "Step 21 - Aggregate Update: 5.891891179884501e-06\n",
      "-- Convergence Reached --\n"
     ]
    },
    {
     "name": "stderr",
     "output_type": "stream",
     "text": [
      " 98%|█████████▊| 81/83 [18:51<00:32, 16.25s/it]"
     ]
    },
    {
     "name": "stdout",
     "output_type": "stream",
     "text": [
      "2024-09-30 00:00:00 0.098649017188008\n"
     ]
    },
    {
     "name": "stderr",
     "output_type": "stream",
     "text": [
      "[=                                                                       ]   2%\r"
     ]
    },
    {
     "name": "stdout",
     "output_type": "stream",
     "text": [
      "The panel dimensions are:\n",
      "n_samples: 12834 , L: 20 , T: 369\n"
     ]
    },
    {
     "name": "stderr",
     "output_type": "stream",
     "text": [
      "[========================================================================] 100%\n"
     ]
    },
    {
     "name": "stdout",
     "output_type": "stream",
     "text": [
      "Step 1 - Aggregate Update: 1.1226347015076301\n",
      "Step 2 - Aggregate Update: 1.0026725909995866\n",
      "Step 3 - Aggregate Update: 0.41715864750018344\n",
      "Step 4 - Aggregate Update: 0.145937896455002\n",
      "Step 5 - Aggregate Update: 0.07050585967877945\n",
      "Step 6 - Aggregate Update: 0.031779968756063676\n",
      "Step 7 - Aggregate Update: 0.014615754319062202\n",
      "Step 8 - Aggregate Update: 0.007251826134005575\n",
      "Step 9 - Aggregate Update: 0.004236590355321314\n",
      "Step 10 - Aggregate Update: 0.0024576431356975147\n",
      "Step 11 - Aggregate Update: 0.0014211890917220065\n",
      "Step 12 - Aggregate Update: 0.0008210030126543427\n",
      "Step 13 - Aggregate Update: 0.00047433162335911057\n",
      "Step 14 - Aggregate Update: 0.0002742150794518101\n",
      "Step 15 - Aggregate Update: 0.0001586546412271272\n",
      "Step 16 - Aggregate Update: 9.18679882369591e-05\n",
      "Step 17 - Aggregate Update: 5.3232746281839556e-05\n",
      "Step 18 - Aggregate Update: 3.086223875788368e-05\n",
      "Step 19 - Aggregate Update: 1.7899053664093174e-05\n",
      "Step 20 - Aggregate Update: 1.0382520476416059e-05\n",
      "Step 21 - Aggregate Update: 6.022267287031542e-06\n",
      "-- Convergence Reached --\n"
     ]
    },
    {
     "name": "stderr",
     "output_type": "stream",
     "text": [
      " 99%|█████████▉| 82/83 [19:08<00:16, 16.33s/it]"
     ]
    },
    {
     "name": "stdout",
     "output_type": "stream",
     "text": [
      "2024-10-31 00:00:00 0.09853326041063781\n"
     ]
    },
    {
     "name": "stderr",
     "output_type": "stream",
     "text": [
      "[=                                                                       ]   2%\r"
     ]
    },
    {
     "name": "stdout",
     "output_type": "stream",
     "text": [
      "The panel dimensions are:\n",
      "n_samples: 12847 , L: 20 , T: 370\n"
     ]
    },
    {
     "name": "stderr",
     "output_type": "stream",
     "text": [
      "[========================================================================] 100%\n"
     ]
    },
    {
     "name": "stdout",
     "output_type": "stream",
     "text": [
      "Step 1 - Aggregate Update: 1.113912738877494\n",
      "Step 2 - Aggregate Update: 0.9708048153418675\n",
      "Step 3 - Aggregate Update: 0.4738678243728081\n",
      "Step 4 - Aggregate Update: 0.15291706441236025\n",
      "Step 5 - Aggregate Update: 0.07512198054304237\n",
      "Step 6 - Aggregate Update: 0.03369729632391559\n",
      "Step 7 - Aggregate Update: 0.015442339370179414\n",
      "Step 8 - Aggregate Update: 0.0073801384383618\n",
      "Step 9 - Aggregate Update: 0.004246926501431899\n",
      "Step 10 - Aggregate Update: 0.002476689794462472\n",
      "Step 11 - Aggregate Update: 0.001439000399794289\n",
      "Step 12 - Aggregate Update: 0.0008350515175625361\n",
      "Step 13 - Aggregate Update: 0.0004846381657229986\n",
      "Step 14 - Aggregate Update: 0.0002815051651821497\n",
      "Step 15 - Aggregate Update: 0.00016370939990296464\n",
      "Step 16 - Aggregate Update: 9.533329501896365e-05\n",
      "Step 17 - Aggregate Update: 5.5592613854781384e-05\n",
      "Step 18 - Aggregate Update: 3.246280082161261e-05\n",
      "Step 19 - Aggregate Update: 1.8981818220123112e-05\n",
      "Step 20 - Aggregate Update: 1.1113709543372069e-05\n",
      "Step 21 - Aggregate Update: 6.51539401373951e-06\n",
      "-- Convergence Reached --\n"
     ]
    },
    {
     "name": "stderr",
     "output_type": "stream",
     "text": [
      "100%|██████████| 83/83 [19:24<00:00, 14.03s/it]"
     ]
    },
    {
     "name": "stdout",
     "output_type": "stream",
     "text": [
      "2024-11-29 00:00:00 0.09868349274550003\n"
     ]
    },
    {
     "name": "stderr",
     "output_type": "stream",
     "text": [
      "\n"
     ]
    }
   ],
   "source": [
    "factor_df = []\n",
    "dfs = []\n",
    "for date in tqdm(y_test.index.get_level_values(1).unique()):\n",
    "    X = crsp_features.loc[crsp_features.index.get_level_values(1)<date].loc[:,x_columns]\n",
    "    y = crsp_features.loc[crsp_features.index.get_level_values(1)<date].loc[:,y_column]\n",
    "    model = ipca.InstrumentedPCA(n_factors=n_factors, intercept=False)\n",
    "    model = model.fit(X = X,y=y)\n",
    "    Gamma, Factors = model.get_factors(label_ind=True)\n",
    "    print(date, model.score(X,y))\n",
    "    predictive_factors = np.mean(Factors.values,axis=1).reshape((-1,1))\n",
    "\n",
    "    X_current = crsp_features.loc[crsp_features.index.get_level_values(1)==date].loc[:,x_columns]\n",
    "    X_current = X_current.loc[X_current.index.get_level_values(0).isin(snp_ticker_df.index),x_columns]\n",
    "    y_pred = np.squeeze(X_current.dot(Gamma).dot(predictive_factors))\n",
    "    dfs+= [y_pred]\n",
    "    factor_df+=[predictive_factors]\n",
    "    \n"
   ]
  },
  {
   "cell_type": "code",
   "execution_count": 8,
   "metadata": {},
   "outputs": [],
   "source": [
    "y_test['pred'] = pd.concat(dfs)\n",
    "y_test = y_test.dropna()"
   ]
  },
  {
   "cell_type": "markdown",
   "metadata": {},
   "source": [
    "# Predictive $R^2$"
   ]
  },
  {
   "cell_type": "code",
   "execution_count": 9,
   "metadata": {},
   "outputs": [
    {
     "data": {
      "text/plain": [
       "-0.00472823186195348"
      ]
     },
     "execution_count": 9,
     "metadata": {},
     "output_type": "execute_result"
    }
   ],
   "source": [
    "r2_score(y_test['lagged_ret'],y_test['pred'])"
   ]
  },
  {
   "cell_type": "markdown",
   "metadata": {},
   "source": [
    "# NDCG"
   ]
  },
  {
   "cell_type": "code",
   "execution_count": 10,
   "metadata": {},
   "outputs": [],
   "source": [
    "def calculate_daily_ndcg_top_bottom(df, k=10):\n",
    "    \"\"\"\n",
    " \n",
    "    daily_ndcg : pandas.DataFrame\n",
    "        DataFrame with date, top_ndcg, bottom_ndcg, and overall_ndcg scores\n",
    "    avg_scores : dict\n",
    "        Dictionary with average NDCG scores for top, bottom, and overall\n",
    "    \"\"\"\n",
    "    # Make sure we're working with a MultiIndex DataFrame\n",
    "    if not isinstance(df.index, pd.MultiIndex):\n",
    "        raise ValueError(\"DataFrame should have a MultiIndex with permno and date\")\n",
    "    \n",
    "    # Reset index to get date as a column\n",
    "    df_reset = df.reset_index()\n",
    "    \n",
    "    # Ensure date is in datetime format\n",
    "    if not pd.api.types.is_datetime64_any_dtype(df_reset['date']):\n",
    "        df_reset['date'] = pd.to_datetime(df_reset['date'])\n",
    "    \n",
    "    # Group by date\n",
    "    date_groups = df_reset.groupby('date')\n",
    "    \n",
    "    # Store daily NDCG scores\n",
    "    daily_ndcg = []\n",
    "    \n",
    "    for date, group in date_groups:\n",
    "        # Skip dates with too few stocks\n",
    "        if len(group) < 2*k:\n",
    "            continue\n",
    "            \n",
    "        # Create rankings for actual returns (higher return = better rank)\n",
    "        group = group.copy()  # Create a copy to avoid SettingWithCopyWarning\n",
    "        group['actual_rank'] = group['lagged_ret'].rank(ascending=False)\n",
    "        \n",
    "        # Create rankings for predicted returns (higher prediction = better rank)\n",
    "        group['pred_rank'] = group['pred'].rank(ascending=False)\n",
    "        \n",
    "        # Sort by predicted rank\n",
    "        sorted_by_pred = group.sort_values('pred_rank')\n",
    "        \n",
    "        # For NDCG calculation:\n",
    "        # Convert ranks to relevance scores (lower rank = higher relevance)\n",
    "        max_rank = group['actual_rank'].max()\n",
    "        relevance_scores = max_rank + 1 - sorted_by_pred['actual_rank']\n",
    "        \n",
    "        # Get top k predictions (lowest pred_rank values)\n",
    "        top_k_pred = sorted_by_pred.head(k)\n",
    "        top_k_relevance = (max_rank + 1 - top_k_pred['actual_rank']).values.reshape(1, -1)\n",
    "        \n",
    "        # Get bottom k predictions (highest pred_rank values)\n",
    "        bottom_k_pred = sorted_by_pred.tail(k)\n",
    "        bottom_k_relevance = (max_rank + 1 - bottom_k_pred['actual_rank']).values.reshape(1, -1)\n",
    "        \n",
    "        # Calculate ideal relevance ordering (descending)\n",
    "        top_k_ideal = np.sort(top_k_relevance[0])[::-1].reshape(1, -1)\n",
    "        bottom_k_ideal = np.sort(bottom_k_relevance[0])[::-1].reshape(1, -1)\n",
    "        \n",
    "        # Full dataset for overall NDCG\n",
    "        full_relevance = relevance_scores.values.reshape(1, -1)\n",
    "        full_ideal = np.sort(full_relevance[0])[::-1].reshape(1, -1)\n",
    "        \n",
    "        # Calculate NDCG scores\n",
    "        top_ndcg = ndcg_score(top_k_ideal, top_k_relevance)\n",
    "        bottom_ndcg = ndcg_score(bottom_k_ideal, bottom_k_relevance)\n",
    "        overall_ndcg = ndcg_score(full_ideal, full_relevance)\n",
    "        \n",
    "        daily_ndcg.append({\n",
    "            'date': date, \n",
    "            'top_ndcg': top_ndcg, \n",
    "            'bottom_ndcg': bottom_ndcg,\n",
    "            'overall_ndcg': overall_ndcg\n",
    "        })\n",
    "    \n",
    "    # Convert to DataFrame\n",
    "    daily_ndcg_df = pd.DataFrame(daily_ndcg)\n",
    "    \n",
    "    # Handle empty results\n",
    "    if len(daily_ndcg_df) == 0:\n",
    "        return pd.DataFrame(), {'top_avg': None, 'bottom_avg': None, 'overall_avg': None}\n",
    "    \n",
    "    daily_ndcg_df = daily_ndcg_df.set_index('date')\n",
    "    \n",
    "    # Calculate average NDCG scores\n",
    "    avg_scores = {\n",
    "        'top_avg': daily_ndcg_df['top_ndcg'].mean(),\n",
    "        'bottom_avg': daily_ndcg_df['bottom_ndcg'].mean(),\n",
    "        'overall_avg': daily_ndcg_df['overall_ndcg'].mean()\n",
    "    }\n",
    "    \n",
    "    return daily_ndcg_df, avg_scores"
   ]
  },
  {
   "cell_type": "code",
   "execution_count": 11,
   "metadata": {},
   "outputs": [],
   "source": [
    "a,b = calculate_daily_ndcg_top_bottom(y_test,k=10)"
   ]
  },
  {
   "cell_type": "code",
   "execution_count": 12,
   "metadata": {},
   "outputs": [
    {
     "data": {
      "text/html": [
       "<div>\n",
       "<style scoped>\n",
       "    .dataframe tbody tr th:only-of-type {\n",
       "        vertical-align: middle;\n",
       "    }\n",
       "\n",
       "    .dataframe tbody tr th {\n",
       "        vertical-align: top;\n",
       "    }\n",
       "\n",
       "    .dataframe thead th {\n",
       "        text-align: right;\n",
       "    }\n",
       "</style>\n",
       "<table border=\"1\" class=\"dataframe\">\n",
       "  <thead>\n",
       "    <tr style=\"text-align: right;\">\n",
       "      <th></th>\n",
       "      <th>top_ndcg</th>\n",
       "      <th>bottom_ndcg</th>\n",
       "      <th>overall_ndcg</th>\n",
       "    </tr>\n",
       "  </thead>\n",
       "  <tbody>\n",
       "    <tr>\n",
       "      <th>count</th>\n",
       "      <td>83.000000</td>\n",
       "      <td>83.000000</td>\n",
       "      <td>83.000000</td>\n",
       "    </tr>\n",
       "    <tr>\n",
       "      <th>mean</th>\n",
       "      <td>0.815980</td>\n",
       "      <td>0.844417</td>\n",
       "      <td>0.925074</td>\n",
       "    </tr>\n",
       "    <tr>\n",
       "      <th>std</th>\n",
       "      <td>0.113099</td>\n",
       "      <td>0.086400</td>\n",
       "      <td>0.013301</td>\n",
       "    </tr>\n",
       "    <tr>\n",
       "      <th>min</th>\n",
       "      <td>0.505199</td>\n",
       "      <td>0.573768</td>\n",
       "      <td>0.889374</td>\n",
       "    </tr>\n",
       "    <tr>\n",
       "      <th>25%</th>\n",
       "      <td>0.748018</td>\n",
       "      <td>0.778424</td>\n",
       "      <td>0.913303</td>\n",
       "    </tr>\n",
       "    <tr>\n",
       "      <th>50%</th>\n",
       "      <td>0.839730</td>\n",
       "      <td>0.859861</td>\n",
       "      <td>0.925823</td>\n",
       "    </tr>\n",
       "    <tr>\n",
       "      <th>75%</th>\n",
       "      <td>0.897256</td>\n",
       "      <td>0.917102</td>\n",
       "      <td>0.934731</td>\n",
       "    </tr>\n",
       "    <tr>\n",
       "      <th>max</th>\n",
       "      <td>0.987757</td>\n",
       "      <td>0.980186</td>\n",
       "      <td>0.950097</td>\n",
       "    </tr>\n",
       "  </tbody>\n",
       "</table>\n",
       "</div>"
      ],
      "text/plain": [
       "        top_ndcg  bottom_ndcg  overall_ndcg\n",
       "count  83.000000    83.000000     83.000000\n",
       "mean    0.815980     0.844417      0.925074\n",
       "std     0.113099     0.086400      0.013301\n",
       "min     0.505199     0.573768      0.889374\n",
       "25%     0.748018     0.778424      0.913303\n",
       "50%     0.839730     0.859861      0.925823\n",
       "75%     0.897256     0.917102      0.934731\n",
       "max     0.987757     0.980186      0.950097"
      ]
     },
     "execution_count": 12,
     "metadata": {},
     "output_type": "execute_result"
    }
   ],
   "source": [
    "a.describe()"
   ]
  },
  {
   "cell_type": "code",
   "execution_count": 13,
   "metadata": {},
   "outputs": [
    {
     "data": {
      "image/png": "[encoded data removed]",
      "text/plain": [
       "<Figure size 1000x500 with 1 Axes>"
      ]
     },
     "metadata": {},
     "output_type": "display_data"
    }
   ],
   "source": [
    "\n",
    "fig, ax = plt.subplots(figsize=(10, 5)) \n",
    "a.plot(ax=ax)  \n",
    "\n",
    "ax.set_xlabel(\"Date\")\n",
    "ax.set_ylabel(\"NdCG Score\") \n",
    "ax.set_title(\"NdCG @10\")\n",
    "ax.legend(loc='lower right')  \n",
    "ax.grid(True)\n",
    "\n",
    "plt.show()"
   ]
  },
  {
   "cell_type": "markdown",
   "metadata": {},
   "source": [
    "# Stock Decile Portfolios"
   ]
  },
  {
   "cell_type": "code",
   "execution_count": 14,
   "metadata": {},
   "outputs": [],
   "source": [
    "\n",
    "def long_short_portfolio_pnl(df, k,snp_ticker_df):\n",
    "   \n",
    "    daily_pnl = []\n",
    "    dates = []\n",
    "    unique_dates = df.index.get_level_values('date').unique()\n",
    "    picks = pd.DataFrame(index= unique_dates)\n",
    "\n",
    "    for date in unique_dates:\n",
    "        daily_data = df.xs(date, level='date')\n",
    "        daily_data = daily_data.sort_values(by='pred', ascending=False)\n",
    "\n",
    "        long_stocks = daily_data.head(k)\n",
    "        short_stocks = daily_data.tail(k)\n",
    "\n",
    "        picks.loc[date,[f'Long_{i+1}' for i in range(k)]] = long_stocks.index.map(lambda x: snp_ticker_df[snp_ticker_df.index==x]['ticker'].iloc[0])\n",
    "        picks.loc[date,[f'Short_{i+1}' for i in range(k)]] = short_stocks.index.map(lambda x: snp_ticker_df[snp_ticker_df.index==x]['ticker'].iloc[0])\n",
    "\n",
    "\n",
    "        picks.loc[date,[f'Long_{i+1}_pnl' for i in range(k)]] = np.array(long_stocks['lagged_ret'])\n",
    "        picks.loc[date,[f'Short_{i+1}_pnl' for i in range(k)]] = -np.array(short_stocks['lagged_ret'])\n",
    "\n",
    "        long_pnl = long_stocks['lagged_ret'].sum()\n",
    "        short_pnl = -short_stocks['lagged_ret'].sum()  \n",
    "\n",
    "        picks.loc[date,\"Long_only_pnl\"] = long_pnl/(2*k)\n",
    "        picks.loc[date,\"Short_only_pnl\"] = short_pnl/(2*k)\n",
    "        picks.loc[date,'Portfolio_pnl'] = (long_pnl + short_pnl)/(2*k)\n",
    "\n",
    "        daily_pnl.append((long_pnl + short_pnl)/(2*k))\n",
    "        dates.append(date)\n",
    "\n",
    "\n",
    "    avg_return = np.mean(daily_pnl)*12\n",
    "    std_dev = np.std(daily_pnl)*np.sqrt(12)\n",
    "    sharpe_ratio = avg_return / std_dev \n",
    "\n",
    "    stats =  pd.Series({\n",
    "        'sharpe_ratio': sharpe_ratio,\n",
    "        'avg_return': avg_return,\n",
    "        'std_dev': std_dev\n",
    "    })\n",
    "\n",
    "    pnl_df = pd.DataFrame({'date': dates, 'pnl': daily_pnl})\n",
    "    return pnl_df,stats,picks\n",
    "\n",
    "\n"
   ]
  },
  {
   "cell_type": "code",
   "execution_count": 15,
   "metadata": {},
   "outputs": [
    {
     "name": "stdout",
     "output_type": "stream",
     "text": [
      "Sharpe Ratio of long_short@1 is 0.6323467428874051\n",
      "Sharpe Ratio of long_short@2 is 0.7121376709933157\n",
      "Sharpe Ratio of long_short@3 is 1.2718614193352153\n",
      "Sharpe Ratio of long_short@4 is 1.2486660853955236\n",
      "Sharpe Ratio of long_short@5 is 1.4226544669844758\n",
      "Sharpe Ratio of long_short@6 is 1.5270648589430373\n",
      "Sharpe Ratio of long_short@7 is 1.6624108367252266\n",
      "Sharpe Ratio of long_short@8 is 1.7312547795828521\n",
      "Sharpe Ratio of long_short@9 is 1.8573563218888536\n",
      "Sharpe Ratio of long_short@10 is 1.805185626695559\n",
      "Sharpe Ratio of long_short@11 is 1.855285514128749\n",
      "Sharpe Ratio of long_short@12 is 1.87596377783263\n",
      "Sharpe Ratio of long_short@13 is 1.782388491543904\n",
      "Sharpe Ratio of long_short@14 is 1.8191939206229921\n",
      "Sharpe Ratio of long_short@15 is 1.8250650651642446\n",
      "Sharpe Ratio of long_short@16 is 1.9290148473229982\n",
      "Sharpe Ratio of long_short@17 is 1.8997919775049723\n",
      "Sharpe Ratio of long_short@18 is 1.9516595893951532\n",
      "Sharpe Ratio of long_short@19 is 1.8711819433926022\n",
      "Sharpe Ratio of long_short@20 is 1.863690223342422\n",
      "Sharpe Ratio of long_short@21 is 1.8117500869257224\n",
      "Sharpe Ratio of long_short@22 is 1.8744303814681926\n",
      "Sharpe Ratio of long_short@23 is 1.8289359841233448\n",
      "Sharpe Ratio of long_short@24 is 1.8413162128214018\n"
     ]
    }
   ],
   "source": [
    "for i in range(1,25):\n",
    "    pnl_df,stats,picks = long_short_portfolio_pnl(y_test,i,snp_ticker_df)\n",
    "    print(f\"Sharpe Ratio of long_short@{i} is {stats.loc['sharpe_ratio']}\")"
   ]
  },
  {
   "cell_type": "markdown",
   "metadata": {},
   "source": [
    "# Analyzing top 10 portfolio"
   ]
  },
  {
   "cell_type": "code",
   "execution_count": 24,
   "metadata": {},
   "outputs": [
    {
     "data": {
      "text/plain": [
       "sharpe_ratio    1.805186\n",
       "avg_return      0.259926\n",
       "std_dev         0.143989\n",
       "dtype: float64"
      ]
     },
     "execution_count": 24,
     "metadata": {},
     "output_type": "execute_result"
    }
   ],
   "source": [
    "pnl_df,stats,picks = long_short_portfolio_pnl(y_test,10,snp_ticker_df)\n",
    "stats"
   ]
  },
  {
   "cell_type": "markdown",
   "metadata": {},
   "source": [
    "# Stocks picked by Id (count) plot\n",
    "\n",
    ">> Long_1 Is the predicted stock with the highest return\n",
    ">> Long_2 Is the predicted stock with the highest return ,Long_3  and so on.."
   ]
  },
  {
   "cell_type": "code",
   "execution_count": 17,
   "metadata": {},
   "outputs": [
    {
     "data": {
      "image/png": "[encoded data removed]",
      "text/plain": [
       "<Figure size 1500x500 with 1 Axes>"
      ]
     },
     "metadata": {},
     "output_type": "display_data"
    },
    {
     "data": {
      "image/png": "[encoded data removed]",
      "text/plain": [
       "<Figure size 1500x500 with 1 Axes>"
      ]
     },
     "metadata": {},
     "output_type": "display_data"
    }
   ],
   "source": [
    "for i in range(1,3):\n",
    "    plt.figure(figsize=(15, 5))\n",
    "    sns.barplot(picks[f\"Long_{i}\"].value_counts(),width=0.5)"
   ]
  },
  {
   "cell_type": "markdown",
   "metadata": {},
   "source": [
    "# Markets beta/IR"
   ]
  },
  {
   "cell_type": "code",
   "execution_count": 18,
   "metadata": {},
   "outputs": [
    {
     "name": "stderr",
     "output_type": "stream",
     "text": [
      "/var/folders/vf/gw1t6f4j3mv84kp8kpw4j_bw0000gn/T/ipykernel_10080/1600184353.py:20: FutureWarning: Series.__getitem__ treating keys as positions is deprecated. In a future version, integer keys will always be treated as labels (consistent with DataFrame behavior). To access a value by position, use `ser.iloc[pos]`\n",
      "  alpha = model.params[0] * annualize\n",
      "/var/folders/vf/gw1t6f4j3mv84kp8kpw4j_bw0000gn/T/ipykernel_10080/1600184353.py:20: FutureWarning: Series.__getitem__ treating keys as positions is deprecated. In a future version, integer keys will always be treated as labels (consistent with DataFrame behavior). To access a value by position, use `ser.iloc[pos]`\n",
      "  alpha = model.params[0] * annualize\n",
      "/var/folders/vf/gw1t6f4j3mv84kp8kpw4j_bw0000gn/T/ipykernel_10080/1600184353.py:20: FutureWarning: Series.__getitem__ treating keys as positions is deprecated. In a future version, integer keys will always be treated as labels (consistent with DataFrame behavior). To access a value by position, use `ser.iloc[pos]`\n",
      "  alpha = model.params[0] * annualize\n",
      "/var/folders/vf/gw1t6f4j3mv84kp8kpw4j_bw0000gn/T/ipykernel_10080/1600184353.py:20: FutureWarning: Series.__getitem__ treating keys as positions is deprecated. In a future version, integer keys will always be treated as labels (consistent with DataFrame behavior). To access a value by position, use `ser.iloc[pos]`\n",
      "  alpha = model.params[0] * annualize\n",
      "/var/folders/vf/gw1t6f4j3mv84kp8kpw4j_bw0000gn/T/ipykernel_10080/1600184353.py:20: FutureWarning: Series.__getitem__ treating keys as positions is deprecated. In a future version, integer keys will always be treated as labels (consistent with DataFrame behavior). To access a value by position, use `ser.iloc[pos]`\n",
      "  alpha = model.params[0] * annualize\n",
      "/var/folders/vf/gw1t6f4j3mv84kp8kpw4j_bw0000gn/T/ipykernel_10080/1600184353.py:20: FutureWarning: Series.__getitem__ treating keys as positions is deprecated. In a future version, integer keys will always be treated as labels (consistent with DataFrame behavior). To access a value by position, use `ser.iloc[pos]`\n",
      "  alpha = model.params[0] * annualize\n",
      "/var/folders/vf/gw1t6f4j3mv84kp8kpw4j_bw0000gn/T/ipykernel_10080/1600184353.py:20: FutureWarning: Series.__getitem__ treating keys as positions is deprecated. In a future version, integer keys will always be treated as labels (consistent with DataFrame behavior). To access a value by position, use `ser.iloc[pos]`\n",
      "  alpha = model.params[0] * annualize\n",
      "/var/folders/vf/gw1t6f4j3mv84kp8kpw4j_bw0000gn/T/ipykernel_10080/1600184353.py:20: FutureWarning: Series.__getitem__ treating keys as positions is deprecated. In a future version, integer keys will always be treated as labels (consistent with DataFrame behavior). To access a value by position, use `ser.iloc[pos]`\n",
      "  alpha = model.params[0] * annualize\n",
      "/var/folders/vf/gw1t6f4j3mv84kp8kpw4j_bw0000gn/T/ipykernel_10080/1600184353.py:20: FutureWarning: Series.__getitem__ treating keys as positions is deprecated. In a future version, integer keys will always be treated as labels (consistent with DataFrame behavior). To access a value by position, use `ser.iloc[pos]`\n",
      "  alpha = model.params[0] * annualize\n",
      "/var/folders/vf/gw1t6f4j3mv84kp8kpw4j_bw0000gn/T/ipykernel_10080/1600184353.py:20: FutureWarning: Series.__getitem__ treating keys as positions is deprecated. In a future version, integer keys will always be treated as labels (consistent with DataFrame behavior). To access a value by position, use `ser.iloc[pos]`\n",
      "  alpha = model.params[0] * annualize\n",
      "/var/folders/vf/gw1t6f4j3mv84kp8kpw4j_bw0000gn/T/ipykernel_10080/1600184353.py:20: FutureWarning: Series.__getitem__ treating keys as positions is deprecated. In a future version, integer keys will always be treated as labels (consistent with DataFrame behavior). To access a value by position, use `ser.iloc[pos]`\n",
      "  alpha = model.params[0] * annualize\n",
      "/var/folders/vf/gw1t6f4j3mv84kp8kpw4j_bw0000gn/T/ipykernel_10080/1600184353.py:20: FutureWarning: Series.__getitem__ treating keys as positions is deprecated. In a future version, integer keys will always be treated as labels (consistent with DataFrame behavior). To access a value by position, use `ser.iloc[pos]`\n",
      "  alpha = model.params[0] * annualize\n",
      "/var/folders/vf/gw1t6f4j3mv84kp8kpw4j_bw0000gn/T/ipykernel_10080/1600184353.py:20: FutureWarning: Series.__getitem__ treating keys as positions is deprecated. In a future version, integer keys will always be treated as labels (consistent with DataFrame behavior). To access a value by position, use `ser.iloc[pos]`\n",
      "  alpha = model.params[0] * annualize\n",
      "/var/folders/vf/gw1t6f4j3mv84kp8kpw4j_bw0000gn/T/ipykernel_10080/1600184353.py:20: FutureWarning: Series.__getitem__ treating keys as positions is deprecated. In a future version, integer keys will always be treated as labels (consistent with DataFrame behavior). To access a value by position, use `ser.iloc[pos]`\n",
      "  alpha = model.params[0] * annualize\n",
      "/var/folders/vf/gw1t6f4j3mv84kp8kpw4j_bw0000gn/T/ipykernel_10080/1600184353.py:20: FutureWarning: Series.__getitem__ treating keys as positions is deprecated. In a future version, integer keys will always be treated as labels (consistent with DataFrame behavior). To access a value by position, use `ser.iloc[pos]`\n",
      "  alpha = model.params[0] * annualize\n",
      "/var/folders/vf/gw1t6f4j3mv84kp8kpw4j_bw0000gn/T/ipykernel_10080/1600184353.py:20: FutureWarning: Series.__getitem__ treating keys as positions is deprecated. In a future version, integer keys will always be treated as labels (consistent with DataFrame behavior). To access a value by position, use `ser.iloc[pos]`\n",
      "  alpha = model.params[0] * annualize\n",
      "/var/folders/vf/gw1t6f4j3mv84kp8kpw4j_bw0000gn/T/ipykernel_10080/1600184353.py:20: FutureWarning: Series.__getitem__ treating keys as positions is deprecated. In a future version, integer keys will always be treated as labels (consistent with DataFrame behavior). To access a value by position, use `ser.iloc[pos]`\n",
      "  alpha = model.params[0] * annualize\n",
      "/var/folders/vf/gw1t6f4j3mv84kp8kpw4j_bw0000gn/T/ipykernel_10080/1600184353.py:20: FutureWarning: Series.__getitem__ treating keys as positions is deprecated. In a future version, integer keys will always be treated as labels (consistent with DataFrame behavior). To access a value by position, use `ser.iloc[pos]`\n",
      "  alpha = model.params[0] * annualize\n",
      "/var/folders/vf/gw1t6f4j3mv84kp8kpw4j_bw0000gn/T/ipykernel_10080/1600184353.py:20: FutureWarning: Series.__getitem__ treating keys as positions is deprecated. In a future version, integer keys will always be treated as labels (consistent with DataFrame behavior). To access a value by position, use `ser.iloc[pos]`\n",
      "  alpha = model.params[0] * annualize\n",
      "/var/folders/vf/gw1t6f4j3mv84kp8kpw4j_bw0000gn/T/ipykernel_10080/1600184353.py:20: FutureWarning: Series.__getitem__ treating keys as positions is deprecated. In a future version, integer keys will always be treated as labels (consistent with DataFrame behavior). To access a value by position, use `ser.iloc[pos]`\n",
      "  alpha = model.params[0] * annualize\n",
      "/var/folders/vf/gw1t6f4j3mv84kp8kpw4j_bw0000gn/T/ipykernel_10080/1600184353.py:20: FutureWarning: Series.__getitem__ treating keys as positions is deprecated. In a future version, integer keys will always be treated as labels (consistent with DataFrame behavior). To access a value by position, use `ser.iloc[pos]`\n",
      "  alpha = model.params[0] * annualize\n",
      "/var/folders/vf/gw1t6f4j3mv84kp8kpw4j_bw0000gn/T/ipykernel_10080/1600184353.py:20: FutureWarning: Series.__getitem__ treating keys as positions is deprecated. In a future version, integer keys will always be treated as labels (consistent with DataFrame behavior). To access a value by position, use `ser.iloc[pos]`\n",
      "  alpha = model.params[0] * annualize\n",
      "/var/folders/vf/gw1t6f4j3mv84kp8kpw4j_bw0000gn/T/ipykernel_10080/1600184353.py:20: FutureWarning: Series.__getitem__ treating keys as positions is deprecated. In a future version, integer keys will always be treated as labels (consistent with DataFrame behavior). To access a value by position, use `ser.iloc[pos]`\n",
      "  alpha = model.params[0] * annualize\n"
     ]
    }
   ],
   "source": [
    "pnl_cols = [col for col in picks.columns if col.endswith(\"_pnl\")]\n",
    "def LFPM_TS(assets, factors, annualize = 12, name = 'asset', treynor = False, mkt_name = 'vwretd'):\n",
    "    \n",
    "    if isinstance(assets,pd.Series):\n",
    "        assets = pd.DataFrame(assets,columns=name)\n",
    "    \n",
    "    model_output = pd.DataFrame()\n",
    "    stats_output = pd.DataFrame()\n",
    "    \n",
    "    x = sm.add_constant(factors)\n",
    "    \n",
    "    for asset in assets.columns:\n",
    "        \n",
    "        y = assets[asset]\n",
    "        model = sm.OLS(y,x).fit()\n",
    "        \n",
    "        model_output[asset] = model.params\n",
    "        \n",
    "        mu = y.mean() * annualize\n",
    "        alpha = model.params[0] * annualize\n",
    "        sig_ep = model.resid.std() * np.sqrt(annualize)\n",
    "        IR = alpha / sig_ep\n",
    "        \n",
    "        stats_output[asset] = pd.Series(data = [alpha,IR],index = ['Alpha','IR'])\n",
    "        \n",
    "        if treynor:\n",
    "            mkt = model.params[mkt_name]\n",
    "            TR = mu / mkt\n",
    "            \n",
    "            stats_output.loc['Treynor',asset] = TR\n",
    "    \n",
    "    model_output = model_output.rename({\"x1\":'beta'})\n",
    "        \n",
    "    return pd.concat([model_output,stats_output],axis=0)\n",
    "\n",
    "# making them contemperous\n",
    "mkt_rets = market_df[market_df.index>=pd.to_datetime('2018-01-01')].shift(1).dropna().values\n",
    "market_stats = LFPM_TS(picks[pnl_cols],mkt_rets)\n"
   ]
  },
  {
   "cell_type": "code",
   "execution_count": 22,
   "metadata": {},
   "outputs": [
    {
     "data": {
      "text/html": [
       "<div>\n",
       "<style scoped>\n",
       "    .dataframe tbody tr th:only-of-type {\n",
       "        vertical-align: middle;\n",
       "    }\n",
       "\n",
       "    .dataframe tbody tr th {\n",
       "        vertical-align: top;\n",
       "    }\n",
       "\n",
       "    .dataframe thead th {\n",
       "        text-align: right;\n",
       "    }\n",
       "</style>\n",
       "<table border=\"1\" class=\"dataframe\">\n",
       "  <thead>\n",
       "    <tr style=\"text-align: right;\">\n",
       "      <th></th>\n",
       "      <th>Portfolio_pnl</th>\n",
       "      <th>Short_only_pnl</th>\n",
       "      <th>Long_only_pnl</th>\n",
       "      <th>Short_10_pnl</th>\n",
       "      <th>Short_9_pnl</th>\n",
       "      <th>Short_8_pnl</th>\n",
       "      <th>Short_7_pnl</th>\n",
       "      <th>Short_6_pnl</th>\n",
       "      <th>Short_5_pnl</th>\n",
       "      <th>Short_4_pnl</th>\n",
       "      <th>...</th>\n",
       "      <th>Long_10_pnl</th>\n",
       "      <th>Long_9_pnl</th>\n",
       "      <th>Long_8_pnl</th>\n",
       "      <th>Long_7_pnl</th>\n",
       "      <th>Long_6_pnl</th>\n",
       "      <th>Long_5_pnl</th>\n",
       "      <th>Long_4_pnl</th>\n",
       "      <th>Long_3_pnl</th>\n",
       "      <th>Long_2_pnl</th>\n",
       "      <th>Long_1_pnl</th>\n",
       "    </tr>\n",
       "  </thead>\n",
       "  <tbody>\n",
       "    <tr>\n",
       "      <th>const</th>\n",
       "      <td>0.021057</td>\n",
       "      <td>-0.005237</td>\n",
       "      <td>0.026294</td>\n",
       "      <td>-0.017361</td>\n",
       "      <td>0.004817</td>\n",
       "      <td>-0.009740</td>\n",
       "      <td>-0.019003</td>\n",
       "      <td>0.001114</td>\n",
       "      <td>-0.021063</td>\n",
       "      <td>-0.000137</td>\n",
       "      <td>...</td>\n",
       "      <td>0.037717</td>\n",
       "      <td>0.069838</td>\n",
       "      <td>0.039076</td>\n",
       "      <td>0.052219</td>\n",
       "      <td>0.071570</td>\n",
       "      <td>0.045532</td>\n",
       "      <td>0.045100</td>\n",
       "      <td>0.092312</td>\n",
       "      <td>0.018621</td>\n",
       "      <td>0.053901</td>\n",
       "    </tr>\n",
       "    <tr>\n",
       "      <th>beta</th>\n",
       "      <td>0.053698</td>\n",
       "      <td>0.057016</td>\n",
       "      <td>-0.003318</td>\n",
       "      <td>0.152195</td>\n",
       "      <td>0.102676</td>\n",
       "      <td>0.103791</td>\n",
       "      <td>0.188822</td>\n",
       "      <td>-0.043133</td>\n",
       "      <td>0.196031</td>\n",
       "      <td>-0.008628</td>\n",
       "      <td>...</td>\n",
       "      <td>-0.949367</td>\n",
       "      <td>-0.191173</td>\n",
       "      <td>-0.408414</td>\n",
       "      <td>-0.155002</td>\n",
       "      <td>0.802312</td>\n",
       "      <td>-0.545018</td>\n",
       "      <td>1.052703</td>\n",
       "      <td>0.365777</td>\n",
       "      <td>-0.431812</td>\n",
       "      <td>0.393634</td>\n",
       "    </tr>\n",
       "    <tr>\n",
       "      <th>Alpha</th>\n",
       "      <td>0.252690</td>\n",
       "      <td>-0.062842</td>\n",
       "      <td>0.315532</td>\n",
       "      <td>-0.208328</td>\n",
       "      <td>0.057799</td>\n",
       "      <td>-0.116877</td>\n",
       "      <td>-0.228039</td>\n",
       "      <td>0.013373</td>\n",
       "      <td>-0.252755</td>\n",
       "      <td>-0.001644</td>\n",
       "      <td>...</td>\n",
       "      <td>0.452601</td>\n",
       "      <td>0.838058</td>\n",
       "      <td>0.468909</td>\n",
       "      <td>0.626630</td>\n",
       "      <td>0.858840</td>\n",
       "      <td>0.546388</td>\n",
       "      <td>0.541199</td>\n",
       "      <td>1.107744</td>\n",
       "      <td>0.223453</td>\n",
       "      <td>0.646809</td>\n",
       "    </tr>\n",
       "    <tr>\n",
       "      <th>IR</th>\n",
       "      <td>1.748009</td>\n",
       "      <td>-0.672207</td>\n",
       "      <td>1.711023</td>\n",
       "      <td>-0.672478</td>\n",
       "      <td>0.170904</td>\n",
       "      <td>-0.393812</td>\n",
       "      <td>-0.858653</td>\n",
       "      <td>0.044090</td>\n",
       "      <td>-0.917569</td>\n",
       "      <td>-0.004983</td>\n",
       "      <td>...</td>\n",
       "      <td>0.705004</td>\n",
       "      <td>1.285045</td>\n",
       "      <td>0.872255</td>\n",
       "      <td>1.013980</td>\n",
       "      <td>0.829260</td>\n",
       "      <td>0.907968</td>\n",
       "      <td>0.647862</td>\n",
       "      <td>1.328459</td>\n",
       "      <td>0.323895</td>\n",
       "      <td>0.791784</td>\n",
       "    </tr>\n",
       "  </tbody>\n",
       "</table>\n",
       "<p>4 rows × 23 columns</p>\n",
       "</div>"
      ],
      "text/plain": [
       "       Portfolio_pnl  Short_only_pnl  Long_only_pnl  Short_10_pnl  \\\n",
       "const       0.021057       -0.005237       0.026294     -0.017361   \n",
       "beta        0.053698        0.057016      -0.003318      0.152195   \n",
       "Alpha       0.252690       -0.062842       0.315532     -0.208328   \n",
       "IR          1.748009       -0.672207       1.711023     -0.672478   \n",
       "\n",
       "       Short_9_pnl  Short_8_pnl  Short_7_pnl  Short_6_pnl  Short_5_pnl  \\\n",
       "const     0.004817    -0.009740    -0.019003     0.001114    -0.021063   \n",
       "beta      0.102676     0.103791     0.188822    -0.043133     0.196031   \n",
       "Alpha     0.057799    -0.116877    -0.228039     0.013373    -0.252755   \n",
       "IR        0.170904    -0.393812    -0.858653     0.044090    -0.917569   \n",
       "\n",
       "       Short_4_pnl  ...  Long_10_pnl  Long_9_pnl  Long_8_pnl  Long_7_pnl  \\\n",
       "const    -0.000137  ...     0.037717    0.069838    0.039076    0.052219   \n",
       "beta     -0.008628  ...    -0.949367   -0.191173   -0.408414   -0.155002   \n",
       "Alpha    -0.001644  ...     0.452601    0.838058    0.468909    0.626630   \n",
       "IR       -0.004983  ...     0.705004    1.285045    0.872255    1.013980   \n",
       "\n",
       "       Long_6_pnl  Long_5_pnl  Long_4_pnl  Long_3_pnl  Long_2_pnl  Long_1_pnl  \n",
       "const    0.071570    0.045532    0.045100    0.092312    0.018621    0.053901  \n",
       "beta     0.802312   -0.545018    1.052703    0.365777   -0.431812    0.393634  \n",
       "Alpha    0.858840    0.546388    0.541199    1.107744    0.223453    0.646809  \n",
       "IR       0.829260    0.907968    0.647862    1.328459    0.323895    0.791784  \n",
       "\n",
       "[4 rows x 23 columns]"
      ]
     },
     "execution_count": 22,
     "metadata": {},
     "output_type": "execute_result"
    }
   ],
   "source": [
    "market_stats[market_stats.columns[::-1]]"
   ]
  },
  {
   "cell_type": "markdown",
   "metadata": {},
   "source": [
    "Market Neutral as expected, but exposure to other factors like size may not be zero"
   ]
  },
  {
   "cell_type": "code",
   "execution_count": 19,
   "metadata": {},
   "outputs": [
    {
     "data": {
      "text/html": [
       "<div>\n",
       "<style scoped>\n",
       "    .dataframe tbody tr th:only-of-type {\n",
       "        vertical-align: middle;\n",
       "    }\n",
       "\n",
       "    .dataframe tbody tr th {\n",
       "        vertical-align: top;\n",
       "    }\n",
       "\n",
       "    .dataframe thead th {\n",
       "        text-align: right;\n",
       "    }\n",
       "</style>\n",
       "<table border=\"1\" class=\"dataframe\">\n",
       "  <thead>\n",
       "    <tr style=\"text-align: right;\">\n",
       "      <th></th>\n",
       "      <th>mean</th>\n",
       "      <th>std</th>\n",
       "      <th>sharpe</th>\n",
       "      <th>skew</th>\n",
       "      <th>kurtosis</th>\n",
       "      <th>var_0.05</th>\n",
       "      <th>cvar_0.05</th>\n",
       "    </tr>\n",
       "  </thead>\n",
       "  <tbody>\n",
       "    <tr>\n",
       "      <th>Long_1_pnl</th>\n",
       "      <td>0.699857</td>\n",
       "      <td>0.819803</td>\n",
       "      <td>0.853690</td>\n",
       "      <td>0.354212</td>\n",
       "      <td>1.167748</td>\n",
       "      <td>-0.219670</td>\n",
       "      <td>-0.386436</td>\n",
       "    </tr>\n",
       "    <tr>\n",
       "      <th>Long_2_pnl</th>\n",
       "      <td>0.165260</td>\n",
       "      <td>0.694025</td>\n",
       "      <td>0.238118</td>\n",
       "      <td>0.728338</td>\n",
       "      <td>0.024694</td>\n",
       "      <td>-0.213392</td>\n",
       "      <td>-0.302269</td>\n",
       "    </tr>\n",
       "    <tr>\n",
       "      <th>Long_3_pnl</th>\n",
       "      <td>1.157038</td>\n",
       "      <td>0.836312</td>\n",
       "      <td>1.383500</td>\n",
       "      <td>0.759041</td>\n",
       "      <td>0.586751</td>\n",
       "      <td>-0.243832</td>\n",
       "      <td>-0.282317</td>\n",
       "    </tr>\n",
       "    <tr>\n",
       "      <th>Long_4_pnl</th>\n",
       "      <td>0.683067</td>\n",
       "      <td>0.855453</td>\n",
       "      <td>0.798486</td>\n",
       "      <td>2.822952</td>\n",
       "      <td>14.167341</td>\n",
       "      <td>-0.208256</td>\n",
       "      <td>-0.291011</td>\n",
       "    </tr>\n",
       "    <tr>\n",
       "      <th>Long_5_pnl</th>\n",
       "      <td>0.472938</td>\n",
       "      <td>0.609289</td>\n",
       "      <td>0.776213</td>\n",
       "      <td>0.700062</td>\n",
       "      <td>0.455858</td>\n",
       "      <td>-0.189998</td>\n",
       "      <td>-0.225033</td>\n",
       "    </tr>\n",
       "    <tr>\n",
       "      <th>Long_6_pnl</th>\n",
       "      <td>0.966964</td>\n",
       "      <td>1.045153</td>\n",
       "      <td>0.925189</td>\n",
       "      <td>2.228708</td>\n",
       "      <td>7.585150</td>\n",
       "      <td>-0.281215</td>\n",
       "      <td>-0.363574</td>\n",
       "    </tr>\n",
       "    <tr>\n",
       "      <th>Long_7_pnl</th>\n",
       "      <td>0.605741</td>\n",
       "      <td>0.618586</td>\n",
       "      <td>0.979235</td>\n",
       "      <td>1.657843</td>\n",
       "      <td>5.681245</td>\n",
       "      <td>-0.169813</td>\n",
       "      <td>-0.202642</td>\n",
       "    </tr>\n",
       "    <tr>\n",
       "      <th>Long_8_pnl</th>\n",
       "      <td>0.413868</td>\n",
       "      <td>0.542317</td>\n",
       "      <td>0.763148</td>\n",
       "      <td>0.575975</td>\n",
       "      <td>0.493396</td>\n",
       "      <td>-0.179293</td>\n",
       "      <td>-0.217701</td>\n",
       "    </tr>\n",
       "    <tr>\n",
       "      <th>Long_9_pnl</th>\n",
       "      <td>0.812295</td>\n",
       "      <td>0.653021</td>\n",
       "      <td>1.243903</td>\n",
       "      <td>1.408423</td>\n",
       "      <td>3.420978</td>\n",
       "      <td>-0.149291</td>\n",
       "      <td>-0.206534</td>\n",
       "    </tr>\n",
       "    <tr>\n",
       "      <th>Long_10_pnl</th>\n",
       "      <td>0.324659</td>\n",
       "      <td>0.663154</td>\n",
       "      <td>0.489569</td>\n",
       "      <td>0.863587</td>\n",
       "      <td>0.870981</td>\n",
       "      <td>-0.201894</td>\n",
       "      <td>-0.290182</td>\n",
       "    </tr>\n",
       "    <tr>\n",
       "      <th>Short_1_pnl</th>\n",
       "      <td>-0.183321</td>\n",
       "      <td>0.295255</td>\n",
       "      <td>-0.620891</td>\n",
       "      <td>0.496254</td>\n",
       "      <td>2.061530</td>\n",
       "      <td>-0.139072</td>\n",
       "      <td>-0.177288</td>\n",
       "    </tr>\n",
       "    <tr>\n",
       "      <th>Short_2_pnl</th>\n",
       "      <td>-0.186083</td>\n",
       "      <td>0.272680</td>\n",
       "      <td>-0.682422</td>\n",
       "      <td>-0.490229</td>\n",
       "      <td>-0.072334</td>\n",
       "      <td>-0.160521</td>\n",
       "      <td>-0.187669</td>\n",
       "    </tr>\n",
       "    <tr>\n",
       "      <th>Short_3_pnl</th>\n",
       "      <td>-0.090508</td>\n",
       "      <td>0.283379</td>\n",
       "      <td>-0.319387</td>\n",
       "      <td>0.111106</td>\n",
       "      <td>1.415916</td>\n",
       "      <td>-0.146264</td>\n",
       "      <td>-0.168903</td>\n",
       "    </tr>\n",
       "    <tr>\n",
       "      <th>Short_4_pnl</th>\n",
       "      <td>-0.002807</td>\n",
       "      <td>0.329949</td>\n",
       "      <td>-0.008507</td>\n",
       "      <td>1.367835</td>\n",
       "      <td>6.310284</td>\n",
       "      <td>-0.128018</td>\n",
       "      <td>-0.168467</td>\n",
       "    </tr>\n",
       "    <tr>\n",
       "      <th>Short_5_pnl</th>\n",
       "      <td>-0.226337</td>\n",
       "      <td>0.277591</td>\n",
       "      <td>-0.815359</td>\n",
       "      <td>-0.672043</td>\n",
       "      <td>1.899315</td>\n",
       "      <td>-0.145037</td>\n",
       "      <td>-0.193731</td>\n",
       "    </tr>\n",
       "    <tr>\n",
       "      <th>Short_6_pnl</th>\n",
       "      <td>0.007560</td>\n",
       "      <td>0.303406</td>\n",
       "      <td>0.024917</td>\n",
       "      <td>0.535452</td>\n",
       "      <td>1.831087</td>\n",
       "      <td>-0.113629</td>\n",
       "      <td>-0.154135</td>\n",
       "    </tr>\n",
       "    <tr>\n",
       "      <th>Short_7_pnl</th>\n",
       "      <td>-0.202592</td>\n",
       "      <td>0.267627</td>\n",
       "      <td>-0.756994</td>\n",
       "      <td>-0.132258</td>\n",
       "      <td>-0.382254</td>\n",
       "      <td>-0.154805</td>\n",
       "      <td>-0.174340</td>\n",
       "    </tr>\n",
       "    <tr>\n",
       "      <th>Short_8_pnl</th>\n",
       "      <td>-0.102890</td>\n",
       "      <td>0.297341</td>\n",
       "      <td>-0.346034</td>\n",
       "      <td>-1.019631</td>\n",
       "      <td>1.795510</td>\n",
       "      <td>-0.160073</td>\n",
       "      <td>-0.225610</td>\n",
       "    </tr>\n",
       "    <tr>\n",
       "      <th>Short_9_pnl</th>\n",
       "      <td>0.071636</td>\n",
       "      <td>0.338672</td>\n",
       "      <td>0.211521</td>\n",
       "      <td>1.603770</td>\n",
       "      <td>7.327629</td>\n",
       "      <td>-0.110672</td>\n",
       "      <td>-0.157420</td>\n",
       "    </tr>\n",
       "    <tr>\n",
       "      <th>Short_10_pnl</th>\n",
       "      <td>-0.187818</td>\n",
       "      <td>0.310936</td>\n",
       "      <td>-0.604040</td>\n",
       "      <td>0.081547</td>\n",
       "      <td>0.122066</td>\n",
       "      <td>-0.141106</td>\n",
       "      <td>-0.189299</td>\n",
       "    </tr>\n",
       "    <tr>\n",
       "      <th>Long_only_pnl</th>\n",
       "      <td>0.315084</td>\n",
       "      <td>0.184412</td>\n",
       "      <td>1.708589</td>\n",
       "      <td>0.768554</td>\n",
       "      <td>1.162972</td>\n",
       "      <td>-0.052273</td>\n",
       "      <td>-0.066215</td>\n",
       "    </tr>\n",
       "    <tr>\n",
       "      <th>Short_only_pnl</th>\n",
       "      <td>-0.055158</td>\n",
       "      <td>0.094017</td>\n",
       "      <td>-0.586680</td>\n",
       "      <td>0.477887</td>\n",
       "      <td>0.658304</td>\n",
       "      <td>-0.044622</td>\n",
       "      <td>-0.053072</td>\n",
       "    </tr>\n",
       "    <tr>\n",
       "      <th>Portfolio_pnl</th>\n",
       "      <td>0.259926</td>\n",
       "      <td>0.144864</td>\n",
       "      <td>1.794278</td>\n",
       "      <td>0.765935</td>\n",
       "      <td>0.655951</td>\n",
       "      <td>-0.030607</td>\n",
       "      <td>-0.045082</td>\n",
       "    </tr>\n",
       "  </tbody>\n",
       "</table>\n",
       "</div>"
      ],
      "text/plain": [
       "                    mean       std    sharpe      skew   kurtosis  var_0.05  \\\n",
       "Long_1_pnl      0.699857  0.819803  0.853690  0.354212   1.167748 -0.219670   \n",
       "Long_2_pnl      0.165260  0.694025  0.238118  0.728338   0.024694 -0.213392   \n",
       "Long_3_pnl      1.157038  0.836312  1.383500  0.759041   0.586751 -0.243832   \n",
       "Long_4_pnl      0.683067  0.855453  0.798486  2.822952  14.167341 -0.208256   \n",
       "Long_5_pnl      0.472938  0.609289  0.776213  0.700062   0.455858 -0.189998   \n",
       "Long_6_pnl      0.966964  1.045153  0.925189  2.228708   7.585150 -0.281215   \n",
       "Long_7_pnl      0.605741  0.618586  0.979235  1.657843   5.681245 -0.169813   \n",
       "Long_8_pnl      0.413868  0.542317  0.763148  0.575975   0.493396 -0.179293   \n",
       "Long_9_pnl      0.812295  0.653021  1.243903  1.408423   3.420978 -0.149291   \n",
       "Long_10_pnl     0.324659  0.663154  0.489569  0.863587   0.870981 -0.201894   \n",
       "Short_1_pnl    -0.183321  0.295255 -0.620891  0.496254   2.061530 -0.139072   \n",
       "Short_2_pnl    -0.186083  0.272680 -0.682422 -0.490229  -0.072334 -0.160521   \n",
       "Short_3_pnl    -0.090508  0.283379 -0.319387  0.111106   1.415916 -0.146264   \n",
       "Short_4_pnl    -0.002807  0.329949 -0.008507  1.367835   6.310284 -0.128018   \n",
       "Short_5_pnl    -0.226337  0.277591 -0.815359 -0.672043   1.899315 -0.145037   \n",
       "Short_6_pnl     0.007560  0.303406  0.024917  0.535452   1.831087 -0.113629   \n",
       "Short_7_pnl    -0.202592  0.267627 -0.756994 -0.132258  -0.382254 -0.154805   \n",
       "Short_8_pnl    -0.102890  0.297341 -0.346034 -1.019631   1.795510 -0.160073   \n",
       "Short_9_pnl     0.071636  0.338672  0.211521  1.603770   7.327629 -0.110672   \n",
       "Short_10_pnl   -0.187818  0.310936 -0.604040  0.081547   0.122066 -0.141106   \n",
       "Long_only_pnl   0.315084  0.184412  1.708589  0.768554   1.162972 -0.052273   \n",
       "Short_only_pnl -0.055158  0.094017 -0.586680  0.477887   0.658304 -0.044622   \n",
       "Portfolio_pnl   0.259926  0.144864  1.794278  0.765935   0.655951 -0.030607   \n",
       "\n",
       "                cvar_0.05  \n",
       "Long_1_pnl      -0.386436  \n",
       "Long_2_pnl      -0.302269  \n",
       "Long_3_pnl      -0.282317  \n",
       "Long_4_pnl      -0.291011  \n",
       "Long_5_pnl      -0.225033  \n",
       "Long_6_pnl      -0.363574  \n",
       "Long_7_pnl      -0.202642  \n",
       "Long_8_pnl      -0.217701  \n",
       "Long_9_pnl      -0.206534  \n",
       "Long_10_pnl     -0.290182  \n",
       "Short_1_pnl     -0.177288  \n",
       "Short_2_pnl     -0.187669  \n",
       "Short_3_pnl     -0.168903  \n",
       "Short_4_pnl     -0.168467  \n",
       "Short_5_pnl     -0.193731  \n",
       "Short_6_pnl     -0.154135  \n",
       "Short_7_pnl     -0.174340  \n",
       "Short_8_pnl     -0.225610  \n",
       "Short_9_pnl     -0.157420  \n",
       "Short_10_pnl    -0.189299  \n",
       "Long_only_pnl   -0.066215  \n",
       "Short_only_pnl  -0.053072  \n",
       "Portfolio_pnl   -0.045082  "
      ]
     },
     "execution_count": 19,
     "metadata": {},
     "output_type": "execute_result"
    }
   ],
   "source": [
    "\n",
    "\n",
    "# Decile Sharpes\n",
    "def stats(returns,annualize = 12, q = 0.05):\n",
    "\n",
    "    output = returns.agg(['mean','std'])\n",
    "    output.loc['sharpe'] = output.loc['mean'] / output.loc['std']\n",
    "    output.loc['mean'] *= annualize\n",
    "    output.loc['std'] *= np.sqrt(annualize)\n",
    "    output.loc['sharpe'] *= np.sqrt(annualize)\n",
    "    output.loc['skew'] = returns.skew()\n",
    "    output.loc['kurtosis'] = returns.kurtosis()\n",
    "    output.loc['var_%s'%q] = returns.quantile(q)\n",
    "    output.loc['cvar_%s'%q] = returns[returns<= returns.quantile(q)].mean()\n",
    "    return output.T\n",
    "stats(picks[pnl_cols])\n"
   ]
  },
  {
   "cell_type": "markdown",
   "metadata": {},
   "source": [
    "# Winrates"
   ]
  },
  {
   "cell_type": "code",
   "execution_count": 20,
   "metadata": {},
   "outputs": [
    {
     "data": {
      "text/html": [
       "<div>\n",
       "<style scoped>\n",
       "    .dataframe tbody tr th:only-of-type {\n",
       "        vertical-align: middle;\n",
       "    }\n",
       "\n",
       "    .dataframe tbody tr th {\n",
       "        vertical-align: top;\n",
       "    }\n",
       "\n",
       "    .dataframe thead th {\n",
       "        text-align: right;\n",
       "    }\n",
       "</style>\n",
       "<table border=\"1\" class=\"dataframe\">\n",
       "  <thead>\n",
       "    <tr style=\"text-align: right;\">\n",
       "      <th></th>\n",
       "      <th>Long</th>\n",
       "      <th>Short</th>\n",
       "    </tr>\n",
       "  </thead>\n",
       "  <tbody>\n",
       "    <tr>\n",
       "      <th>1</th>\n",
       "      <td>0.530120</td>\n",
       "      <td>0.385542</td>\n",
       "    </tr>\n",
       "    <tr>\n",
       "      <th>2</th>\n",
       "      <td>0.445783</td>\n",
       "      <td>0.493976</td>\n",
       "    </tr>\n",
       "    <tr>\n",
       "      <th>3</th>\n",
       "      <td>0.602410</td>\n",
       "      <td>0.493976</td>\n",
       "    </tr>\n",
       "    <tr>\n",
       "      <th>4</th>\n",
       "      <td>0.626506</td>\n",
       "      <td>0.445783</td>\n",
       "    </tr>\n",
       "    <tr>\n",
       "      <th>5</th>\n",
       "      <td>0.518072</td>\n",
       "      <td>0.421687</td>\n",
       "    </tr>\n",
       "    <tr>\n",
       "      <th>6</th>\n",
       "      <td>0.578313</td>\n",
       "      <td>0.457831</td>\n",
       "    </tr>\n",
       "    <tr>\n",
       "      <th>7</th>\n",
       "      <td>0.590361</td>\n",
       "      <td>0.433735</td>\n",
       "    </tr>\n",
       "    <tr>\n",
       "      <th>8</th>\n",
       "      <td>0.530120</td>\n",
       "      <td>0.542169</td>\n",
       "    </tr>\n",
       "    <tr>\n",
       "      <th>9</th>\n",
       "      <td>0.590361</td>\n",
       "      <td>0.481928</td>\n",
       "    </tr>\n",
       "    <tr>\n",
       "      <th>10</th>\n",
       "      <td>0.481928</td>\n",
       "      <td>0.409639</td>\n",
       "    </tr>\n",
       "    <tr>\n",
       "      <th>All</th>\n",
       "      <td>0.674699</td>\n",
       "      <td>0.385542</td>\n",
       "    </tr>\n",
       "    <tr>\n",
       "      <th>Portfolio</th>\n",
       "      <td>0.710843</td>\n",
       "      <td>0.710843</td>\n",
       "    </tr>\n",
       "  </tbody>\n",
       "</table>\n",
       "</div>"
      ],
      "text/plain": [
       "               Long     Short\n",
       "1          0.530120  0.385542\n",
       "2          0.445783  0.493976\n",
       "3          0.602410  0.493976\n",
       "4          0.626506  0.445783\n",
       "5          0.518072  0.421687\n",
       "6          0.578313  0.457831\n",
       "7          0.590361  0.433735\n",
       "8          0.530120  0.542169\n",
       "9          0.590361  0.481928\n",
       "10         0.481928  0.409639\n",
       "All        0.674699  0.385542\n",
       "Portfolio  0.710843  0.710843"
      ]
     },
     "execution_count": 20,
     "metadata": {},
     "output_type": "execute_result"
    }
   ],
   "source": [
    "\n",
    "winRates= pd.DataFrame()\n",
    "for i in range(1,11):\n",
    "    winRates.loc[i,f\"Long\"] = (picks[f\"Long_{i}_pnl\"]>0).mean()\n",
    "    winRates.loc[i,f\"Short\"] = (picks[f\"Short_{i}_pnl\"]>0).mean()\n",
    "\n",
    "winRates.loc['All',f\"Long\"] = (picks[f\"Long_only_pnl\"]>0).mean()\n",
    "winRates.loc['All',f\"Short\"] = (picks[f\"Short_only_pnl\"]>0).mean()\n",
    "winRates.loc['Portfolio','Long'] = (picks['Portfolio_pnl']>0).mean()\n",
    "winRates.loc['Portfolio','Short'] = (picks['Portfolio_pnl']>0).mean()\n",
    "\n",
    "winRates"
   ]
  },
  {
   "cell_type": "markdown",
   "metadata": {},
   "source": [
    "# Other Portfolio Metrics"
   ]
  },
  {
   "cell_type": "code",
   "execution_count": 21,
   "metadata": {},
   "outputs": [
    {
     "data": {
      "image/png": "[encoded data removed]",
      "text/plain": [
       "<Figure size 1200x600 with 2 Axes>"
      ]
     },
     "metadata": {},
     "output_type": "display_data"
    }
   ],
   "source": [
    "\n",
    "pnl_df['cumulative_return'] = (1 + pnl_df[\"pnl\"].fillna(0)).cumprod() - 1\n",
    "pnl_df['drawdown'] = (pnl_df['cumulative_return'] - pnl_df['cumulative_return'].cummax()) / pnl_df['cumulative_return'].cummax()\n",
    "pnl_df['max_drawdown'] = pnl_df['drawdown'].min()\n",
    "\n",
    "plt.figure(figsize=(12, 6))\n",
    "\n",
    "plt.subplot(2, 1, 1)\n",
    "plt.plot(pnl_df['date'], pnl_df['cumulative_return']) \n",
    "plt.title('Cumulative Return')\n",
    "plt.xlabel('Date')\n",
    "plt.ylabel('Cumulative Return')\n",
    "plt.grid(True)\n",
    "\n",
    "plt.subplot(2, 1, 2)\n",
    "plt.plot(pnl_df['date'], pnl_df['pnl']) \n",
    "plt.title('Daily PnL')\n",
    "plt.xlabel('Date')\n",
    "plt.ylabel('PnL')\n",
    "plt.grid(True)\n",
    "\n",
    "plt.tight_layout()\n",
    "plt.show()"
   ]
  },
  {
   "cell_type": "code",
   "execution_count": null,
   "metadata": {},
   "outputs": [],
   "source": []
  }
 ],
 "metadata": {
  "kernelspec": {
   "display_name": ".venv",
   "language": "python",
   "name": "python3"
  },
  "language_info": {
   "codemirror_mode": {
    "name": "ipython",
    "version": 3
   },
   "file_extension": ".py",
   "mimetype": "text/x-python",
   "name": "python",
   "nbconvert_exporter": "python",
   "pygments_lexer": "ipython3",
   "version": "3.11.9"
  }
 },
 "nbformat": 4,
 "nbformat_minor": 2
}
