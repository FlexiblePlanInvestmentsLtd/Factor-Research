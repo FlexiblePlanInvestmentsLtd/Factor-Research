{
 "cells": [
  {
   "cell_type": "code",
   "execution_count": 1,
   "metadata": {},
   "outputs": [],
   "source": [
    "import sys\n",
    "sys.path.insert(0, \"/home/sam/projects/Factor-Research/src/\")\n",
    "\n",
    "from util import backtest_utilities\n",
    "import pandas as pd\n",
    "import numpy as np"
   ]
  },
  {
   "cell_type": "code",
   "execution_count": 2,
   "metadata": {},
   "outputs": [
    {
     "data": {
      "text/html": [
       "<div>\n",
       "<style scoped>\n",
       "    .dataframe tbody tr th:only-of-type {\n",
       "        vertical-align: middle;\n",
       "    }\n",
       "\n",
       "    .dataframe tbody tr th {\n",
       "        vertical-align: top;\n",
       "    }\n",
       "\n",
       "    .dataframe thead th {\n",
       "        text-align: right;\n",
       "    }\n",
       "</style>\n",
       "<table border=\"1\" class=\"dataframe\">\n",
       "  <thead>\n",
       "    <tr style=\"text-align: right;\">\n",
       "      <th></th>\n",
       "      <th>SPY</th>\n",
       "      <th>JPM</th>\n",
       "      <th>MSFT</th>\n",
       "      <th>AAPL</th>\n",
       "      <th>AGG</th>\n",
       "      <th>TLT</th>\n",
       "    </tr>\n",
       "    <tr>\n",
       "      <th>Date</th>\n",
       "      <th></th>\n",
       "      <th></th>\n",
       "      <th></th>\n",
       "      <th></th>\n",
       "      <th></th>\n",
       "      <th></th>\n",
       "    </tr>\n",
       "  </thead>\n",
       "  <tbody>\n",
       "    <tr>\n",
       "      <th>2003-09-29</th>\n",
       "      <td>0.009805</td>\n",
       "      <td>0.013454</td>\n",
       "      <td>0.022703</td>\n",
       "      <td>0.029483</td>\n",
       "      <td>-0.002733</td>\n",
       "      <td>-0.008002</td>\n",
       "    </tr>\n",
       "    <tr>\n",
       "      <th>2003-09-30</th>\n",
       "      <td>-0.009710</td>\n",
       "      <td>-0.009235</td>\n",
       "      <td>-0.035727</td>\n",
       "      <td>-0.027230</td>\n",
       "      <td>0.005187</td>\n",
       "      <td>0.016594</td>\n",
       "    </tr>\n",
       "    <tr>\n",
       "      <th>2003-10-01</th>\n",
       "      <td>0.021311</td>\n",
       "      <td>0.030586</td>\n",
       "      <td>0.025899</td>\n",
       "      <td>0.003379</td>\n",
       "      <td>-0.000487</td>\n",
       "      <td>-0.003776</td>\n",
       "    </tr>\n",
       "    <tr>\n",
       "      <th>2003-10-02</th>\n",
       "      <td>0.003625</td>\n",
       "      <td>-0.000565</td>\n",
       "      <td>-0.000701</td>\n",
       "      <td>-0.010582</td>\n",
       "      <td>-0.001559</td>\n",
       "      <td>-0.004570</td>\n",
       "    </tr>\n",
       "    <tr>\n",
       "      <th>2003-10-03</th>\n",
       "      <td>0.009175</td>\n",
       "      <td>0.004283</td>\n",
       "      <td>0.020351</td>\n",
       "      <td>0.054448</td>\n",
       "      <td>-0.007220</td>\n",
       "      <td>-0.021006</td>\n",
       "    </tr>\n",
       "    <tr>\n",
       "      <th>...</th>\n",
       "      <td>...</td>\n",
       "      <td>...</td>\n",
       "      <td>...</td>\n",
       "      <td>...</td>\n",
       "      <td>...</td>\n",
       "      <td>...</td>\n",
       "    </tr>\n",
       "    <tr>\n",
       "      <th>2025-01-06</th>\n",
       "      <td>0.005761</td>\n",
       "      <td>-0.004850</td>\n",
       "      <td>0.010630</td>\n",
       "      <td>0.006739</td>\n",
       "      <td>-0.001033</td>\n",
       "      <td>-0.004468</td>\n",
       "    </tr>\n",
       "    <tr>\n",
       "      <th>2025-01-07</th>\n",
       "      <td>-0.011304</td>\n",
       "      <td>0.009632</td>\n",
       "      <td>-0.012808</td>\n",
       "      <td>-0.011388</td>\n",
       "      <td>-0.003516</td>\n",
       "      <td>-0.011277</td>\n",
       "    </tr>\n",
       "    <tr>\n",
       "      <th>2025-01-08</th>\n",
       "      <td>0.001461</td>\n",
       "      <td>-0.000164</td>\n",
       "      <td>0.005185</td>\n",
       "      <td>0.002023</td>\n",
       "      <td>0.001141</td>\n",
       "      <td>0.001280</td>\n",
       "    </tr>\n",
       "    <tr>\n",
       "      <th>2025-01-10</th>\n",
       "      <td>-0.015267</td>\n",
       "      <td>-0.013408</td>\n",
       "      <td>-0.013214</td>\n",
       "      <td>-0.024104</td>\n",
       "      <td>-0.005597</td>\n",
       "      <td>-0.006626</td>\n",
       "    </tr>\n",
       "    <tr>\n",
       "      <th>2025-01-13</th>\n",
       "      <td>0.001550</td>\n",
       "      <td>0.018093</td>\n",
       "      <td>-0.004201</td>\n",
       "      <td>-0.010344</td>\n",
       "      <td>-0.000938</td>\n",
       "      <td>-0.000351</td>\n",
       "    </tr>\n",
       "  </tbody>\n",
       "</table>\n",
       "<p>5358 rows × 6 columns</p>\n",
       "</div>"
      ],
      "text/plain": [
       "                 SPY       JPM      MSFT      AAPL       AGG       TLT\n",
       "Date                                                                  \n",
       "2003-09-29  0.009805  0.013454  0.022703  0.029483 -0.002733 -0.008002\n",
       "2003-09-30 -0.009710 -0.009235 -0.035727 -0.027230  0.005187  0.016594\n",
       "2003-10-01  0.021311  0.030586  0.025899  0.003379 -0.000487 -0.003776\n",
       "2003-10-02  0.003625 -0.000565 -0.000701 -0.010582 -0.001559 -0.004570\n",
       "2003-10-03  0.009175  0.004283  0.020351  0.054448 -0.007220 -0.021006\n",
       "...              ...       ...       ...       ...       ...       ...\n",
       "2025-01-06  0.005761 -0.004850  0.010630  0.006739 -0.001033 -0.004468\n",
       "2025-01-07 -0.011304  0.009632 -0.012808 -0.011388 -0.003516 -0.011277\n",
       "2025-01-08  0.001461 -0.000164  0.005185  0.002023  0.001141  0.001280\n",
       "2025-01-10 -0.015267 -0.013408 -0.013214 -0.024104 -0.005597 -0.006626\n",
       "2025-01-13  0.001550  0.018093 -0.004201 -0.010344 -0.000938 -0.000351\n",
       "\n",
       "[5358 rows x 6 columns]"
      ]
     },
     "execution_count": 2,
     "metadata": {},
     "output_type": "execute_result"
    }
   ],
   "source": [
    "df=pd.read_excel(\"/home/sam/projects/Factor-Research/test/Resources/ExcelFiles/backtest returns sample.xlsx\").set_index(\"Date\")\n",
    "df=df.dropna()\n",
    "df"
   ]
  },
  {
   "cell_type": "code",
   "execution_count": 3,
   "metadata": {},
   "outputs": [
    {
     "data": {
      "text/plain": [
       "array([ 254,  275,  296,  318,  338,  357,  379,  400,  421,  443,  463,\n",
       "        486,  507,  528,  549,  570,  590,  609,  632,  651,  673,  695,\n",
       "        715,  738,  758,  780,  801,  821,  841,  860,  882,  902,  924,\n",
       "        945,  966,  989, 1008, 1031, 1052, 1072, 1093, 1113, 1133, 1155,\n",
       "       1176, 1197, 1219, 1240, 1261, 1284, 1303, 1325, 1345, 1364, 1386,\n",
       "       1407, 1427, 1449, 1471, 1492, 1513, 1535, 1555, 1577, 1596, 1615,\n",
       "       1638, 1659, 1679, 1701, 1722, 1744, 1765, 1786, 1807, 1829, 1849,\n",
       "       1868, 1891, 1911, 1932, 1954, 1974, 1997, 2018, 2039, 2060, 2081,\n",
       "       2101, 2121, 2143, 2163, 2185, 2206, 2227, 2250, 2269, 2290, 2311,\n",
       "       2331, 2352, 2371, 2391, 2413, 2435, 2455, 2477, 2499, 2519, 2542,\n",
       "       2562, 2583, 2604, 2623, 2644, 2665, 2686, 2707, 2729, 2750, 2771,\n",
       "       2794, 2813, 2835, 2855, 2874, 2896, 2917, 2937, 2959, 2981, 3002,\n",
       "       3023, 3045, 3065, 3087, 3106, 3126, 3148, 3169, 3190, 3212, 3232,\n",
       "       3255, 3276, 3297, 3318, 3339, 3359, 3378, 3401, 3420, 3442, 3464,\n",
       "       3484, 3507, 3527, 3549, 3570, 3590, 3611, 3630, 3651, 3672, 3694,\n",
       "       3715, 3736, 3759, 3778, 3801, 3822, 3841, 3862, 3881, 3902, 3923,\n",
       "       3945, 3965, 3987, 4009, 4029, 4052, 4072, 4093, 4114, 4133, 4155,\n",
       "       4176, 4196, 4218, 4240, 4261, 4282, 4304, 4324, 4346, 4365, 4384,\n",
       "       4407, 4428, 4448, 4470, 4491, 4513, 4534, 4555, 4576, 4598, 4618,\n",
       "       4637, 4660, 4680, 4701, 4722, 4742, 4765, 4786, 4807, 4828, 4849,\n",
       "       4869, 4888, 4911, 4930, 4952, 4973, 4993, 5016, 5036, 5058, 5079,\n",
       "       5099, 5120, 5140, 5160, 5182, 5204, 5223, 5245, 5267, 5287, 5310,\n",
       "       5330, 5351, 5357])"
      ]
     },
     "execution_count": 3,
     "metadata": {},
     "output_type": "execute_result"
    }
   ],
   "source": [
    "rebalance_indexes=backtest_utilities.GetReblanceIndexes(df.to_numpy(), df.index, \"M\")\n",
    "rebalance_indexes"
   ]
  },
  {
   "cell_type": "code",
   "execution_count": 4,
   "metadata": {},
   "outputs": [],
   "source": [
    "allocations=np.zeros((rebalance_indexes.shape[0], df.shape[1]+1)) # you add the plus 1 so cash will be in allocations\n",
    "allocations[:,:-1]=1/df.shape[1]\n"
   ]
  },
  {
   "cell_type": "code",
   "execution_count": 5,
   "metadata": {},
   "outputs": [],
   "source": [
    "bt=backtest_utilities.GetBacktestReturns(df.to_numpy(), allocations, rebalance_indexes, np.zeros(df.shape[0]))"
   ]
  },
  {
   "cell_type": "code",
   "execution_count": 13,
   "metadata": {},
   "outputs": [
    {
     "data": {
      "text/plain": [
       "<Axes: xlabel='Date'>"
      ]
     },
     "execution_count": 13,
     "metadata": {},
     "output_type": "execute_result"
    },
    {
     "data": {
      "image/png": "[encoded data removed]",
      "text/plain": [
       "<Figure size 640x480 with 1 Axes>"
      ]
     },
     "metadata": {},
     "output_type": "display_data"
    }
   ],
   "source": [
    "bt_df=pd.DataFrame(bt, index=df.index)\n",
    "(1+bt_df).cumprod().plot()"
   ]
  }
 ],
 "metadata": {
  "language_info": {
   "name": "python"
  }
 },
 "nbformat": 4,
 "nbformat_minor": 2
}
